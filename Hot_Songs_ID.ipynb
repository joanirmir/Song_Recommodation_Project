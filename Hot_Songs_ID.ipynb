{
 "cells": [
  {
   "cell_type": "markdown",
   "id": "b834be76",
   "metadata": {},
   "source": [
    "# Getting the ID for the Hot Songs"
   ]
  },
  {
   "cell_type": "code",
   "execution_count": 1,
   "id": "d61d0463",
   "metadata": {},
   "outputs": [],
   "source": [
    "import config\n",
    "\n",
    "import os\n",
    "import numpy as np\n",
    "import pandas as pd\n",
    "import spotipy\n",
    "import json\n",
    "from spotipy.oauth2 import SpotifyClientCredentials\n",
    "\n",
    "from time import sleep\n",
    "from random import randint"
   ]
  },
  {
   "cell_type": "code",
   "execution_count": 6,
   "id": "2d562555",
   "metadata": {},
   "outputs": [],
   "source": [
    "#Initialize SpotiPy with user credentias\n",
    "sp = spotipy.Spotify(auth_manager=SpotifyClientCredentials(client_id= config.c_id,\n",
    "                                                           client_secret= config.c_se))"
   ]
  },
  {
   "cell_type": "code",
   "execution_count": null,
   "id": "ab59e8c3",
   "metadata": {},
   "outputs": [],
   "source": [
    "get_spotify_info_for_all_tracks_in_hot_artist_title_csv('music/Hot Songs_miri/official_singles_chart_top_100.csv')"
   ]
  },
  {
   "cell_type": "code",
   "execution_count": null,
   "id": "d14dac05",
   "metadata": {},
   "outputs": [],
   "source": [
    "#get_spotify_info_for_all_tracks_in_hot_artist_title_csv('Data/Hot Songs_miri/uk_hot100_2021-02-14.csv')"
   ]
  },
  {
   "cell_type": "code",
   "execution_count": 10,
   "id": "40ae196c",
   "metadata": {},
   "outputs": [],
   "source": [
    "def display_artist(track_info):\n",
    "## create a single string with all artist names\n",
    "    return \" / \".join([x['name'] for x in track_info['artists']])"
   ]
  },
  {
   "cell_type": "code",
   "execution_count": 7,
   "id": "3448725a",
   "metadata": {},
   "outputs": [],
   "source": [
    "def get_spotify_info_for_all_tracks_in_hot_artist_title_csv(infilepath):\n",
    "    \n",
    "    # extract the name of the input file, without the csv suffix\n",
    "    songlistname = '.'.join(os.path.basename(infilepath).split('.')[:-1])\n",
    "    \n",
    "    outdir = os.path.join('music', 'Hot Songs_miri')\n",
    "    if not os.path.exists(outdir):\n",
    "        os.mkdir(outdir)\n",
    "    outfilename = os.path.join(outdir, f'{songlistname}.csv')\n",
    "    \n",
    "    my_songs_to_find = pd.read_csv(infilepath, index_col=None)\n",
    "        \n",
    "    ids=[]\n",
    "    titles=[]\n",
    "    artists=[]\n",
    "    pp_artist=[]\n",
    "    \n",
    "    for i in range(my_songs_to_find.shape[0]):\n",
    "        ## these are hot songs, assume top hit is correct\n",
    "        results = sp.search(q=my_songs_to_find.title[i], limit=1, market=\"GB\")\n",
    "        track_info = results['tracks']['items'][0]\n",
    "        \n",
    "        ids.append(track_info['id'])\n",
    "        titles.append(track_info['name'])\n",
    "        artists.append([x['name'] for x in track_info['artists']])\n",
    "        pp_artist.append(display_artist(track_info))\n",
    "    \n",
    "    ## --- put the ids, title, and artist all together\n",
    "    hot_tracks_db = pd.DataFrame({'id': ids, 'title': titles, \n",
    "                                  'artists': artists, 'pp_artist': pp_artist})\n",
    "    \n",
    "    hot_tracks_db.to_csv(outfilename, index=False)               \n",
    "    print(f'Saved {hot_tracks_db.shape[0]} tracks in file: {outfilename}')\n",
    "    return"
   ]
  },
  {
   "cell_type": "code",
   "execution_count": 11,
   "id": "4092d2f0",
   "metadata": {},
   "outputs": [
    {
     "name": "stdout",
     "output_type": "stream",
     "text": [
      "Saved 100 tracks in file: music/Hot Songs_miri/official_singles_chart_top_100.csv\n"
     ]
    }
   ],
   "source": [
    "get_spotify_info_for_all_tracks_in_hot_artist_title_csv('music/Hot Songs_miri/official_singles_chart_top_100.csv')"
   ]
  },
  {
   "cell_type": "code",
   "execution_count": null,
   "id": "2e148d01",
   "metadata": {},
   "outputs": [],
   "source": []
  }
 ],
 "metadata": {
  "kernelspec": {
   "display_name": "Python 3 (ipykernel)",
   "language": "python",
   "name": "python3"
  },
  "language_info": {
   "codemirror_mode": {
    "name": "ipython",
    "version": 3
   },
   "file_extension": ".py",
   "mimetype": "text/x-python",
   "name": "python",
   "nbconvert_exporter": "python",
   "pygments_lexer": "ipython3",
   "version": "3.9.7"
  }
 },
 "nbformat": 4,
 "nbformat_minor": 5
}
