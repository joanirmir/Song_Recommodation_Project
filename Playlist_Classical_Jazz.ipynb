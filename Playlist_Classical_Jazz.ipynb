{
 "cells": [
  {
   "cell_type": "code",
   "execution_count": 17,
   "id": "520e24b5",
   "metadata": {},
   "outputs": [],
   "source": [
    "import config"
   ]
  },
  {
   "cell_type": "code",
   "execution_count": 18,
   "id": "76352f65",
   "metadata": {},
   "outputs": [],
   "source": [
    "c_id = config.c_id"
   ]
  },
  {
   "cell_type": "code",
   "execution_count": 19,
   "id": "0186a142",
   "metadata": {},
   "outputs": [],
   "source": [
    "c_se = config.c_se"
   ]
  },
  {
   "cell_type": "code",
   "execution_count": 20,
   "id": "92f244ea",
   "metadata": {},
   "outputs": [],
   "source": [
    "import spotipy\n",
    "import json\n",
    "from spotipy.oauth2 import SpotifyClientCredentials\n",
    "import pandas as pd\n",
    "\n",
    "#Initialize SpotiPy with user credentias\n",
    "sp = spotipy.Spotify(auth_manager=SpotifyClientCredentials(client_id= c_id,\n",
    "                                                           client_secret= c_se))"
   ]
  },
  {
   "cell_type": "code",
   "execution_count": 22,
   "id": "e985c62b",
   "metadata": {},
   "outputs": [],
   "source": [
    "playlist = sp.user_playlist_tracks(\"spotify\", \"421VKR6m3J6ZaLm96w6r6D\",market=\"GB\")"
   ]
  },
  {
   "cell_type": "code",
   "execution_count": 23,
   "id": "f4bfbf83",
   "metadata": {},
   "outputs": [
    {
     "name": "stdout",
     "output_type": "stream",
     "text": [
      "['href', 'items', 'limit', 'next', 'offset', 'previous', 'total']\n",
      "Total number of songs in the playlist:  1724\n"
     ]
    },
    {
     "data": {
      "text/plain": [
       "100"
      ]
     },
     "execution_count": 23,
     "metadata": {},
     "output_type": "execute_result"
    }
   ],
   "source": [
    "print(list(playlist.keys()))\n",
    "print(\"Total number of songs in the playlist: \",playlist[\"total\"])\n",
    "len(playlist[\"items\"])"
   ]
  },
  {
   "cell_type": "code",
   "execution_count": 24,
   "id": "bb00b491",
   "metadata": {},
   "outputs": [],
   "source": [
    "## Using this function\n",
    "def get_playlist_tracks(username, playlist_id):\n",
    "    results = sp.user_playlist_tracks(username,playlist_id,market=\"GB\")\n",
    "    tracks = results['items']\n",
    "    while results['next']:\n",
    "        results = sp.next(results)\n",
    "        tracks.extend(results['items'])\n",
    "    return tracks"
   ]
  },
  {
   "cell_type": "code",
   "execution_count": 25,
   "id": "cb397425",
   "metadata": {},
   "outputs": [
    {
     "data": {
      "text/plain": [
       "1724"
      ]
     },
     "execution_count": 25,
     "metadata": {},
     "output_type": "execute_result"
    }
   ],
   "source": [
    "len(get_playlist_tracks(\"spotify\", \"421VKR6m3J6ZaLm96w6r6D\"))"
   ]
  },
  {
   "cell_type": "code",
   "execution_count": null,
   "id": "8a8df5e5",
   "metadata": {},
   "outputs": [],
   "source": [
    "playlist"
   ]
  },
  {
   "cell_type": "code",
   "execution_count": 26,
   "id": "724b65ed",
   "metadata": {},
   "outputs": [],
   "source": [
    "track_list = get_playlist_tracks(\"spotify\", \"421VKR6m3J6ZaLm96w6r6D\")"
   ]
  },
  {
   "cell_type": "code",
   "execution_count": 27,
   "id": "0965db03",
   "metadata": {},
   "outputs": [
    {
     "data": {
      "text/plain": [
       "'7E84StfoNVyw6U7nuSnUD8'"
      ]
     },
     "execution_count": 27,
     "metadata": {},
     "output_type": "execute_result"
    }
   ],
   "source": [
    "track_list[0]['track']['id']"
   ]
  },
  {
   "cell_type": "code",
   "execution_count": 28,
   "id": "3dd64a40",
   "metadata": {},
   "outputs": [],
   "source": [
    "list_of_songs=[]\n",
    "for index in range(1,len(track_list)):\n",
    "    list_of_songs.append(sp.audio_features(track_list[index][\"track\"][\"id\"])[0])"
   ]
  },
  {
   "cell_type": "code",
   "execution_count": 29,
   "id": "579ffcd2",
   "metadata": {},
   "outputs": [],
   "source": [
    "song_df = pd.DataFrame(list_of_songs)"
   ]
  },
  {
   "cell_type": "code",
   "execution_count": 31,
   "id": "19b95446",
   "metadata": {},
   "outputs": [
    {
     "data": {
      "text/plain": [
       "(1723, 18)"
      ]
     },
     "execution_count": 31,
     "metadata": {},
     "output_type": "execute_result"
    }
   ],
   "source": [
    "song_df.shape"
   ]
  },
  {
   "cell_type": "code",
   "execution_count": 30,
   "id": "57b0eca0",
   "metadata": {},
   "outputs": [],
   "source": [
    "song_df.to_csv('clazzical_1724.csv', index = False)"
   ]
  },
  {
   "cell_type": "code",
   "execution_count": null,
   "id": "8c4bf649",
   "metadata": {},
   "outputs": [],
   "source": [
    "list_of_songs_cleaned =[]\n",
    "\n",
    "for i in list_of_songs:\n",
    "    \n",
    "    if i is None:\n",
    "        pass\n",
    "    else:\n",
    "        list_of_songs_cleaned.append(i)"
   ]
  },
  {
   "cell_type": "code",
   "execution_count": null,
   "id": "652cf1ae",
   "metadata": {},
   "outputs": [],
   "source": [
    "len(list_of_songs_cleaned)"
   ]
  },
  {
   "cell_type": "code",
   "execution_count": null,
   "id": "972659f3",
   "metadata": {},
   "outputs": [],
   "source": [
    "song_df = pd.DataFrame(list_of_songs_cleaned)"
   ]
  }
 ],
 "metadata": {
  "kernelspec": {
   "display_name": "Python 3 (ipykernel)",
   "language": "python",
   "name": "python3"
  },
  "language_info": {
   "codemirror_mode": {
    "name": "ipython",
    "version": 3
   },
   "file_extension": ".py",
   "mimetype": "text/x-python",
   "name": "python",
   "nbconvert_exporter": "python",
   "pygments_lexer": "ipython3",
   "version": "3.9.7"
  }
 },
 "nbformat": 4,
 "nbformat_minor": 5
}
