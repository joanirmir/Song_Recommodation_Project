{
 "cells": [
  {
   "cell_type": "code",
   "execution_count": 60,
   "id": "d6795362",
   "metadata": {},
   "outputs": [],
   "source": [
    "import os\n",
    "import numpy as np\n",
    "import pandas as pd\n",
    "import pickle\n",
    "from time import sleep\n",
    "from random import randint\n",
    "\n",
    "from sklearn import datasets # sklearn comes with some toy datasets to practise\n",
    "from sklearn.preprocessing import StandardScaler\n",
    "from sklearn.cluster import KMeans\n",
    "from sklearn.metrics import silhouette_score\n",
    "\n",
    "import config\n",
    "import spotipy\n",
    "import json\n",
    "from spotipy.oauth2 import SpotifyClientCredentials\n",
    "\n",
    "import matplotlib.pyplot as plt\n",
    "import seaborn as sns\n",
    "%matplotlib inline"
   ]
  },
  {
   "cell_type": "code",
   "execution_count": 61,
   "id": "b41eaf5c",
   "metadata": {},
   "outputs": [],
   "source": [
    "#Initialize SpotiPy with user credentias\n",
    "sp = spotipy.Spotify(auth_manager=SpotifyClientCredentials(client_id= config.client_id,\n",
    "                                                           client_secret= config.client_secret))"
   ]
  },
  {
   "cell_type": "code",
   "execution_count": 18,
   "id": "7ec4e41d",
   "metadata": {},
   "outputs": [],
   "source": [
    "def load(filename = \"filename.pickle\"): \n",
    "    try: \n",
    "        with open(filename, \"rb\") as f: \n",
    "            return pickle.load(f) \n",
    "        \n",
    "    except FileNotFoundError: \n",
    "        print(\"File not found!\") "
   ]
  },
  {
   "cell_type": "code",
   "execution_count": 140,
   "id": "bccd0774",
   "metadata": {},
   "outputs": [],
   "source": [
    "## load data\n",
    "indir_list = ['music/audio features_miri/', 'Data/audio_features2/', 'zoe/features/aaron_oh_experience/',\n",
    "'zoe/features/party_songs/', 'zoe/features/playlists/', 'zoe/features/ultimate_party_mix/']\n",
    "\n",
    "required_cols = ['id', 'danceability', 'energy', 'key', 'loudness', 'mode', 'speechiness', 'acousticness', \n",
    "                 'instrumentalness', 'liveness', 'valence', 'tempo', 'duration_ms', 'time_signature']\n",
    "\n",
    "infile_list = []\n",
    "for indir in indir_list:\n",
    "    infile_list += [f\"{indir}{x}\" for x in os.listdir(indir)]\n",
    "\n",
    "dfs = []\n",
    "for fname in infile_list:\n",
    "    if fname.endswith(\".csv\"):\n",
    "        tempdf = pd.read_csv(fname, index_col=None)\n",
    "        dfs.append(tempdf[required_cols].drop_duplicates().reset_index(drop=True))\n",
    "    \n",
    "df = pd.concat(dfs, axis=0)\n",
    "df = df.drop_duplicates().reset_index(drop=True)\n"
   ]
  },
  {
   "cell_type": "markdown",
   "id": "a17d4b2c",
   "metadata": {},
   "source": [
    "### checking on the file system\n",
    "\n",
    "```\n",
    "## get info for values in columns:\n",
    "## danceability,energy,key,loudness,mode,speechiness,acousticness,instrumentalness,liveness,valence,tempo,id\n",
    "\n",
    "(da-ironhack) nina@Ninas-Air Song_Recommodation_Project % \n",
    "\n",
    "grep -C 1 6ZahQeSE8fqyvC0jKr7CHA Data/audio_features2/*.csv | cut -d, -f1-11,13 | cut -f 2- -d-\n",
    "\n",
    "0.709,0.803,3,-5.862,0,0.0323,0.101,0.919,0.192,0.356,124.0,6j9smjwHuQRmb41odOHS8Q\n",
    "6.678,1,0.045,0.0272,0.913,0.117,0.0296,123.978,6ZahQeSE8fqyvC0jKr7CHA\n",
    "0.561,0.63,1,-8.019,0,0.0344,0.108,0.178,0.134,0.0378,121.998,6n7bXOBucoX8BOQ8kFopov\n",
    "\n",
    "grep -C 1 6ZahQeSE8fqyvC0jKr7CHA zoe/features/*/*.csv | cut -d, -f1-11,13 | cut -f 2- -d-\n",
    "\n",
    "0.528,0.608,2,-7.071,0,0.0283,0.0364,0.0194,0.112,0.0946,144.973,0mWXMQ8hrrAJfxN7LG2Wsk\n",
    "6.672,1,0.0428,0.0185,0.926,0.115,0.0305,124.004,6ZahQeSE8fqyvC0jKr7CHA\n",
    "0.741,0.902,6,-4.695,0,0.0551,0.0633,0.337,0.143,0.743,125.004,4UV5qm4XHQETdXrVZjIsSU\n",
    "\n",
    "```\n",
    "weird... I dunno, why would we get two slightly different records for the same id?\n"
   ]
  },
  {
   "cell_type": "code",
   "execution_count": null,
   "id": "5ecdc4a5",
   "metadata": {},
   "outputs": [],
   "source": []
  },
  {
   "cell_type": "code",
   "execution_count": 141,
   "id": "f8ec858f",
   "metadata": {},
   "outputs": [
    {
     "data": {
      "text/plain": [
       "(51524, 14)"
      ]
     },
     "execution_count": 141,
     "metadata": {},
     "output_type": "execute_result"
    }
   ],
   "source": [
    "df.shape"
   ]
  },
  {
   "cell_type": "code",
   "execution_count": 135,
   "id": "5fd4fc23",
   "metadata": {},
   "outputs": [
    {
     "data": {
      "text/plain": [
       "(0, 14)"
      ]
     },
     "execution_count": 135,
     "metadata": {},
     "output_type": "execute_result"
    }
   ],
   "source": [
    "df[df.isnull().any(axis=1)].shape"
   ]
  },
  {
   "cell_type": "code",
   "execution_count": 136,
   "id": "d73c6bbf",
   "metadata": {},
   "outputs": [
    {
     "data": {
      "text/html": [
       "<div>\n",
       "<style scoped>\n",
       "    .dataframe tbody tr th:only-of-type {\n",
       "        vertical-align: middle;\n",
       "    }\n",
       "\n",
       "    .dataframe tbody tr th {\n",
       "        vertical-align: top;\n",
       "    }\n",
       "\n",
       "    .dataframe thead th {\n",
       "        text-align: right;\n",
       "    }\n",
       "</style>\n",
       "<table border=\"1\" class=\"dataframe\">\n",
       "  <thead>\n",
       "    <tr style=\"text-align: right;\">\n",
       "      <th></th>\n",
       "      <th>id</th>\n",
       "      <th>danceability</th>\n",
       "      <th>energy</th>\n",
       "      <th>key</th>\n",
       "      <th>loudness</th>\n",
       "      <th>mode</th>\n",
       "      <th>speechiness</th>\n",
       "      <th>acousticness</th>\n",
       "      <th>instrumentalness</th>\n",
       "      <th>liveness</th>\n",
       "      <th>valence</th>\n",
       "      <th>tempo</th>\n",
       "      <th>duration_ms</th>\n",
       "      <th>time_signature</th>\n",
       "    </tr>\n",
       "  </thead>\n",
       "  <tbody>\n",
       "    <tr>\n",
       "      <th>45022</th>\n",
       "      <td>6ZahQeSE8fqyvC0jKr7CHA</td>\n",
       "      <td>0.52</td>\n",
       "      <td>0.962</td>\n",
       "      <td>7</td>\n",
       "      <td>-6.672</td>\n",
       "      <td>1</td>\n",
       "      <td>0.0428</td>\n",
       "      <td>0.0185</td>\n",
       "      <td>0.926</td>\n",
       "      <td>0.115</td>\n",
       "      <td>0.0305</td>\n",
       "      <td>124.004</td>\n",
       "      <td>315861</td>\n",
       "      <td>4</td>\n",
       "    </tr>\n",
       "  </tbody>\n",
       "</table>\n",
       "</div>"
      ],
      "text/plain": [
       "                           id  danceability  energy  key  loudness  mode  \\\n",
       "45022  6ZahQeSE8fqyvC0jKr7CHA          0.52   0.962    7    -6.672     1   \n",
       "\n",
       "       speechiness  acousticness  instrumentalness  liveness  valence  \\\n",
       "45022       0.0428        0.0185             0.926     0.115   0.0305   \n",
       "\n",
       "         tempo  duration_ms  time_signature  \n",
       "45022  124.004       315861               4  "
      ]
     },
     "execution_count": 136,
     "metadata": {},
     "output_type": "execute_result"
    }
   ],
   "source": [
    "df[df.id.duplicated()]"
   ]
  },
  {
   "cell_type": "code",
   "execution_count": 142,
   "id": "77360ccd",
   "metadata": {},
   "outputs": [
    {
     "data": {
      "text/html": [
       "<div>\n",
       "<style scoped>\n",
       "    .dataframe tbody tr th:only-of-type {\n",
       "        vertical-align: middle;\n",
       "    }\n",
       "\n",
       "    .dataframe tbody tr th {\n",
       "        vertical-align: top;\n",
       "    }\n",
       "\n",
       "    .dataframe thead th {\n",
       "        text-align: right;\n",
       "    }\n",
       "</style>\n",
       "<table border=\"1\" class=\"dataframe\">\n",
       "  <thead>\n",
       "    <tr style=\"text-align: right;\">\n",
       "      <th></th>\n",
       "      <th>id</th>\n",
       "      <th>danceability</th>\n",
       "      <th>energy</th>\n",
       "      <th>key</th>\n",
       "      <th>loudness</th>\n",
       "      <th>mode</th>\n",
       "      <th>speechiness</th>\n",
       "      <th>acousticness</th>\n",
       "      <th>instrumentalness</th>\n",
       "      <th>liveness</th>\n",
       "      <th>valence</th>\n",
       "      <th>tempo</th>\n",
       "      <th>duration_ms</th>\n",
       "      <th>time_signature</th>\n",
       "    </tr>\n",
       "  </thead>\n",
       "  <tbody>\n",
       "    <tr>\n",
       "      <th>27319</th>\n",
       "      <td>6ZahQeSE8fqyvC0jKr7CHA</td>\n",
       "      <td>0.502</td>\n",
       "      <td>0.959</td>\n",
       "      <td>7</td>\n",
       "      <td>-6.678</td>\n",
       "      <td>1</td>\n",
       "      <td>0.0450</td>\n",
       "      <td>0.0272</td>\n",
       "      <td>0.913</td>\n",
       "      <td>0.117</td>\n",
       "      <td>0.0296</td>\n",
       "      <td>123.978</td>\n",
       "      <td>315877</td>\n",
       "      <td>4</td>\n",
       "    </tr>\n",
       "    <tr>\n",
       "      <th>45022</th>\n",
       "      <td>6ZahQeSE8fqyvC0jKr7CHA</td>\n",
       "      <td>0.520</td>\n",
       "      <td>0.962</td>\n",
       "      <td>7</td>\n",
       "      <td>-6.672</td>\n",
       "      <td>1</td>\n",
       "      <td>0.0428</td>\n",
       "      <td>0.0185</td>\n",
       "      <td>0.926</td>\n",
       "      <td>0.115</td>\n",
       "      <td>0.0305</td>\n",
       "      <td>124.004</td>\n",
       "      <td>315861</td>\n",
       "      <td>4</td>\n",
       "    </tr>\n",
       "  </tbody>\n",
       "</table>\n",
       "</div>"
      ],
      "text/plain": [
       "                           id  danceability  energy  key  loudness  mode  \\\n",
       "27319  6ZahQeSE8fqyvC0jKr7CHA         0.502   0.959    7    -6.678     1   \n",
       "45022  6ZahQeSE8fqyvC0jKr7CHA         0.520   0.962    7    -6.672     1   \n",
       "\n",
       "       speechiness  acousticness  instrumentalness  liveness  valence  \\\n",
       "27319       0.0450        0.0272             0.913     0.117   0.0296   \n",
       "45022       0.0428        0.0185             0.926     0.115   0.0305   \n",
       "\n",
       "         tempo  duration_ms  time_signature  \n",
       "27319  123.978       315877               4  \n",
       "45022  124.004       315861               4  "
      ]
     },
     "execution_count": 142,
     "metadata": {},
     "output_type": "execute_result"
    }
   ],
   "source": [
    "df[df.id == '6ZahQeSE8fqyvC0jKr7CHA']"
   ]
  },
  {
   "cell_type": "markdown",
   "id": "a8f19521",
   "metadata": {},
   "source": [
    "### FIX: ensure id values are unique (just drop one of the dups)"
   ]
  },
  {
   "cell_type": "code",
   "execution_count": 143,
   "id": "b881faef",
   "metadata": {},
   "outputs": [],
   "source": [
    "df = df.drop_duplicates('id').reset_index(drop=True)"
   ]
  },
  {
   "cell_type": "code",
   "execution_count": 144,
   "id": "808eadcb",
   "metadata": {},
   "outputs": [
    {
     "data": {
      "text/plain": [
       "(51523, 14)"
      ]
     },
     "execution_count": 144,
     "metadata": {},
     "output_type": "execute_result"
    }
   ],
   "source": [
    "df.shape"
   ]
  },
  {
   "cell_type": "code",
   "execution_count": 145,
   "id": "28299b55",
   "metadata": {},
   "outputs": [
    {
     "data": {
      "text/html": [
       "<div>\n",
       "<style scoped>\n",
       "    .dataframe tbody tr th:only-of-type {\n",
       "        vertical-align: middle;\n",
       "    }\n",
       "\n",
       "    .dataframe tbody tr th {\n",
       "        vertical-align: top;\n",
       "    }\n",
       "\n",
       "    .dataframe thead th {\n",
       "        text-align: right;\n",
       "    }\n",
       "</style>\n",
       "<table border=\"1\" class=\"dataframe\">\n",
       "  <thead>\n",
       "    <tr style=\"text-align: right;\">\n",
       "      <th></th>\n",
       "      <th>id</th>\n",
       "      <th>danceability</th>\n",
       "      <th>energy</th>\n",
       "      <th>key</th>\n",
       "      <th>loudness</th>\n",
       "      <th>mode</th>\n",
       "      <th>speechiness</th>\n",
       "      <th>acousticness</th>\n",
       "      <th>instrumentalness</th>\n",
       "      <th>liveness</th>\n",
       "      <th>valence</th>\n",
       "      <th>tempo</th>\n",
       "      <th>duration_ms</th>\n",
       "      <th>time_signature</th>\n",
       "    </tr>\n",
       "  </thead>\n",
       "  <tbody>\n",
       "    <tr>\n",
       "      <th>27319</th>\n",
       "      <td>6ZahQeSE8fqyvC0jKr7CHA</td>\n",
       "      <td>0.502</td>\n",
       "      <td>0.959</td>\n",
       "      <td>7</td>\n",
       "      <td>-6.678</td>\n",
       "      <td>1</td>\n",
       "      <td>0.045</td>\n",
       "      <td>0.0272</td>\n",
       "      <td>0.913</td>\n",
       "      <td>0.117</td>\n",
       "      <td>0.0296</td>\n",
       "      <td>123.978</td>\n",
       "      <td>315877</td>\n",
       "      <td>4</td>\n",
       "    </tr>\n",
       "  </tbody>\n",
       "</table>\n",
       "</div>"
      ],
      "text/plain": [
       "                           id  danceability  energy  key  loudness  mode  \\\n",
       "27319  6ZahQeSE8fqyvC0jKr7CHA         0.502   0.959    7    -6.678     1   \n",
       "\n",
       "       speechiness  acousticness  instrumentalness  liveness  valence  \\\n",
       "27319        0.045        0.0272             0.913     0.117   0.0296   \n",
       "\n",
       "         tempo  duration_ms  time_signature  \n",
       "27319  123.978       315877               4  "
      ]
     },
     "execution_count": 145,
     "metadata": {},
     "output_type": "execute_result"
    }
   ],
   "source": [
    "## aside: which one did we keep? first\n",
    "df[df.id == '6ZahQeSE8fqyvC0jKr7CHA']"
   ]
  },
  {
   "cell_type": "markdown",
   "id": "b157b4a4",
   "metadata": {},
   "source": [
    "### But wait, there's still more duplication... keep unique features only\n",
    "\n",
    "ie drop records that differ by id only"
   ]
  },
  {
   "cell_type": "code",
   "execution_count": 152,
   "id": "604b1709",
   "metadata": {},
   "outputs": [
    {
     "data": {
      "text/html": [
       "<div>\n",
       "<style scoped>\n",
       "    .dataframe tbody tr th:only-of-type {\n",
       "        vertical-align: middle;\n",
       "    }\n",
       "\n",
       "    .dataframe tbody tr th {\n",
       "        vertical-align: top;\n",
       "    }\n",
       "\n",
       "    .dataframe thead th {\n",
       "        text-align: right;\n",
       "    }\n",
       "</style>\n",
       "<table border=\"1\" class=\"dataframe\">\n",
       "  <thead>\n",
       "    <tr style=\"text-align: right;\">\n",
       "      <th></th>\n",
       "      <th>id</th>\n",
       "      <th>danceability</th>\n",
       "      <th>energy</th>\n",
       "      <th>key</th>\n",
       "      <th>loudness</th>\n",
       "      <th>mode</th>\n",
       "      <th>speechiness</th>\n",
       "      <th>acousticness</th>\n",
       "      <th>instrumentalness</th>\n",
       "      <th>liveness</th>\n",
       "      <th>valence</th>\n",
       "      <th>tempo</th>\n",
       "      <th>duration_ms</th>\n",
       "      <th>time_signature</th>\n",
       "    </tr>\n",
       "  </thead>\n",
       "  <tbody>\n",
       "    <tr>\n",
       "      <th>2028</th>\n",
       "      <td>3YeJXuRSNS5FYwOsDu44kD</td>\n",
       "      <td>0.28</td>\n",
       "      <td>0.821</td>\n",
       "      <td>8</td>\n",
       "      <td>-2.864</td>\n",
       "      <td>0</td>\n",
       "      <td>0.111</td>\n",
       "      <td>0.167</td>\n",
       "      <td>0.0</td>\n",
       "      <td>0.139</td>\n",
       "      <td>0.254</td>\n",
       "      <td>181.444</td>\n",
       "      <td>256163</td>\n",
       "      <td>3</td>\n",
       "    </tr>\n",
       "    <tr>\n",
       "      <th>2293</th>\n",
       "      <td>4apiNNK0jp9uqn3JDG9My1</td>\n",
       "      <td>0.28</td>\n",
       "      <td>0.821</td>\n",
       "      <td>8</td>\n",
       "      <td>-2.864</td>\n",
       "      <td>0</td>\n",
       "      <td>0.111</td>\n",
       "      <td>0.167</td>\n",
       "      <td>0.0</td>\n",
       "      <td>0.139</td>\n",
       "      <td>0.254</td>\n",
       "      <td>181.444</td>\n",
       "      <td>256163</td>\n",
       "      <td>3</td>\n",
       "    </tr>\n",
       "  </tbody>\n",
       "</table>\n",
       "</div>"
      ],
      "text/plain": [
       "                          id  danceability  energy  key  loudness  mode  \\\n",
       "2028  3YeJXuRSNS5FYwOsDu44kD          0.28   0.821    8    -2.864     0   \n",
       "2293  4apiNNK0jp9uqn3JDG9My1          0.28   0.821    8    -2.864     0   \n",
       "\n",
       "      speechiness  acousticness  instrumentalness  liveness  valence    tempo  \\\n",
       "2028        0.111         0.167               0.0     0.139    0.254  181.444   \n",
       "2293        0.111         0.167               0.0     0.139    0.254  181.444   \n",
       "\n",
       "      duration_ms  time_signature  \n",
       "2028       256163               3  \n",
       "2293       256163               3  "
      ]
     },
     "execution_count": 152,
     "metadata": {},
     "output_type": "execute_result"
    }
   ],
   "source": [
    "df[df.duration_ms == 256163]"
   ]
  },
  {
   "cell_type": "code",
   "execution_count": 160,
   "id": "66746633",
   "metadata": {},
   "outputs": [
    {
     "data": {
      "text/plain": [
       "(51022, 14)"
      ]
     },
     "execution_count": 160,
     "metadata": {},
     "output_type": "execute_result"
    }
   ],
   "source": [
    "df[~df[['danceability', 'energy', 'key', 'loudness', 'mode',\n",
    "       'speechiness', 'acousticness', 'instrumentalness', 'liveness',\n",
    "       'valence', 'tempo', 'duration_ms', 'time_signature']].duplicated()].shape"
   ]
  },
  {
   "cell_type": "code",
   "execution_count": 161,
   "id": "d9d5b414",
   "metadata": {},
   "outputs": [],
   "source": [
    "df = df[~df[['danceability', 'energy', 'key', 'loudness', 'mode',\n",
    "       'speechiness', 'acousticness', 'instrumentalness', 'liveness',\n",
    "       'valence', 'tempo', 'duration_ms', 'time_signature']].duplicated()].reset_index(drop=True)"
   ]
  },
  {
   "cell_type": "code",
   "execution_count": 162,
   "id": "3181412e",
   "metadata": {},
   "outputs": [
    {
     "data": {
      "text/plain": [
       "(51022, 14)"
      ]
     },
     "execution_count": 162,
     "metadata": {},
     "output_type": "execute_result"
    }
   ],
   "source": [
    "df.shape"
   ]
  },
  {
   "cell_type": "markdown",
   "id": "7db0664a",
   "metadata": {},
   "source": [
    "## Prepare X"
   ]
  },
  {
   "cell_type": "code",
   "execution_count": 163,
   "id": "8e6e039f",
   "metadata": {},
   "outputs": [],
   "source": [
    "## drop id and keep the rest\n",
    "X = df.drop('id', axis=1).reset_index(drop=True)"
   ]
  },
  {
   "cell_type": "code",
   "execution_count": 164,
   "id": "9859059d",
   "metadata": {},
   "outputs": [
    {
     "data": {
      "text/plain": [
       "(0, 13)"
      ]
     },
     "execution_count": 164,
     "metadata": {},
     "output_type": "execute_result"
    }
   ],
   "source": [
    "## confirm no null values\n",
    "X[X.isnull().any(axis=1)].shape"
   ]
  },
  {
   "cell_type": "code",
   "execution_count": 166,
   "id": "a6412167",
   "metadata": {},
   "outputs": [
    {
     "data": {
      "text/plain": [
       "(0, 13)"
      ]
     },
     "execution_count": 166,
     "metadata": {},
     "output_type": "execute_result"
    }
   ],
   "source": [
    "## confirm no duplicates\n",
    "X[X.duplicated()].shape"
   ]
  },
  {
   "cell_type": "code",
   "execution_count": 167,
   "id": "8fabff2b",
   "metadata": {},
   "outputs": [],
   "source": [
    "## normalize\n",
    "scaler = StandardScaler().fit(X)\n",
    "X_scaled = scaler.transform(X)\n",
    "X_scaled_df = pd.DataFrame(X_scaled, columns = X.columns)"
   ]
  },
  {
   "cell_type": "code",
   "execution_count": 168,
   "id": "a699d95a",
   "metadata": {},
   "outputs": [
    {
     "name": "stdout",
     "output_type": "stream",
     "text": [
      "Saved StandardScaler model as: Model/big-scaler.pickle\n"
     ]
    }
   ],
   "source": [
    "scaler_filename =  \"Model/big-scaler.pickle\"\n",
    "with open(scaler_filename, \"wb\") as f:\n",
    "    pickle.dump(scaler,f)\n",
    "print(f'Saved StandardScaler model as: {scaler_filename}')"
   ]
  },
  {
   "cell_type": "code",
   "execution_count": 169,
   "id": "f052b515",
   "metadata": {},
   "outputs": [],
   "source": [
    "K = range(2, 13)\n",
    "silhouette = []\n",
    "inertia = []\n",
    "\n",
    "for k in K:\n",
    "    kmeans = KMeans(n_clusters=k, random_state=1337)\n",
    "    kmeans.fit(X_scaled_df)\n",
    "    \n",
    "    filename = f\"Model/big_kmeans_{k}.pickle\"\n",
    "    with open(filename, \"wb\") as f:\n",
    "        pickle.dump(kmeans,f)\n",
    "    \n",
    "    inertia.append(kmeans.inertia_)\n",
    "    silhouette.append(silhouette_score(X_scaled_df, kmeans.predict(X_scaled_df)))\n"
   ]
  },
  {
   "cell_type": "code",
   "execution_count": 170,
   "id": "ad721e00",
   "metadata": {},
   "outputs": [
    {
     "data": {
      "image/png": "[encoded data removed]",
      "text/plain": [
       "<Figure size 504x288 with 1 Axes>"
      ]
     },
     "metadata": {
      "needs_background": "light"
     },
     "output_type": "display_data"
    }
   ],
   "source": [
    "### ---- plot silhouette  ------\n",
    "plt.figure(figsize=(7,4))\n",
    "plt.plot(K, silhouette, 'bx-')\n",
    "plt.xlabel('k')\n",
    "plt.ylabel('silhouette score')\n",
    "plt.xticks(np.arange(min(K), max(K)+1, 1.0))\n",
    "plt.title('Silhouette : BIG DATA')\n",
    "plt.show()"
   ]
  },
  {
   "cell_type": "code",
   "execution_count": 171,
   "id": "913a3e76",
   "metadata": {},
   "outputs": [
    {
     "data": {
      "image/png": "[encoded data removed]",
      "text/plain": [
       "<Figure size 504x216 with 1 Axes>"
      ]
     },
     "metadata": {
      "needs_background": "light"
     },
     "output_type": "display_data"
    }
   ],
   "source": [
    "plt.figure(figsize=(7,3))\n",
    "plt.plot(K, inertia, 'bx-')\n",
    "plt.xlabel('k')\n",
    "plt.ylabel('inertia')\n",
    "plt.xticks(np.arange(min(K), max(K)+1, 1.0))\n",
    "plt.title('Elbow Method showing the optimal k')\n",
    "plt.show()"
   ]
  },
  {
   "cell_type": "markdown",
   "id": "e8a1dc26",
   "metadata": {},
   "source": [
    "# Extract cluster label assignment for k=9"
   ]
  },
  {
   "cell_type": "code",
   "execution_count": 232,
   "id": "ef39a5a9",
   "metadata": {},
   "outputs": [],
   "source": [
    "def assess_k_cluster_assignments(kval, df, X_scaled_df):\n",
    "    ## load the trained model with the k == kval\n",
    "    kmeans = load(f\"Model/big_kmeans_{kval}.pickle\")\n",
    "\n",
    "    cluster_run_name = f'k{kval}_cluster'\n",
    "    # create new col in main df with the cluster label the model assigned to each track\n",
    "    df[cluster_run_name] = kmeans.labels_\n",
    "\n",
    "    ## create dictionary of cluster membership for each label\n",
    "    cluster_labels = np.unique(df[cluster_run_name])\n",
    "    cluster_members = {}\n",
    "    for cluster in cluster_labels:\n",
    "        cluster_members[cluster] = np.where(df[cluster_run_name] == cluster)\n",
    "\n",
    "    ## for each cluster label (ky) calculate the mean for each feature\n",
    "    scaled_feature_means_by_cluster = pd.DataFrame([X_scaled_df.loc[cluster_members[ky]].mean(numeric_only=True) for ky in cluster_members.keys()])\n",
    "\n",
    "    ## --- plot results as heatmap\n",
    "    with sns.axes_style(\"white\"):\n",
    "        f, ax = plt.subplots(figsize=(15, 15))\n",
    "        sns.set(font_scale=1.2) \n",
    "        ax = sns.heatmap(scaled_feature_means_by_cluster.T, fmt='.2f', cmap='coolwarm', \n",
    "                         vmin=-1, vmax=1, annot=True, square=True)\n",
    "        plt.tick_params(labelbottom = True, labeltop = True)\n",
    "        \n",
    "    return df, scaled_feature_means_by_cluster, cluster_members\n",
    "    "
   ]
  },
  {
   "cell_type": "code",
   "execution_count": 233,
   "id": "56839dd6",
   "metadata": {
    "scrolled": false
   },
   "outputs": [
    {
     "data": {
      "image/png": "[encoded data removed]",
      "text/plain": [
       "<Figure size 1080x1080 with 2 Axes>"
      ]
     },
     "metadata": {},
     "output_type": "display_data"
    }
   ],
   "source": [
    "df, scaled_feature_means_by_cluster, cluster_members = assess_k_cluster_assignments(9, df, X_scaled_df)"
   ]
  },
  {
   "cell_type": "code",
   "execution_count": 229,
   "id": "45896f39",
   "metadata": {},
   "outputs": [],
   "source": [
    "pd.DataFrame(cluster_desc, [0]).to_csv('Model/k9_cluster_descriptions.csv', index=False)"
   ]
  },
  {
   "cell_type": "code",
   "execution_count": 179,
   "id": "8ecb1af2",
   "metadata": {},
   "outputs": [
    {
     "data": {
      "text/plain": [
       "3    12998\n",
       "5     9519\n",
       "2     7553\n",
       "7     6758\n",
       "4     4329\n",
       "6     4093\n",
       "1     2853\n",
       "8     2583\n",
       "0      336\n",
       "Name: k9_cluster, dtype: int64"
      ]
     },
     "execution_count": 179,
     "metadata": {},
     "output_type": "execute_result"
    }
   ],
   "source": [
    "df.k9_cluster.value_counts()"
   ]
  },
  {
   "cell_type": "markdown",
   "id": "17e54175",
   "metadata": {},
   "source": [
    "## Save feature means to .csv"
   ]
  },
  {
   "cell_type": "code",
   "execution_count": 180,
   "id": "ff9dae5a",
   "metadata": {},
   "outputs": [],
   "source": [
    "## Note: row index is cluster label, so include it in output\n",
    "scaled_feature_means_by_cluster.to_csv('Model/k9_scaled_feature_means_by_cluster.csv')"
   ]
  },
  {
   "cell_type": "code",
   "execution_count": 241,
   "id": "059bb6a7",
   "metadata": {},
   "outputs": [],
   "source": [
    "feature_means_by_cluster = pd.DataFrame([df.loc[cluster_members[ky]].mean(numeric_only=True) for ky in cluster_members.keys()])"
   ]
  },
  {
   "cell_type": "code",
   "execution_count": 242,
   "id": "a39aed54",
   "metadata": {},
   "outputs": [],
   "source": [
    "feature_means_by_cluster = feature_means_by_cluster.drop(columns='k9_cluster').reset_index(drop=True)"
   ]
  },
  {
   "cell_type": "code",
   "execution_count": 243,
   "id": "d115eb33",
   "metadata": {},
   "outputs": [],
   "source": [
    "feature_means_by_cluster.to_csv('Model/k9_UNscaled_feature_means_by_cluster.csv')"
   ]
  },
  {
   "cell_type": "code",
   "execution_count": 244,
   "id": "fb31b555",
   "metadata": {},
   "outputs": [
    {
     "data": {
      "text/html": [
       "<div>\n",
       "<style scoped>\n",
       "    .dataframe tbody tr th:only-of-type {\n",
       "        vertical-align: middle;\n",
       "    }\n",
       "\n",
       "    .dataframe tbody tr th {\n",
       "        vertical-align: top;\n",
       "    }\n",
       "\n",
       "    .dataframe thead th {\n",
       "        text-align: right;\n",
       "    }\n",
       "</style>\n",
       "<table border=\"1\" class=\"dataframe\">\n",
       "  <thead>\n",
       "    <tr style=\"text-align: right;\">\n",
       "      <th></th>\n",
       "      <th>danceability</th>\n",
       "      <th>energy</th>\n",
       "      <th>key</th>\n",
       "      <th>loudness</th>\n",
       "      <th>mode</th>\n",
       "      <th>speechiness</th>\n",
       "      <th>acousticness</th>\n",
       "      <th>instrumentalness</th>\n",
       "      <th>liveness</th>\n",
       "      <th>valence</th>\n",
       "      <th>tempo</th>\n",
       "      <th>duration_ms</th>\n",
       "      <th>time_signature</th>\n",
       "    </tr>\n",
       "  </thead>\n",
       "  <tbody>\n",
       "    <tr>\n",
       "      <th>0</th>\n",
       "      <td>0.387237</td>\n",
       "      <td>0.377602</td>\n",
       "      <td>5.324405</td>\n",
       "      <td>-15.456229</td>\n",
       "      <td>0.639881</td>\n",
       "      <td>0.099385</td>\n",
       "      <td>0.594174</td>\n",
       "      <td>0.328197</td>\n",
       "      <td>0.194847</td>\n",
       "      <td>0.318050</td>\n",
       "      <td>100.122994</td>\n",
       "      <td>195160.473214</td>\n",
       "      <td>0.907738</td>\n",
       "    </tr>\n",
       "    <tr>\n",
       "      <th>1</th>\n",
       "      <td>0.521558</td>\n",
       "      <td>0.747174</td>\n",
       "      <td>5.050123</td>\n",
       "      <td>-7.339253</td>\n",
       "      <td>0.691903</td>\n",
       "      <td>0.090965</td>\n",
       "      <td>0.192198</td>\n",
       "      <td>0.080886</td>\n",
       "      <td>0.705325</td>\n",
       "      <td>0.518549</td>\n",
       "      <td>121.483720</td>\n",
       "      <td>251709.181914</td>\n",
       "      <td>3.962496</td>\n",
       "    </tr>\n",
       "    <tr>\n",
       "      <th>2</th>\n",
       "      <td>0.434512</td>\n",
       "      <td>0.798610</td>\n",
       "      <td>5.077850</td>\n",
       "      <td>-5.948258</td>\n",
       "      <td>0.874619</td>\n",
       "      <td>0.072940</td>\n",
       "      <td>0.079143</td>\n",
       "      <td>0.043411</td>\n",
       "      <td>0.187783</td>\n",
       "      <td>0.444228</td>\n",
       "      <td>151.612303</td>\n",
       "      <td>233617.377863</td>\n",
       "      <td>3.932742</td>\n",
       "    </tr>\n",
       "    <tr>\n",
       "      <th>3</th>\n",
       "      <td>0.664932</td>\n",
       "      <td>0.712254</td>\n",
       "      <td>4.743114</td>\n",
       "      <td>-7.075656</td>\n",
       "      <td>1.000000</td>\n",
       "      <td>0.059570</td>\n",
       "      <td>0.151726</td>\n",
       "      <td>0.024622</td>\n",
       "      <td>0.159967</td>\n",
       "      <td>0.649920</td>\n",
       "      <td>112.860471</td>\n",
       "      <td>219327.703570</td>\n",
       "      <td>3.994538</td>\n",
       "    </tr>\n",
       "    <tr>\n",
       "      <th>4</th>\n",
       "      <td>0.634661</td>\n",
       "      <td>0.713053</td>\n",
       "      <td>5.547240</td>\n",
       "      <td>-9.338600</td>\n",
       "      <td>0.565258</td>\n",
       "      <td>0.057418</td>\n",
       "      <td>0.117230</td>\n",
       "      <td>0.789447</td>\n",
       "      <td>0.146597</td>\n",
       "      <td>0.412625</td>\n",
       "      <td>123.134281</td>\n",
       "      <td>341027.556018</td>\n",
       "      <td>3.971125</td>\n",
       "    </tr>\n",
       "    <tr>\n",
       "      <th>5</th>\n",
       "      <td>0.652783</td>\n",
       "      <td>0.719686</td>\n",
       "      <td>6.146969</td>\n",
       "      <td>-6.769544</td>\n",
       "      <td>0.000000</td>\n",
       "      <td>0.071593</td>\n",
       "      <td>0.139874</td>\n",
       "      <td>0.029492</td>\n",
       "      <td>0.166369</td>\n",
       "      <td>0.584150</td>\n",
       "      <td>119.251138</td>\n",
       "      <td>225180.182162</td>\n",
       "      <td>3.986763</td>\n",
       "    </tr>\n",
       "    <tr>\n",
       "      <th>6</th>\n",
       "      <td>0.715128</td>\n",
       "      <td>0.630748</td>\n",
       "      <td>5.276814</td>\n",
       "      <td>-7.513540</td>\n",
       "      <td>0.595895</td>\n",
       "      <td>0.341442</td>\n",
       "      <td>0.217988</td>\n",
       "      <td>0.012664</td>\n",
       "      <td>0.192983</td>\n",
       "      <td>0.524026</td>\n",
       "      <td>123.155110</td>\n",
       "      <td>204639.763254</td>\n",
       "      <td>3.999756</td>\n",
       "    </tr>\n",
       "    <tr>\n",
       "      <th>7</th>\n",
       "      <td>0.504988</td>\n",
       "      <td>0.331910</td>\n",
       "      <td>5.091003</td>\n",
       "      <td>-11.997189</td>\n",
       "      <td>0.767091</td>\n",
       "      <td>0.047297</td>\n",
       "      <td>0.671091</td>\n",
       "      <td>0.039984</td>\n",
       "      <td>0.153604</td>\n",
       "      <td>0.362931</td>\n",
       "      <td>112.888184</td>\n",
       "      <td>224939.390648</td>\n",
       "      <td>3.832199</td>\n",
       "    </tr>\n",
       "    <tr>\n",
       "      <th>8</th>\n",
       "      <td>0.358529</td>\n",
       "      <td>0.127922</td>\n",
       "      <td>4.891212</td>\n",
       "      <td>-22.395659</td>\n",
       "      <td>0.682927</td>\n",
       "      <td>0.047182</td>\n",
       "      <td>0.916387</td>\n",
       "      <td>0.789410</td>\n",
       "      <td>0.134618</td>\n",
       "      <td>0.223124</td>\n",
       "      <td>105.594068</td>\n",
       "      <td>242042.300039</td>\n",
       "      <td>3.742547</td>\n",
       "    </tr>\n",
       "  </tbody>\n",
       "</table>\n",
       "</div>"
      ],
      "text/plain": [
       "   danceability    energy       key   loudness      mode  speechiness  \\\n",
       "0      0.387237  0.377602  5.324405 -15.456229  0.639881     0.099385   \n",
       "1      0.521558  0.747174  5.050123  -7.339253  0.691903     0.090965   \n",
       "2      0.434512  0.798610  5.077850  -5.948258  0.874619     0.072940   \n",
       "3      0.664932  0.712254  4.743114  -7.075656  1.000000     0.059570   \n",
       "4      0.634661  0.713053  5.547240  -9.338600  0.565258     0.057418   \n",
       "5      0.652783  0.719686  6.146969  -6.769544  0.000000     0.071593   \n",
       "6      0.715128  0.630748  5.276814  -7.513540  0.595895     0.341442   \n",
       "7      0.504988  0.331910  5.091003 -11.997189  0.767091     0.047297   \n",
       "8      0.358529  0.127922  4.891212 -22.395659  0.682927     0.047182   \n",
       "\n",
       "   acousticness  instrumentalness  liveness   valence       tempo  \\\n",
       "0      0.594174          0.328197  0.194847  0.318050  100.122994   \n",
       "1      0.192198          0.080886  0.705325  0.518549  121.483720   \n",
       "2      0.079143          0.043411  0.187783  0.444228  151.612303   \n",
       "3      0.151726          0.024622  0.159967  0.649920  112.860471   \n",
       "4      0.117230          0.789447  0.146597  0.412625  123.134281   \n",
       "5      0.139874          0.029492  0.166369  0.584150  119.251138   \n",
       "6      0.217988          0.012664  0.192983  0.524026  123.155110   \n",
       "7      0.671091          0.039984  0.153604  0.362931  112.888184   \n",
       "8      0.916387          0.789410  0.134618  0.223124  105.594068   \n",
       "\n",
       "     duration_ms  time_signature  \n",
       "0  195160.473214        0.907738  \n",
       "1  251709.181914        3.962496  \n",
       "2  233617.377863        3.932742  \n",
       "3  219327.703570        3.994538  \n",
       "4  341027.556018        3.971125  \n",
       "5  225180.182162        3.986763  \n",
       "6  204639.763254        3.999756  \n",
       "7  224939.390648        3.832199  \n",
       "8  242042.300039        3.742547  "
      ]
     },
     "execution_count": 244,
     "metadata": {},
     "output_type": "execute_result"
    }
   ],
   "source": [
    "feature_means_by_cluster"
   ]
  },
  {
   "cell_type": "markdown",
   "id": "85d90351",
   "metadata": {},
   "source": [
    "# Save id and cluster assignments to .csv"
   ]
  },
  {
   "cell_type": "code",
   "execution_count": 181,
   "id": "01b2701c",
   "metadata": {},
   "outputs": [
    {
     "data": {
      "text/plain": [
       "(51022, 2)"
      ]
     },
     "execution_count": 181,
     "metadata": {},
     "output_type": "execute_result"
    }
   ],
   "source": [
    "## create smaller df with just the id and the cluster labels\n",
    "id_and_labels_df = df[['id', 'k9_cluster']]\n",
    "id_and_labels_df.shape"
   ]
  },
  {
   "cell_type": "code",
   "execution_count": 186,
   "id": "82ef2072",
   "metadata": {},
   "outputs": [
    {
     "data": {
      "text/html": [
       "<div>\n",
       "<style scoped>\n",
       "    .dataframe tbody tr th:only-of-type {\n",
       "        vertical-align: middle;\n",
       "    }\n",
       "\n",
       "    .dataframe tbody tr th {\n",
       "        vertical-align: top;\n",
       "    }\n",
       "\n",
       "    .dataframe thead th {\n",
       "        text-align: right;\n",
       "    }\n",
       "</style>\n",
       "<table border=\"1\" class=\"dataframe\">\n",
       "  <thead>\n",
       "    <tr style=\"text-align: right;\">\n",
       "      <th></th>\n",
       "      <th>id</th>\n",
       "      <th>k9_cluster</th>\n",
       "    </tr>\n",
       "  </thead>\n",
       "  <tbody>\n",
       "  </tbody>\n",
       "</table>\n",
       "</div>"
      ],
      "text/plain": [
       "Empty DataFrame\n",
       "Columns: [id, k9_cluster]\n",
       "Index: []"
      ]
     },
     "execution_count": 186,
     "metadata": {},
     "output_type": "execute_result"
    }
   ],
   "source": [
    "## check for null values -- nothing -- good\n",
    "id_and_labels_df[id_and_labels_df.isnull().any(axis=1)]"
   ]
  },
  {
   "cell_type": "code",
   "execution_count": 187,
   "id": "07e8ca2b",
   "metadata": {},
   "outputs": [
    {
     "data": {
      "text/html": [
       "<div>\n",
       "<style scoped>\n",
       "    .dataframe tbody tr th:only-of-type {\n",
       "        vertical-align: middle;\n",
       "    }\n",
       "\n",
       "    .dataframe tbody tr th {\n",
       "        vertical-align: top;\n",
       "    }\n",
       "\n",
       "    .dataframe thead th {\n",
       "        text-align: right;\n",
       "    }\n",
       "</style>\n",
       "<table border=\"1\" class=\"dataframe\">\n",
       "  <thead>\n",
       "    <tr style=\"text-align: right;\">\n",
       "      <th></th>\n",
       "      <th>id</th>\n",
       "      <th>k9_cluster</th>\n",
       "    </tr>\n",
       "  </thead>\n",
       "  <tbody>\n",
       "  </tbody>\n",
       "</table>\n",
       "</div>"
      ],
      "text/plain": [
       "Empty DataFrame\n",
       "Columns: [id, k9_cluster]\n",
       "Index: []"
      ]
     },
     "execution_count": 187,
     "metadata": {},
     "output_type": "execute_result"
    }
   ],
   "source": [
    "## check for duplicated values -- nothing -- good\n",
    "id_and_labels_df[id_and_labels_df.duplicated()]"
   ]
  },
  {
   "cell_type": "code",
   "execution_count": 183,
   "id": "961f1a98",
   "metadata": {},
   "outputs": [],
   "source": [
    "id_and_labels_df.to_csv('Data/cluster_labels/deduped_big_data_id_and_cluster_labels.csv', index=False)"
   ]
  },
  {
   "cell_type": "markdown",
   "id": "5678462f",
   "metadata": {},
   "source": [
    "## Add artist name and track title "
   ]
  },
  {
   "cell_type": "code",
   "execution_count": 48,
   "id": "f218ede3",
   "metadata": {},
   "outputs": [
    {
     "data": {
      "text/plain": [
       "Index(['id', 'danceability', 'energy', 'key', 'loudness', 'mode',\n",
       "       'speechiness', 'acousticness', 'instrumentalness', 'liveness',\n",
       "       'valence', 'tempo', 'duration_ms', 'time_signature', 'k6_cluster',\n",
       "       'k10_cluster'],\n",
       "      dtype='object')"
      ]
     },
     "execution_count": 48,
     "metadata": {},
     "output_type": "execute_result"
    }
   ],
   "source": [
    "df.columns"
   ]
  },
  {
   "cell_type": "markdown",
   "id": "b506a4d2",
   "metadata": {},
   "source": [
    "# Pasting together the artist-title-id info with the cluster labels"
   ]
  },
  {
   "cell_type": "code",
   "execution_count": 219,
   "id": "e8ccde29",
   "metadata": {},
   "outputs": [
    {
     "name": "stdout",
     "output_type": "stream",
     "text": [
      "Saved new DB file (14924): Data/db/batchA2.csv\n",
      "Saved null records file (1): Data/artist_title_id/null_records/batchA1_nulls.csv\n",
      "Saved new DB file (4996): Data/db/batchA1.csv\n",
      "Saved new DB file (15588): Data/db/batchB.csv\n",
      "Saved null records file (3): Data/artist_title_id/null_records/batchC_nulls.csv\n",
      "Saved new DB file (15511): Data/db/batchC.csv\n"
     ]
    },
    {
     "data": {
      "text/plain": [
       "(4, 2)"
      ]
     },
     "execution_count": 219,
     "metadata": {},
     "output_type": "execute_result"
    }
   ],
   "source": [
    "## load files with track artist and title data\n",
    "indir = 'Data/artist_title_id/'\n",
    "outdir = 'Data/db'\n",
    "\n",
    "infile_list = os.listdir(indir)\n",
    "\n",
    "dfs = []\n",
    "\n",
    "all_ids_list = []\n",
    "for fname in infile_list:\n",
    "    if fname.endswith('.csv'):\n",
    "        ## Load df with track artist and title\n",
    "        fname_df = pd.read_csv(os.path.join(indir, fname), index_col=None)\n",
    "                \n",
    "        ## check for and handle NULL values\n",
    "        fname_nulls = fname_df[fname_df.isnull().any(axis=1)]\n",
    "\n",
    "        if fname_nulls.shape[0] > 0:\n",
    "            null_outfilename = os.path.join(indir, 'null_records', fname.split('.')[0].split('_')[0]+\"_nulls.csv\")\n",
    "            fname_nulls.to_csv(null_outfilename, index=False)\n",
    "            print(f'Saved null records file ({fname_nulls.shape[0]}): {null_outfilename}')\n",
    "            \n",
    "            #drop the null records and continue\n",
    "            fname_df = fname_df[~fname_df.isnull().any(axis=1)].reset_index(drop=True)\n",
    "\n",
    "        ## deduplicate\n",
    "        fname_df = fname_df.drop_duplicates().reset_index(drop=True)\n",
    "        \n",
    "        ## drop artist and track info for ids not in id_and_labels\n",
    "        fname_df = fname_df[fname_df['id'].isin(id_and_labels_df.id.to_list())].reset_index(drop=True)\n",
    "        \n",
    "        ## load label and id info        \n",
    "        my_info = id_and_labels_df[id_and_labels_df['id'].isin(fname_df.id.to_list())].reset_index(drop=True)\n",
    "        all_ids_list += fname_df.id.to_list()\n",
    "        \n",
    "#         print(f\"-------- DEBUG: my_info: {my_info.shape}\\tfname_df: {fname_df.shape}\")\n",
    "        fname_df['k9_cluster'] = fname_df.id.map(my_info.set_index('id')['k9_cluster'])\n",
    "        \n",
    "        null_cluster_label = fname_df[fname_df['k9_cluster'].isnull()]\n",
    "\n",
    "        if null_cluster_label.shape[0] > 0:\n",
    "            print(f\"ERROR!! Null values in cluster assignment!\")\n",
    "            \n",
    "        else:\n",
    "            outfilename = os.path.join(outdir, fname.split('.')[0].split('_')[0]+\".csv\")\n",
    "            fname_df.to_csv(outfilename, index=False)\n",
    "            print(f'Saved new DB file ({fname_df.shape[0]}): {outfilename}')\n",
    "\n",
    "missing_track_info = id_and_labels_df[~id_and_labels_df['id'].isin(all_ids_list)].reset_index(drop=True)\n",
    "missing_track_info.shape"
   ]
  },
  {
   "cell_type": "code",
   "execution_count": 198,
   "id": "6dceee3c",
   "metadata": {},
   "outputs": [
    {
     "data": {
      "text/html": [
       "<div>\n",
       "<style scoped>\n",
       "    .dataframe tbody tr th:only-of-type {\n",
       "        vertical-align: middle;\n",
       "    }\n",
       "\n",
       "    .dataframe tbody tr th {\n",
       "        vertical-align: top;\n",
       "    }\n",
       "\n",
       "    .dataframe thead th {\n",
       "        text-align: right;\n",
       "    }\n",
       "</style>\n",
       "<table border=\"1\" class=\"dataframe\">\n",
       "  <thead>\n",
       "    <tr style=\"text-align: right;\">\n",
       "      <th></th>\n",
       "      <th>id</th>\n",
       "      <th>k9_cluster</th>\n",
       "    </tr>\n",
       "  </thead>\n",
       "  <tbody>\n",
       "    <tr>\n",
       "      <th>0</th>\n",
       "      <td>2qK37pJlCIgZ7uv4kheUXQ</td>\n",
       "      <td>6</td>\n",
       "    </tr>\n",
       "    <tr>\n",
       "      <th>1</th>\n",
       "      <td>7EQoRKZQ1Y792aF7B6nPS6</td>\n",
       "      <td>7</td>\n",
       "    </tr>\n",
       "    <tr>\n",
       "      <th>2</th>\n",
       "      <td>69gRFGOWY9OMpFJgFol1u0</td>\n",
       "      <td>3</td>\n",
       "    </tr>\n",
       "    <tr>\n",
       "      <th>3</th>\n",
       "      <td>6UA1pZet2JQSrvBGWx1F05</td>\n",
       "      <td>5</td>\n",
       "    </tr>\n",
       "  </tbody>\n",
       "</table>\n",
       "</div>"
      ],
      "text/plain": [
       "                       id  k9_cluster\n",
       "0  2qK37pJlCIgZ7uv4kheUXQ           6\n",
       "1  7EQoRKZQ1Y792aF7B6nPS6           7\n",
       "2  69gRFGOWY9OMpFJgFol1u0           3\n",
       "3  6UA1pZet2JQSrvBGWx1F05           5"
      ]
     },
     "execution_count": 198,
     "metadata": {},
     "output_type": "execute_result"
    }
   ],
   "source": [
    "missing_track_info"
   ]
  },
  {
   "cell_type": "markdown",
   "id": "08db3f5b",
   "metadata": {},
   "source": [
    "ok...we can live without those 4 tracks... move on to use these db files in the main loop"
   ]
  },
  {
   "cell_type": "code",
   "execution_count": null,
   "id": "f06d1f2a",
   "metadata": {},
   "outputs": [],
   "source": []
  }
 ],
 "metadata": {
  "kernelspec": {
   "display_name": "Python 3 (ipykernel)",
   "language": "python",
   "name": "python3"
  },
  "language_info": {
   "codemirror_mode": {
    "name": "ipython",
    "version": 3
   },
   "file_extension": ".py",
   "mimetype": "text/x-python",
   "name": "python",
   "nbconvert_exporter": "python",
   "pygments_lexer": "ipython3",
   "version": "3.9.7"
  }
 },
 "nbformat": 4,
 "nbformat_minor": 5
}
