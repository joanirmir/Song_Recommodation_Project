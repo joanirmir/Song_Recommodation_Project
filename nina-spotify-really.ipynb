{
 "cells": [
  {
   "cell_type": "code",
   "execution_count": 1,
   "id": "c7ae9772",
   "metadata": {},
   "outputs": [],
   "source": [
    "import config\n",
    "\n",
    "import os\n",
    "import numpy as np\n",
    "import pandas as pd\n",
    "import spotipy\n",
    "import json\n",
    "from spotipy.oauth2 import SpotifyClientCredentials\n",
    "\n",
    "from time import sleep\n",
    "from random import randint"
   ]
  },
  {
   "cell_type": "code",
   "execution_count": 17,
   "id": "c066e494",
   "metadata": {},
   "outputs": [],
   "source": [
    "def get_playlist_tracks(username, playlist_id):\n",
    "    results = sp.user_playlist_tracks(username,playlist_id,market=\"GB\")\n",
    "    tracks = results['items']\n",
    "    while results['next']:\n",
    "        results = sp.next(results)\n",
    "        tracks.extend(results['items'])\n",
    "    return tracks"
   ]
  },
  {
   "cell_type": "code",
   "execution_count": 2,
   "id": "6c8c9356",
   "metadata": {},
   "outputs": [],
   "source": [
    "#Initialize SpotiPy with user credentias\n",
    "sp = spotipy.Spotify(auth_manager=SpotifyClientCredentials(client_id= config.client_id,\n",
    "                                                           client_secret= config.client_secret))"
   ]
  },
  {
   "cell_type": "code",
   "execution_count": 29,
   "id": "473627e1",
   "metadata": {},
   "outputs": [],
   "source": [
    "# https://open.spotify.com/playlist/37i9dQZF1DX2TRYkJECvfC\n",
    "\n",
    "track_list = get_playlist_tracks(\"spotify\", \"37i9dQZF1DX2TRYkJECvfC\")\n"
   ]
  },
  {
   "cell_type": "code",
   "execution_count": 42,
   "id": "ca32aef7",
   "metadata": {},
   "outputs": [
    {
     "data": {
      "text/plain": [
       "(200, 18)"
      ]
     },
     "execution_count": 42,
     "metadata": {},
     "output_type": "execute_result"
    }
   ],
   "source": [
    "song_audio_features.shape"
   ]
  },
  {
   "cell_type": "code",
   "execution_count": 40,
   "id": "5a218eec",
   "metadata": {},
   "outputs": [],
   "source": [
    "## build dataframe of info\n",
    "list_of_songs=[]\n",
    "for index in range(len(track_list)):\n",
    "    list_of_songs.append(sp.audio_features(track_list[index]['track']['id'])[0])\n",
    "song_audio_features = pd.DataFrame(list_of_songs) "
   ]
  },
  {
   "cell_type": "code",
   "execution_count": 120,
   "id": "38baf959",
   "metadata": {},
   "outputs": [],
   "source": [
    "def save_features_csv_for_all_tracks_in_playlist(playlist_id):\n",
    "    \n",
    "    outdir = os.path.join('Data', 'audio_features')\n",
    "    if not os.path.exists(outdir):\n",
    "        os.mkdir(outdir)\n",
    "    outfilename = os.path.join(outdir, f'{playlist_id}.csv')\n",
    "    \n",
    "    track_list = get_playlist_tracks(\"spotify\", playlist_id)\n",
    "    \n",
    "    list_of_songs=[]\n",
    "    for i in range(len(track_list)):\n",
    "        features = sp.audio_features(track_list[i]['track']['id'])[0]\n",
    "        if features is None:\n",
    "            print(f\"No audio features available for track: {track_list[i]['track']['id']}\")\n",
    "            continue\n",
    "        else:\n",
    "            list_of_songs.append(features)\n",
    "            \n",
    "    song_audio_features = pd.DataFrame(list_of_songs)\n",
    "    song_audio_features.to_csv(outfilename, index=False)\n",
    "    \n",
    "    print(f'Saved {len(list_of_songs)} tracks in file: {outfilename}')\n",
    "    return\n",
    "    "
   ]
  },
  {
   "cell_type": "code",
   "execution_count": 219,
   "id": "3eb19fb6",
   "metadata": {},
   "outputs": [],
   "source": [
    "indir = 'Data/audio_features'\n",
    "infile_list = os.listdir(indir)"
   ]
  },
  {
   "cell_type": "code",
   "execution_count": null,
   "id": "46a45e5f",
   "metadata": {},
   "outputs": [],
   "source": []
  },
  {
   "cell_type": "code",
   "execution_count": 240,
   "id": "4fa152e0",
   "metadata": {},
   "outputs": [
    {
     "name": "stdout",
     "output_type": "stream",
     "text": [
      "Processing file: 37i9dQZF1DX873GaRGUmPl.csv\n",
      "Saved 835 tracks in file: Data/audio_features2/37i9dQZF1DX873GaRGUmPl.csv\n"
     ]
    }
   ],
   "source": [
    "testfile = infile_list[0]\n",
    "print(f'Processing file: {testfile}')\n",
    "\n",
    "save_features_csv_for_all_tracks_in_albums(os.path.join(indir, testfile))"
   ]
  },
  {
   "cell_type": "code",
   "execution_count": 243,
   "id": "59ee16ac",
   "metadata": {},
   "outputs": [
    {
     "name": "stdout",
     "output_type": "stream",
     "text": [
      "Processing file: timeout_the-50-best-80s-songs.csv\n",
      "Saved 821 tracks in file: Data/audio_features2/timeout_the-50-best-80s-songs.csv\n",
      "Processing file: 37i9dQZF1DXaLI8a395lse.csv\n",
      "Saved 1316 tracks in file: Data/audio_features2/37i9dQZF1DXaLI8a395lse.csv\n",
      "Processing file: 37i9dQZF1DXbwcS5W73XRr.csv\n",
      "Saved 601 tracks in file: Data/audio_features2/37i9dQZF1DXbwcS5W73XRr.csv\n",
      "Processing file: timeout_best-pop-songs-of-all-time.csv\n",
      "Saved 601 tracks in file: Data/audio_features2/timeout_best-pop-songs-of-all-time.csv\n",
      "Processing file: 37i9dQZF1DX00RdhV73Dbe.csv\n",
      "Saved 421 tracks in file: Data/audio_features2/37i9dQZF1DX00RdhV73Dbe.csv\n",
      "Processing file: 37i9dQZF1DWSlskcBvOTt0.csv\n",
      "Saved 412 tracks in file: Data/audio_features2/37i9dQZF1DWSlskcBvOTt0.csv\n",
      "Processing file: 37i9dQZF1DX1MUPbVKMgJE.csv\n",
      "Saved 605 tracks in file: Data/audio_features2/37i9dQZF1DX1MUPbVKMgJE.csv\n",
      "Processing file: 37i9dQZF1DXarRysLJmuju.csv\n",
      "Saved 515 tracks in file: Data/audio_features2/37i9dQZF1DXarRysLJmuju.csv\n",
      "Processing file: 37i9dQZF1DX0YKekzl0blG.csv\n",
      "Saved 991 tracks in file: Data/audio_features2/37i9dQZF1DX0YKekzl0blG.csv\n",
      "Processing file: 37i9dQZF1DX2TRYkJECvfC.csv\n",
      "Saved 704 tracks in file: Data/audio_features2/37i9dQZF1DX2TRYkJECvfC.csv\n",
      "Processing file: 37i9dQZF1DX8AliSIsGeKd.csv\n",
      "Saved 163 tracks in file: Data/audio_features2/37i9dQZF1DX8AliSIsGeKd.csv\n",
      "Processing file: 4ldLuRieh8jnCKOjSoqUQH.csv\n",
      "Saved 197 tracks in file: Data/audio_features2/4ldLuRieh8jnCKOjSoqUQH.csv\n",
      "Processing file: 37i9dQZF1DXa8NOEUWPn9W.csv\n",
      "Saved 157 tracks in file: Data/audio_features2/37i9dQZF1DXa8NOEUWPn9W.csv\n",
      "Processing file: 37i9dQZF1DX6xOPeSOGone.csv\n",
      "Saved 2495 tracks in file: Data/audio_features2/37i9dQZF1DX6xOPeSOGone.csv\n",
      "Processing file: 37i9dQZF1DX9XIFQuFvzM4.csv\n",
      "Saved 1643 tracks in file: Data/audio_features2/37i9dQZF1DX9XIFQuFvzM4.csv\n",
      "Processing file: 37i9dQZF1DX5Vy6DFOcx00.csv\n",
      "Saved 1224 tracks in file: Data/audio_features2/37i9dQZF1DX5Vy6DFOcx00.csv\n",
      "Processing file: 37i9dQZF1DX0XUsuxWHRQd.csv\n",
      "Saved 379 tracks in file: Data/audio_features2/37i9dQZF1DX0XUsuxWHRQd.csv\n",
      "Processing file: 37i9dQZF1DWWvhKV4FBciw.csv\n",
      "Saved 1378 tracks in file: Data/audio_features2/37i9dQZF1DWWvhKV4FBciw.csv\n",
      "Processing file: 37i9dQZF1DWVCHIm2MEeIy.csv\n",
      "Saved 236 tracks in file: Data/audio_features2/37i9dQZF1DWVCHIm2MEeIy.csv\n",
      "Processing file: 37i9dQZF1DWTSKFpOdYF1r.csv\n",
      "Saved 1509 tracks in file: Data/audio_features2/37i9dQZF1DWTSKFpOdYF1r.csv\n",
      "Processing file: 37i9dQZF1DWULEW2RfoSCi.csv\n",
      "Saved 1383 tracks in file: Data/audio_features2/37i9dQZF1DWULEW2RfoSCi.csv\n",
      "Processing file: timeout_best-90s-songs.csv\n",
      "Saved 738 tracks in file: Data/audio_features2/timeout_best-90s-songs.csv\n",
      "Processing file: timeout_50-best-breakup-songs.csv\n",
      "Saved 600 tracks in file: Data/audio_features2/timeout_50-best-breakup-songs.csv\n",
      "Processing file: timeout_best-party-songs.csv\n",
      "Saved 1404 tracks in file: Data/audio_features2/timeout_best-party-songs.csv\n",
      "Processing file: 37i9dQZF1DWXRqgorJj26U.csv\n",
      "Saved 2744 tracks in file: Data/audio_features2/37i9dQZF1DWXRqgorJj26U.csv\n",
      "Processing file: 37i9dQZF1DWY6tYEFs22tT.csv\n",
      "Saved 469 tracks in file: Data/audio_features2/37i9dQZF1DWY6tYEFs22tT.csv\n",
      "Processing file: timeout_best-happy-songs.csv\n",
      "Saved 435 tracks in file: Data/audio_features2/timeout_best-happy-songs.csv\n",
      "Processing file: timeout_best-gay-songs.csv\n",
      "Saved 720 tracks in file: Data/audio_features2/timeout_best-gay-songs.csv\n",
      "Processing file: 37i9dQZF1DX8ZMwsPgxIOs.csv\n",
      "Saved 207 tracks in file: Data/audio_features2/37i9dQZF1DX8ZMwsPgxIOs.csv\n",
      "Processing file: timeout_the-50-best-karaoke-songs-ever.csv\n",
      "Saved 744 tracks in file: Data/audio_features2/timeout_the-50-best-karaoke-songs-ever.csv\n",
      "Processing file: timeout_50-best-sad-songs.csv\n",
      "Saved 593 tracks in file: Data/audio_features2/timeout_50-best-sad-songs.csv\n",
      "Processing file: 37i9dQZF1DX0r3x8OtiwEM.csv\n",
      "Saved 121 tracks in file: Data/audio_features2/37i9dQZF1DX0r3x8OtiwEM.csv\n",
      "Processing file: 37i9dQZF1DX202yvKb0g9m.csv\n",
      "Saved 495 tracks in file: Data/audio_features2/37i9dQZF1DX202yvKb0g9m.csv\n"
     ]
    }
   ],
   "source": [
    "for filename in infile_list[1:]:\n",
    "    print(f'Processing file: {filename}')\n",
    "    save_features_csv_for_all_tracks_in_albums(os.path.join(indir, filename))\n"
   ]
  },
  {
   "cell_type": "code",
   "execution_count": 242,
   "id": "62a0515e",
   "metadata": {},
   "outputs": [],
   "source": [
    "def save_features_csv_for_all_tracks_in_albums(infilepath):\n",
    "    \n",
    "    # extract the name of the input file, without the csv suffix\n",
    "    songlistname = '.'.join(os.path.basename(infilepath).split('.')[:-1])\n",
    "    \n",
    "    outdir = os.path.join('Data', 'audio_features2')\n",
    "    if not os.path.exists(outdir):\n",
    "        os.mkdir(outdir)\n",
    "    outfilename = os.path.join(outdir, f'{songlistname}.csv')\n",
    "    \n",
    "    my_tracks = pd.read_csv(infilepath, index_col=None)\n",
    "\n",
    "    list_of_songs=[]\n",
    "    for i in range(my_tracks.shape[0]):\n",
    "        sleep(randint(1,3))\n",
    "        # get album for this track\n",
    "        track = sp.track(my_tracks.id[i], market='GB')\n",
    "        album_tracks = sp.album_tracks(track['album']['id'])\n",
    "        track_features = sp.audio_features([album_tracks['items'][i]['id'] for i in range(len(album_tracks['items']))])\n",
    "        list_of_songs += [x for x in track_features if x is not None]\n",
    "\n",
    "    song_audio_features = pd.DataFrame(list_of_songs)\n",
    "    song_audio_features.to_csv(outfilename, index=False)\n",
    "    \n",
    "    print(f'Saved {len(list_of_songs)} tracks in file: {outfilename}')\n",
    "    return"
   ]
  },
  {
   "cell_type": "code",
   "execution_count": 180,
   "id": "5ac53c96",
   "metadata": {},
   "outputs": [
    {
     "data": {
      "text/plain": [
       "[None]"
      ]
     },
     "execution_count": 180,
     "metadata": {},
     "output_type": "execute_result"
    }
   ],
   "source": [
    "sp.audio_features('sss')"
   ]
  },
  {
   "cell_type": "code",
   "execution_count": 152,
   "id": "cd1dedaf",
   "metadata": {},
   "outputs": [],
   "source": [
    "# list of albums from this artist\n",
    "artist_albums = sp.artist_albums('2WBJQGf1bT1kxuoqziH5g4', country='GB', album_type='album') #, country=None, limit=20, offset=0)"
   ]
  },
  {
   "cell_type": "code",
   "execution_count": 162,
   "id": "9195202c",
   "metadata": {},
   "outputs": [],
   "source": [
    "# get tracks on this album (iter i=0)\n",
    "album_tracks = sp.album_tracks(artist_albums['items'][0]['id'])"
   ]
  },
  {
   "cell_type": "code",
   "execution_count": 179,
   "id": "9b15e6ba",
   "metadata": {},
   "outputs": [
    {
     "data": {
      "text/plain": [
       "'5VqjJgqiHFKidCnxpxkVjM'"
      ]
     },
     "execution_count": 179,
     "metadata": {},
     "output_type": "execute_result"
    }
   ],
   "source": [
    "album_tracks['items'][0]['id']"
   ]
  },
  {
   "cell_type": "code",
   "execution_count": null,
   "id": "baae4f07",
   "metadata": {},
   "outputs": [],
   "source": [
    "# get audio features for track\n",
    "feat = sp.audio_features()[0]"
   ]
  },
  {
   "cell_type": "code",
   "execution_count": 18,
   "id": "1e2ffd58",
   "metadata": {},
   "outputs": [],
   "source": [
    "def get_artists_from_track(track):\n",
    "    return [artist[\"name\"] for artist in track[\"artists\"]]\n",
    "\n",
    "def get_artists_from_playlist(playlist_id):\n",
    "    tracks_from_playlist = get_playlist_tracks(\"spotify\", playlist_id)\n",
    "    return list(set(artist for subset in [get_artists_from_track(track[\"track\"]) for track in tracks_from_playlist] for artist in subset))"
   ]
  },
  {
   "cell_type": "code",
   "execution_count": 136,
   "id": "65317c54",
   "metadata": {},
   "outputs": [],
   "source": [
    "def get_artist_ids_from_track(track):\n",
    "    return [artist[\"id\"] for artist in track[\"artists\"]]"
   ]
  },
  {
   "cell_type": "code",
   "execution_count": null,
   "id": "a0b615f6",
   "metadata": {},
   "outputs": [],
   "source": [
    "def get_all_tracks_from_artists(fname):\n",
    "    df = pd.read_csv(f'Data/audio_features/{fname}.csv')\n",
    "    \n",
    "    for i in df.shape[0]:\n",
    "        trackinfo = sp.track(df.id[i], market='GB')\n",
    "        artist_ids = get_artist_ids_from_track(trackinfo)\n",
    "        \n",
    "        "
   ]
  },
  {
   "cell_type": "code",
   "execution_count": 5,
   "id": "436d946d",
   "metadata": {},
   "outputs": [],
   "source": [
    "def display_artist(track_info):\n",
    "## create a single string with all artist names\n",
    "    return \" / \".join([x['name'] for x in track_info['artists']])"
   ]
  },
  {
   "cell_type": "markdown",
   "id": "e97919b5",
   "metadata": {},
   "source": [
    "## Get artist and track title"
   ]
  },
  {
   "cell_type": "code",
   "execution_count": 245,
   "id": "3f4019bf",
   "metadata": {},
   "outputs": [],
   "source": [
    "## load track ids from csvs with audio features\n",
    "indir = 'Data/audio_features/'\n",
    "infile_list = os.listdir(indir)\n",
    "\n",
    "dfs = []\n",
    "for fname in infile_list:\n",
    "    fname_tracks = pd.read_csv(os.path.join(indir, fname), index_col=None)\n",
    "    dfs.append(fname_tracks.id)\n",
    "    \n",
    "track_ids = pd.concat(dfs, axis=0)\n",
    "track_ids = track_ids.drop_duplicates().reset_index(drop=True)"
   ]
  },
  {
   "cell_type": "markdown",
   "id": "e4e95837",
   "metadata": {},
   "source": [
    "## Print track id, title, and artist to .csv\n"
   ]
  },
  {
   "cell_type": "code",
   "execution_count": 217,
   "id": "d606a5e4",
   "metadata": {},
   "outputs": [],
   "source": [
    "our_track_db.to_csv('Data/db/nina_day4_tracks.csv', index=False)"
   ]
  },
  {
   "cell_type": "markdown",
   "id": "52fbd9bb",
   "metadata": {},
   "source": [
    "### Aside... to debug\n",
    "\n",
    "bah! this doesn't work right... not sure how to map this function to the series in one shot"
   ]
  },
  {
   "cell_type": "code",
   "execution_count": 190,
   "id": "03cb45f0",
   "metadata": {},
   "outputs": [],
   "source": [
    "def get_track_name_and_combinedartists(trackid):\n",
    "    \"\"\" unused function\"\"\"\n",
    "    track_info = sp.track(trackid, market='GB')\n",
    "    return track_info['name'], display_artist(track_info)"
   ]
  },
  {
   "cell_type": "code",
   "execution_count": 195,
   "id": "ba2e172f",
   "metadata": {},
   "outputs": [],
   "source": [
    "#test_tracks_df['title'], test_tracks_df['artist'] = \n",
    "test_return = test_tracks_df.map(get_track_name_and_combinedartists)"
   ]
  },
  {
   "cell_type": "code",
   "execution_count": 197,
   "id": "b8658a19",
   "metadata": {},
   "outputs": [
    {
     "data": {
      "text/plain": [
       "0                          (Archie, Marry Me, Alvvays)\n",
       "1                   (Motion Sickness, Phoebe Bridgers)\n",
       "2                                     (The Wire, HAIM)\n",
       "3                             (Brazil, Declan McKenna)\n",
       "4                                 (Hell N Back, Bakar)\n",
       "5                     (Positive Force, Delicate Steve)\n",
       "6    (Eat, Sleep, Wake (Nothing But You), Bombay Bi...\n",
       "7                (Don’t Delete The Kisses, Wolf Alice)\n",
       "8    (Funeral Singers, Sylvan Esso, Collections Of ...\n",
       "9                    (Summer Girl - Bonus Track, HAIM)\n",
       "Name: id, dtype: object"
      ]
     },
     "execution_count": 197,
     "metadata": {},
     "output_type": "execute_result"
    }
   ],
   "source": [
    "test_return"
   ]
  },
  {
   "cell_type": "markdown",
   "id": "a5bb1e04",
   "metadata": {},
   "source": [
    "# Generating audio features from Spotify playlists"
   ]
  },
  {
   "cell_type": "code",
   "execution_count": 45,
   "id": "fb754f8d",
   "metadata": {},
   "outputs": [
    {
     "name": "stdout",
     "output_type": "stream",
     "text": [
      "Saved 200 tracks in file: Data/audio_features/37i9dQZF1DX2TRYkJECvfC.csv\n"
     ]
    }
   ],
   "source": [
    "## house: deep house chill\n",
    "save_features_csv_for_all_tracks_in_playlist('37i9dQZF1DX2TRYkJECvfC')"
   ]
  },
  {
   "cell_type": "code",
   "execution_count": 46,
   "id": "813139cf",
   "metadata": {},
   "outputs": [
    {
     "name": "stdout",
     "output_type": "stream",
     "text": [
      "Saved 100 tracks in file: Data/audio_features/37i9dQZF1DXarRysLJmuju.csv\n"
     ]
    }
   ],
   "source": [
    "## pop: pop all day \n",
    "save_features_csv_for_all_tracks_in_playlist('37i9dQZF1DXarRysLJmuju')"
   ]
  },
  {
   "cell_type": "code",
   "execution_count": 47,
   "id": "eb9f20f4",
   "metadata": {},
   "outputs": [
    {
     "name": "stdout",
     "output_type": "stream",
     "text": [
      "Saved 126 tracks in file: Data/audio_features/37i9dQZF1DX5Vy6DFOcx00.csv\n"
     ]
    }
   ],
   "source": [
    "## pop: big on the internet \n",
    "save_features_csv_for_all_tracks_in_playlist('37i9dQZF1DX5Vy6DFOcx00')"
   ]
  },
  {
   "cell_type": "code",
   "execution_count": 48,
   "id": "76188685",
   "metadata": {},
   "outputs": [
    {
     "name": "stdout",
     "output_type": "stream",
     "text": [
      "Saved 175 tracks in file: Data/audio_features/37i9dQZF1DWXRqgorJj26U.csv\n"
     ]
    }
   ],
   "source": [
    "## rock: rock classics https://open.spotify.com/playlist/37i9dQZF1DWXRqgorJj26U\n",
    "save_features_csv_for_all_tracks_in_playlist('37i9dQZF1DWXRqgorJj26U')"
   ]
  },
  {
   "cell_type": "code",
   "execution_count": 49,
   "id": "9c23ef2d",
   "metadata": {},
   "outputs": [
    {
     "name": "stdout",
     "output_type": "stream",
     "text": [
      "Saved 150 tracks in file: Data/audio_features/37i9dQZF1DX6xOPeSOGone.csv\n"
     ]
    }
   ],
   "source": [
    "## rock: soft rock https://open.spotify.com/playlist/37i9dQZF1DX6xOPeSOGone \n",
    "save_features_csv_for_all_tracks_in_playlist('37i9dQZF1DX6xOPeSOGone')"
   ]
  },
  {
   "cell_type": "code",
   "execution_count": 50,
   "id": "5631eb26",
   "metadata": {},
   "outputs": [
    {
     "name": "stdout",
     "output_type": "stream",
     "text": [
      "Saved 80 tracks in file: Data/audio_features/37i9dQZF1DX873GaRGUmPl.csv\n"
     ]
    }
   ],
   "source": [
    "## alternative by decade: 10s https://open.spotify.com/playlist/37i9dQZF1DX873GaRGUmPl\n",
    "save_features_csv_for_all_tracks_in_playlist('37i9dQZF1DX873GaRGUmPl')"
   ]
  },
  {
   "cell_type": "code",
   "execution_count": 51,
   "id": "0359f13c",
   "metadata": {},
   "outputs": [
    {
     "name": "stdout",
     "output_type": "stream",
     "text": [
      "Saved 80 tracks in file: Data/audio_features/37i9dQZF1DX0YKekzl0blG.csv\n"
     ]
    }
   ],
   "source": [
    "## alternative by decade: 00s https://open.spotify.com/playlist/37i9dQZF1DX0YKekzl0blG\n",
    "save_features_csv_for_all_tracks_in_playlist('37i9dQZF1DX0YKekzl0blG')"
   ]
  },
  {
   "cell_type": "code",
   "execution_count": 52,
   "id": "d0e12307",
   "metadata": {},
   "outputs": [
    {
     "name": "stdout",
     "output_type": "stream",
     "text": [
      "Saved 80 tracks in file: Data/audio_features/37i9dQZF1DXaLI8a395lse.csv\n"
     ]
    }
   ],
   "source": [
    "## alternative by decade: 90s https://open.spotify.com/playlist/37i9dQZF1DXaLI8a395lse\n",
    "save_features_csv_for_all_tracks_in_playlist('37i9dQZF1DXaLI8a395lse')"
   ]
  },
  {
   "cell_type": "code",
   "execution_count": 53,
   "id": "736493a3",
   "metadata": {},
   "outputs": [
    {
     "name": "stdout",
     "output_type": "stream",
     "text": [
      "Saved 80 tracks in file: Data/audio_features/37i9dQZF1DWTSKFpOdYF1r.csv\n"
     ]
    }
   ],
   "source": [
    "## alternative by decade: 80s https://open.spotify.com/playlist/37i9dQZF1DWTSKFpOdYF1r\n",
    "save_features_csv_for_all_tracks_in_playlist('37i9dQZF1DWTSKFpOdYF1r')"
   ]
  },
  {
   "cell_type": "code",
   "execution_count": 54,
   "id": "0d9ab992",
   "metadata": {},
   "outputs": [
    {
     "name": "stdout",
     "output_type": "stream",
     "text": [
      "Saved 100 tracks in file: Data/audio_features/37i9dQZF1DX9XIFQuFvzM4.csv\n"
     ]
    }
   ],
   "source": [
    "## soul: feelin good https://open.spotify.com/playlist/37i9dQZF1DX9XIFQuFvzM4\n",
    "save_features_csv_for_all_tracks_in_playlist('37i9dQZF1DX9XIFQuFvzM4')"
   ]
  },
  {
   "cell_type": "code",
   "execution_count": 55,
   "id": "06a10e7c",
   "metadata": {},
   "outputs": [
    {
     "name": "stdout",
     "output_type": "stream",
     "text": [
      "Saved 80 tracks in file: Data/audio_features/37i9dQZF1DWWvhKV4FBciw.csv\n"
     ]
    }
   ],
   "source": [
    "## soul: funk and soul classics https://open.spotify.com/playlist/37i9dQZF1DWWvhKV4FBciw\n",
    "save_features_csv_for_all_tracks_in_playlist('37i9dQZF1DWWvhKV4FBciw')"
   ]
  },
  {
   "cell_type": "code",
   "execution_count": 56,
   "id": "542ed616",
   "metadata": {},
   "outputs": [
    {
     "name": "stdout",
     "output_type": "stream",
     "text": [
      "Saved 91 tracks in file: Data/audio_features/37i9dQZF1DWULEW2RfoSCi.csv\n"
     ]
    }
   ],
   "source": [
    "## soul: 70s soul classics https://open.spotify.com/playlist/37i9dQZF1DWULEW2RfoSCi\n",
    "save_features_csv_for_all_tracks_in_playlist('37i9dQZF1DWULEW2RfoSCi')"
   ]
  },
  {
   "cell_type": "code",
   "execution_count": 57,
   "id": "34b3097a",
   "metadata": {},
   "outputs": [
    {
     "name": "stdout",
     "output_type": "stream",
     "text": [
      "Saved 50 tracks in file: Data/audio_features/37i9dQZF1DX1MUPbVKMgJE.csv\n"
     ]
    }
   ],
   "source": [
    "## funk: disco forever https://open.spotify.com/playlist/37i9dQZF1DX1MUPbVKMgJE\n",
    "save_features_csv_for_all_tracks_in_playlist('37i9dQZF1DX1MUPbVKMgJE')"
   ]
  },
  {
   "cell_type": "code",
   "execution_count": 58,
   "id": "d1d852fb",
   "metadata": {},
   "outputs": [
    {
     "name": "stdout",
     "output_type": "stream",
     "text": [
      "Saved 76 tracks in file: Data/audio_features/37i9dQZF1DWY6tYEFs22tT.csv\n"
     ]
    }
   ],
   "source": [
    "## hiphop: hip-hop central https://open.spotify.com/playlist/37i9dQZF1DWY6tYEFs22tT\n",
    "save_features_csv_for_all_tracks_in_playlist('37i9dQZF1DWY6tYEFs22tT')"
   ]
  },
  {
   "cell_type": "code",
   "execution_count": 59,
   "id": "f9b4121a",
   "metadata": {},
   "outputs": [
    {
     "name": "stdout",
     "output_type": "stream",
     "text": [
      "Saved 50 tracks in file: Data/audio_features/37i9dQZF1DX0XUsuxWHRQd.csv\n"
     ]
    }
   ],
   "source": [
    "## hiphop: rap caviar https://open.spotify.com/playlist/37i9dQZF1DX0XUsuxWHRQd\n",
    "save_features_csv_for_all_tracks_in_playlist('37i9dQZF1DX0XUsuxWHRQd')"
   ]
  },
  {
   "cell_type": "code",
   "execution_count": 88,
   "id": "939cf58d",
   "metadata": {},
   "outputs": [
    {
     "name": "stdout",
     "output_type": "stream",
     "text": [
      "Saved 16 tracks in file: Data/audio_features/4ldLuRieh8jnCKOjSoqUQH.csv\n"
     ]
    }
   ],
   "source": [
    "## Our morning sunshine guessing game 4ldLuRieh8jnCKOjSoqUQH\n",
    "save_features_csv_for_all_tracks_in_playlist('4ldLuRieh8jnCKOjSoqUQH')"
   ]
  },
  {
   "cell_type": "code",
   "execution_count": 89,
   "id": "ac3c6c07",
   "metadata": {},
   "outputs": [
    {
     "name": "stdout",
     "output_type": "stream",
     "text": [
      "Saved 90 tracks in file: Data/audio_features/37i9dQZF1DXa8NOEUWPn9W.csv\n"
     ]
    }
   ],
   "source": [
    "## House: housewerk 37i9dQZF1DXa8NOEUWPn9W\n",
    "save_features_csv_for_all_tracks_in_playlist('37i9dQZF1DXa8NOEUWPn9W')"
   ]
  },
  {
   "cell_type": "code",
   "execution_count": 90,
   "id": "bc4e6918",
   "metadata": {},
   "outputs": [
    {
     "name": "stdout",
     "output_type": "stream",
     "text": [
      "Saved 100 tracks in file: Data/audio_features/37i9dQZF1DWSlskcBvOTt0.csv\n"
     ]
    }
   ],
   "source": [
    "## house 37i9dQZF1DWSlskcBvOTt0\n",
    "save_features_csv_for_all_tracks_in_playlist('37i9dQZF1DWSlskcBvOTt0')"
   ]
  },
  {
   "cell_type": "code",
   "execution_count": 91,
   "id": "0246fd8e",
   "metadata": {},
   "outputs": [
    {
     "name": "stdout",
     "output_type": "stream",
     "text": [
      "Saved 70 tracks in file: Data/audio_features/37i9dQZF1DWVCHIm2MEeIy.csv\n"
     ]
    }
   ],
   "source": [
    "## house https://open.spotify.com/playlist/37i9dQZF1DWVCHIm2MEeIy\n",
    "save_features_csv_for_all_tracks_in_playlist('37i9dQZF1DWVCHIm2MEeIy')"
   ]
  },
  {
   "cell_type": "code",
   "execution_count": 92,
   "id": "58c4b3e3",
   "metadata": {},
   "outputs": [
    {
     "name": "stdout",
     "output_type": "stream",
     "text": [
      "Saved 50 tracks in file: Data/audio_features/37i9dQZF1DX202yvKb0g9m.csv\n"
     ]
    }
   ],
   "source": [
    "## 303 classics https://open.spotify.com/playlist/37i9dQZF1DX202yvKb0g9m\n",
    "save_features_csv_for_all_tracks_in_playlist('37i9dQZF1DX202yvKb0g9m')"
   ]
  },
  {
   "cell_type": "code",
   "execution_count": 93,
   "id": "86b90972",
   "metadata": {},
   "outputs": [
    {
     "name": "stdout",
     "output_type": "stream",
     "text": [
      "Saved 48 tracks in file: Data/audio_features/37i9dQZF1DXbwcS5W73XRr.csv\n"
     ]
    }
   ],
   "source": [
    "## acid house https://open.spotify.com/playlist/37i9dQZF1DXbwcS5W73XRr\n",
    "save_features_csv_for_all_tracks_in_playlist('37i9dQZF1DXbwcS5W73XRr')"
   ]
  },
  {
   "cell_type": "code",
   "execution_count": 94,
   "id": "4c0ab028",
   "metadata": {},
   "outputs": [
    {
     "name": "stdout",
     "output_type": "stream",
     "text": [
      "Saved 69 tracks in file: Data/audio_features/37i9dQZF1DX00RdhV73Dbe.csv\n"
     ]
    }
   ],
   "source": [
    "## DJ boring's favorite tracks https://open.spotify.com/playlist/37i9dQZF1DX00RdhV73Dbe\n",
    "save_features_csv_for_all_tracks_in_playlist('37i9dQZF1DX00RdhV73Dbe')"
   ]
  },
  {
   "cell_type": "code",
   "execution_count": 96,
   "id": "c4d7cd3f",
   "metadata": {},
   "outputs": [
    {
     "name": "stdout",
     "output_type": "stream",
     "text": [
      "Saved 75 tracks in file: Data/audio_features/37i9dQZF1DX8AliSIsGeKd.csv\n"
     ]
    }
   ],
   "source": [
    "## https://open.spotify.com/playlist/37i9dQZF1DX8AliSIsGeKd\n",
    "save_features_csv_for_all_tracks_in_playlist('37i9dQZF1DX8AliSIsGeKd')"
   ]
  },
  {
   "cell_type": "code",
   "execution_count": 97,
   "id": "1a45b585",
   "metadata": {},
   "outputs": [
    {
     "name": "stdout",
     "output_type": "stream",
     "text": [
      "Saved 60 tracks in file: Data/audio_features/37i9dQZF1DX0r3x8OtiwEM.csv\n"
     ]
    }
   ],
   "source": [
    "## 37i9dQZF1DX0r3x8OtiwEM\n",
    "save_features_csv_for_all_tracks_in_playlist('37i9dQZF1DX0r3x8OtiwEM')"
   ]
  },
  {
   "cell_type": "code",
   "execution_count": 98,
   "id": "168c1296",
   "metadata": {},
   "outputs": [
    {
     "name": "stdout",
     "output_type": "stream",
     "text": [
      "Saved 60 tracks in file: Data/audio_features/37i9dQZF1DX0r3x8OtiwEM.csv\n"
     ]
    }
   ],
   "source": [
    "## creamy https://open.spotify.com/playlist/37i9dQZF1DXdgz8ZB7c2CP\n",
    "save_features_csv_for_all_tracks_in_playlist('37i9dQZF1DX0r3x8OtiwEM')"
   ]
  },
  {
   "cell_type": "code",
   "execution_count": 121,
   "id": "f503c5d6",
   "metadata": {},
   "outputs": [
    {
     "name": "stdout",
     "output_type": "stream",
     "text": [
      "No audio features available for track: 73Wrhs4NIuSXrmY2I2BNFp\n",
      "Saved 73 tracks in file: Data/audio_features/37i9dQZF1DX8ZMwsPgxIOs.csv\n"
     ]
    }
   ],
   "source": [
    "## techno state https://open.spotify.com/playlist/37i9dQZF1DX8ZMwsPgxIOs\n",
    "save_features_csv_for_all_tracks_in_playlist('37i9dQZF1DX8ZMwsPgxIOs')"
   ]
  },
  {
   "cell_type": "markdown",
   "id": "0501b830",
   "metadata": {},
   "source": [
    "## Loading song titles from our webscraping"
   ]
  },
  {
   "cell_type": "code",
   "execution_count": 4,
   "id": "0f570f98",
   "metadata": {},
   "outputs": [],
   "source": [
    "fname = 'Data/timeout_best-party-songs.csv'\n",
    "\n",
    "my_songs = pd.read_csv(fname, index_col=None)"
   ]
  },
  {
   "cell_type": "code",
   "execution_count": 60,
   "id": "877ce4d4",
   "metadata": {},
   "outputs": [
    {
     "data": {
      "text/html": [
       "<div>\n",
       "<style scoped>\n",
       "    .dataframe tbody tr th:only-of-type {\n",
       "        vertical-align: middle;\n",
       "    }\n",
       "\n",
       "    .dataframe tbody tr th {\n",
       "        vertical-align: top;\n",
       "    }\n",
       "\n",
       "    .dataframe thead th {\n",
       "        text-align: right;\n",
       "    }\n",
       "</style>\n",
       "<table border=\"1\" class=\"dataframe\">\n",
       "  <thead>\n",
       "    <tr style=\"text-align: right;\">\n",
       "      <th></th>\n",
       "      <th>artist</th>\n",
       "      <th>title</th>\n",
       "    </tr>\n",
       "  </thead>\n",
       "  <tbody>\n",
       "    <tr>\n",
       "      <th>0</th>\n",
       "      <td>Madonna</td>\n",
       "      <td>Like a Prayer</td>\n",
       "    </tr>\n",
       "    <tr>\n",
       "      <th>1</th>\n",
       "      <td>Prince</td>\n",
       "      <td>1999</td>\n",
       "    </tr>\n",
       "  </tbody>\n",
       "</table>\n",
       "</div>"
      ],
      "text/plain": [
       "    artist          title\n",
       "0  Madonna  Like a Prayer\n",
       "1   Prince           1999"
      ]
     },
     "execution_count": 60,
     "metadata": {},
     "output_type": "execute_result"
    }
   ],
   "source": [
    "my_songs.head(2)"
   ]
  },
  {
   "cell_type": "code",
   "execution_count": 71,
   "id": "1175982b",
   "metadata": {},
   "outputs": [],
   "source": [
    "results = sp.search(q=my_songs.title[0],limit=1,market=\"GB\")"
   ]
  },
  {
   "cell_type": "code",
   "execution_count": 78,
   "id": "54a62b95",
   "metadata": {},
   "outputs": [
    {
     "data": {
      "text/plain": [
       "dict_keys(['album', 'artists', 'disc_number', 'duration_ms', 'explicit', 'external_ids', 'external_urls', 'href', 'id', 'is_local', 'is_playable', 'name', 'popularity', 'preview_url', 'track_number', 'type', 'uri'])"
      ]
     },
     "execution_count": 78,
     "metadata": {},
     "output_type": "execute_result"
    }
   ],
   "source": [
    "results['tracks']['items'][0].keys()"
   ]
  },
  {
   "cell_type": "code",
   "execution_count": 79,
   "id": "331625a6",
   "metadata": {},
   "outputs": [
    {
     "data": {
      "text/plain": [
       "'1z3ugFmUKoCzGsI6jdY4Ci'"
      ]
     },
     "execution_count": 79,
     "metadata": {},
     "output_type": "execute_result"
    }
   ],
   "source": [
    "results['tracks']['items'][0]['id']"
   ]
  },
  {
   "cell_type": "code",
   "execution_count": 85,
   "id": "2cdec949",
   "metadata": {},
   "outputs": [
    {
     "name": "stdout",
     "output_type": "stream",
     "text": [
      "Saved 49 tracks in file: Data/audio_features/timeout_50-best-breakup-songs.csv\n"
     ]
    }
   ],
   "source": [
    "save_features_csv_for_all_tracks_in_artist_title_csv('Data/timeout_50-best-breakup-songs.csv')"
   ]
  },
  {
   "cell_type": "code",
   "execution_count": 86,
   "id": "1f118efb",
   "metadata": {},
   "outputs": [
    {
     "name": "stdout",
     "output_type": "stream",
     "text": [
      "Saved 48 tracks in file: Data/audio_features/timeout_50-best-sad-songs.csv\n",
      "Saved 49 tracks in file: Data/audio_features/timeout_best-90s-songs.csv\n",
      "Saved 48 tracks in file: Data/audio_features/timeout_best-gay-songs.csv\n",
      "Saved 24 tracks in file: Data/audio_features/timeout_best-happy-songs.csv\n",
      "Saved 97 tracks in file: Data/audio_features/timeout_best-party-songs.csv\n",
      "Saved 40 tracks in file: Data/audio_features/timeout_best-pop-songs-of-all-time.csv\n",
      "Saved 50 tracks in file: Data/audio_features/timeout_the-50-best-80s-songs.csv\n",
      "Saved 47 tracks in file: Data/audio_features/timeout_the-50-best-karaoke-songs-ever.csv\n"
     ]
    }
   ],
   "source": [
    "save_features_csv_for_all_tracks_in_artist_title_csv('Data/timeout_50-best-sad-songs.csv')\n",
    "save_features_csv_for_all_tracks_in_artist_title_csv('Data/timeout_best-90s-songs.csv')\n",
    "save_features_csv_for_all_tracks_in_artist_title_csv('Data/timeout_best-gay-songs.csv')\n",
    "save_features_csv_for_all_tracks_in_artist_title_csv('Data/timeout_best-happy-songs.csv')\n",
    "save_features_csv_for_all_tracks_in_artist_title_csv('Data/timeout_best-party-songs.csv')\n",
    "save_features_csv_for_all_tracks_in_artist_title_csv('Data/timeout_best-pop-songs-of-all-time.csv')\n",
    "save_features_csv_for_all_tracks_in_artist_title_csv('Data/timeout_the-50-best-80s-songs.csv')\n",
    "save_features_csv_for_all_tracks_in_artist_title_csv('Data/timeout_the-50-best-karaoke-songs-ever.csv')\n"
   ]
  },
  {
   "cell_type": "code",
   "execution_count": 84,
   "id": "47d81fff",
   "metadata": {},
   "outputs": [],
   "source": [
    "def save_features_csv_for_all_tracks_in_artist_title_csv(infilepath):\n",
    "    \n",
    "    # extract the name of the input file, without the csv suffix\n",
    "    songlistname = '.'.join(os.path.basename(infilepath).split('.')[:-1])\n",
    "    \n",
    "    outdir = os.path.join('Data', 'audio_features')\n",
    "    if not os.path.exists(outdir):\n",
    "        os.mkdir(outdir)\n",
    "    outfilename = os.path.join(outdir, f'{songlistname}.csv')\n",
    "    \n",
    "    my_songs_to_find = pd.read_csv(infilepath, index_col=None)\n",
    "        \n",
    "    list_of_songs=[]\n",
    "    for i in range(my_songs_to_find.shape[0]):\n",
    "        results = sp.search(q=my_songs_to_find.title[i],limit=1,market=\"GB\")\n",
    "        try:\n",
    "            list_of_songs.append(sp.audio_features(results['tracks']['items'][0]['id'])[0])\n",
    "        except:\n",
    "            print(f'Skipping song due to error: {my_songs_to_find.title[i]}')\n",
    "            continue\n",
    "\n",
    "    song_audio_features = pd.DataFrame(list_of_songs)\n",
    "    song_audio_features.to_csv(outfilename, index=False)\n",
    "    \n",
    "    print(f'Saved {my_songs_to_find.shape[0]} tracks in file: {outfilename}')\n",
    "    return"
   ]
  }
 ],
 "metadata": {
  "kernelspec": {
   "display_name": "Python 3 (ipykernel)",
   "language": "python",
   "name": "python3"
  },
  "language_info": {
   "codemirror_mode": {
    "name": "ipython",
    "version": 3
   },
   "file_extension": ".py",
   "mimetype": "text/x-python",
   "name": "python",
   "nbconvert_exporter": "python",
   "pygments_lexer": "ipython3",
   "version": "3.9.7"
  }
 },
 "nbformat": 4,
 "nbformat_minor": 5
}
