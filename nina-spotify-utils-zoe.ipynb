{
 "cells": [
  {
   "cell_type": "code",
   "execution_count": 5,
   "id": "80259c1f",
   "metadata": {},
   "outputs": [],
   "source": [
    "import config\n",
    "\n",
    "import os\n",
    "import numpy as np\n",
    "import pandas as pd\n",
    "import spotipy\n",
    "import json\n",
    "from spotipy.oauth2 import SpotifyClientCredentials\n",
    "\n",
    "from time import sleep\n",
    "from random import randint"
   ]
  },
  {
   "cell_type": "code",
   "execution_count": 6,
   "id": "0ef2066e",
   "metadata": {},
   "outputs": [],
   "source": [
    "#2.#Initialize SpotiPy with user credentias\n",
    "sp = spotipy.Spotify(auth_manager=SpotifyClientCredentials(client_id= config.c_id,client_secret= config.c_se))  "
   ]
  },
  {
   "cell_type": "code",
   "execution_count": null,
   "id": "06842c25",
   "metadata": {},
   "outputs": [],
   "source": []
  },
  {
   "cell_type": "markdown",
   "id": "68294cf2",
   "metadata": {},
   "source": [
    "## Lookup hot list song info"
   ]
  },
  {
   "cell_type": "code",
   "execution_count": 7,
   "id": "cc04683e",
   "metadata": {},
   "outputs": [],
   "source": [
    "def get_spotify_info_for_all_tracks_in_hot_artist_title_csv(infilepath):\n",
    "    \n",
    "    # extract the name of the input file, without the csv suffix\n",
    "    songlistname = '.'.join(os.path.basename(infilepath).split('.')[:-1])\n",
    "    \n",
    "    outdir = os.path.join('Data', 'db')\n",
    "    if not os.path.exists(outdir):\n",
    "        os.mkdir(outdir)\n",
    "    outfilename = os.path.join(outdir, f'{songlistname}.csv')\n",
    "    \n",
    "    my_songs_to_find = pd.read_csv(infilepath, index_col=None)\n",
    "        \n",
    "    ids=[]\n",
    "    titles=[]\n",
    "    artists=[]\n",
    "    pp_artist=[]\n",
    "    \n",
    "    for i in range(my_songs_to_find.shape[0]):\n",
    "        ## these are hot songs, assume top hit is correct\n",
    "        results = sp.search(q=my_songs_to_find.title[i], limit=1, market=\"GB\")\n",
    "        track_info = results['tracks']['items'][0]\n",
    "        \n",
    "        ids.append(track_info['id'])\n",
    "        titles.append(track_info['name'])\n",
    "        artists.append([x['name'] for x in track_info['artists']])\n",
    "        pp_artist.append(display_artist(track_info))\n",
    "    \n",
    "    ## --- put the ids, title, and artist all together\n",
    "    hot_tracks_db = pd.DataFrame({'id': ids, 'title': titles, \n",
    "                                  'artists': artists, 'pp_artist': pp_artist})\n",
    "    \n",
    "    hot_tracks_db.to_csv(outfilename, index=False)               \n",
    "    print(f'Saved {hot_tracks_db.shape[0]} tracks in file: {outfilename}')\n",
    "    return"
   ]
  },
  {
   "cell_type": "code",
   "execution_count": 8,
   "id": "6c6edd3f",
   "metadata": {},
   "outputs": [
    {
     "ename": "IndexError",
     "evalue": "list index out of range",
     "output_type": "error",
     "traceback": [
      "\u001b[0;31m---------------------------------------------------------------------------\u001b[0m",
      "\u001b[0;31mIndexError\u001b[0m                                Traceback (most recent call last)",
      "\u001b[0;32m/var/folders/1v/g8y8j8b96ls9v53br8btmh580000gn/T/ipykernel_43536/2290072543.py\u001b[0m in \u001b[0;36m<module>\u001b[0;34m\u001b[0m\n\u001b[0;32m----> 1\u001b[0;31m \u001b[0mget_spotify_info_for_all_tracks_in_hot_artist_title_csv\u001b[0m\u001b[0;34m(\u001b[0m\u001b[0;34m'zoe/hot/Mtv/mtv.csv'\u001b[0m\u001b[0;34m)\u001b[0m\u001b[0;34m\u001b[0m\u001b[0;34m\u001b[0m\u001b[0m\n\u001b[0m",
      "\u001b[0;32m/var/folders/1v/g8y8j8b96ls9v53br8btmh580000gn/T/ipykernel_43536/3913464250.py\u001b[0m in \u001b[0;36mget_spotify_info_for_all_tracks_in_hot_artist_title_csv\u001b[0;34m(infilepath)\u001b[0m\n\u001b[1;32m     19\u001b[0m         \u001b[0;31m## these are hot songs, assume top hit is correct\u001b[0m\u001b[0;34m\u001b[0m\u001b[0;34m\u001b[0m\u001b[0m\n\u001b[1;32m     20\u001b[0m         \u001b[0mresults\u001b[0m \u001b[0;34m=\u001b[0m \u001b[0msp\u001b[0m\u001b[0;34m.\u001b[0m\u001b[0msearch\u001b[0m\u001b[0;34m(\u001b[0m\u001b[0mq\u001b[0m\u001b[0;34m=\u001b[0m\u001b[0mmy_songs_to_find\u001b[0m\u001b[0;34m.\u001b[0m\u001b[0mtitle\u001b[0m\u001b[0;34m[\u001b[0m\u001b[0mi\u001b[0m\u001b[0;34m]\u001b[0m\u001b[0;34m,\u001b[0m \u001b[0mlimit\u001b[0m\u001b[0;34m=\u001b[0m\u001b[0;36m1\u001b[0m\u001b[0;34m,\u001b[0m \u001b[0mmarket\u001b[0m\u001b[0;34m=\u001b[0m\u001b[0;34m\"GB\"\u001b[0m\u001b[0;34m)\u001b[0m\u001b[0;34m\u001b[0m\u001b[0;34m\u001b[0m\u001b[0m\n\u001b[0;32m---> 21\u001b[0;31m         \u001b[0mtrack_info\u001b[0m \u001b[0;34m=\u001b[0m \u001b[0mresults\u001b[0m\u001b[0;34m[\u001b[0m\u001b[0;34m'tracks'\u001b[0m\u001b[0;34m]\u001b[0m\u001b[0;34m[\u001b[0m\u001b[0;34m'items'\u001b[0m\u001b[0;34m]\u001b[0m\u001b[0;34m[\u001b[0m\u001b[0;36m0\u001b[0m\u001b[0;34m]\u001b[0m\u001b[0;34m\u001b[0m\u001b[0;34m\u001b[0m\u001b[0m\n\u001b[0m\u001b[1;32m     22\u001b[0m \u001b[0;34m\u001b[0m\u001b[0m\n\u001b[1;32m     23\u001b[0m         \u001b[0mids\u001b[0m\u001b[0;34m.\u001b[0m\u001b[0mappend\u001b[0m\u001b[0;34m(\u001b[0m\u001b[0mtrack_info\u001b[0m\u001b[0;34m[\u001b[0m\u001b[0;34m'id'\u001b[0m\u001b[0;34m]\u001b[0m\u001b[0;34m)\u001b[0m\u001b[0;34m\u001b[0m\u001b[0;34m\u001b[0m\u001b[0m\n",
      "\u001b[0;31mIndexError\u001b[0m: list index out of range"
     ]
    }
   ],
   "source": [
    "get_spotify_info_for_all_tracks_in_hot_artist_title_csv('zoe/hot/Mtv/mtv.csv')"
   ]
  },
  {
   "cell_type": "code",
   "execution_count": null,
   "id": "ecff6c14",
   "metadata": {},
   "outputs": [],
   "source": [
    "get_spotify_info_for_all_tracks_in_hot_artist_title_csv('Data/Hot/uk_hot100_2021-02-14.csv')"
   ]
  },
  {
   "cell_type": "markdown",
   "id": "1b73b4cf",
   "metadata": {},
   "source": [
    "According to the docs, a spotify query type can be one or more of ‘artist’, ‘album’, ‘track’, ‘playlist’, ‘show’, and ‘episode’.\n",
    "\n",
    "...so it seems you can't search by user\n",
    "\n",
    "https://spotipy.readthedocs.io/en/2.19.0/#spotipy.client.Spotify.search"
   ]
  },
  {
   "cell_type": "code",
   "execution_count": null,
   "id": "7637a1c1",
   "metadata": {},
   "outputs": [],
   "source": []
  }
 ],
 "metadata": {
  "kernelspec": {
   "display_name": "Python 3 (ipykernel)",
   "language": "python",
   "name": "python3"
  },
  "language_info": {
   "codemirror_mode": {
    "name": "ipython",
    "version": 3
   },
   "file_extension": ".py",
   "mimetype": "text/x-python",
   "name": "python",
   "nbconvert_exporter": "python",
   "pygments_lexer": "ipython3",
   "version": "3.9.7"
  }
 },
 "nbformat": 4,
 "nbformat_minor": 5
}
