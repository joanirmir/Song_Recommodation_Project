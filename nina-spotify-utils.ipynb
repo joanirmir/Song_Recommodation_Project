{
 "cells": [
  {
   "cell_type": "code",
   "execution_count": 1,
   "id": "80259c1f",
   "metadata": {},
   "outputs": [],
   "source": [
    "import config\n",
    "\n",
    "import os\n",
    "import numpy as np\n",
    "import pandas as pd\n",
    "import spotipy\n",
    "import json\n",
    "from spotipy.oauth2 import SpotifyClientCredentials\n",
    "\n",
    "from time import sleep\n",
    "from random import randint"
   ]
  },
  {
   "cell_type": "code",
   "execution_count": 2,
   "id": "3253eedc",
   "metadata": {},
   "outputs": [],
   "source": [
    "#Initialize SpotiPy with user credentias\n",
    "sp = spotipy.Spotify(auth_manager=SpotifyClientCredentials(client_id= config.client_id,\n",
    "                                                           client_secret= config.client_secret))"
   ]
  },
  {
   "cell_type": "markdown",
   "id": "05938d5c",
   "metadata": {},
   "source": [
    "## Get artist and track title"
   ]
  },
  {
   "cell_type": "code",
   "execution_count": 3,
   "id": "1435e2d5",
   "metadata": {},
   "outputs": [],
   "source": [
    "def display_artist(track_info):\n",
    "## create a single string with all artist names\n",
    "    return \" / \".join([x['name'] for x in track_info['artists']])"
   ]
  },
  {
   "cell_type": "code",
   "execution_count": 4,
   "id": "81638e9a",
   "metadata": {},
   "outputs": [],
   "source": [
    "def get_artist_etc_given_id(track_ids, print_status_rate = None):\n",
    "    ## use the ids to get the title (name) and artist info for each track\n",
    "    titles=[]\n",
    "    artists=[]\n",
    "    pp_artist=[]\n",
    "    n=0\n",
    "    for i in range(len(track_ids)):\n",
    "        trackid = track_ids[i]\n",
    "        n+=1\n",
    "        if print_status_rate is not None and n % print_status_rate == 0:\n",
    "            print(f'processed {n} records')\n",
    "\n",
    "        track_info = sp.track(trackid, market='GB')\n",
    "        titles.append(track_info['name'])\n",
    "        artists.append([x['name'] for x in track_info['artists']])\n",
    "        pp_artist.append(display_artist(track_info))\n",
    "    print(f\"DONE! returning {n} records\")\n",
    "    return pd.DataFrame({'title': titles, 'artists': artists, 'pp_artist': pp_artist})"
   ]
  },
  {
   "cell_type": "markdown",
   "id": "93303ebf",
   "metadata": {},
   "source": [
    "## load track ids from csvs with cluster labels\n",
    "\n",
    "This is the final version of code copied from another notebook with batching added"
   ]
  },
  {
   "cell_type": "code",
   "execution_count": 6,
   "id": "e174c0d3",
   "metadata": {},
   "outputs": [
    {
     "name": "stdout",
     "output_type": "stream",
     "text": [
      "Reading: Data/nina-staging/batchA2_big_data_id_and_cluster_labels.csv\n",
      "processed 200 records\n",
      "processed 400 records\n",
      "DONE! returning 500 records\n",
      "Saved: Data/db/big_data_batchA2-0.csv\n",
      "processed 200 records\n",
      "processed 400 records\n",
      "DONE! returning 500 records\n",
      "Saved: Data/db/big_data_batchA2-500.csv\n",
      "processed 200 records\n",
      "processed 400 records\n",
      "DONE! returning 500 records\n",
      "Saved: Data/db/big_data_batchA2-1000.csv\n",
      "processed 200 records\n",
      "processed 400 records\n"
     ]
    },
    {
     "ename": "KeyboardInterrupt",
     "evalue": "",
     "output_type": "error",
     "traceback": [
      "\u001b[0;31m---------------------------------------------------------------------------\u001b[0m",
      "\u001b[0;31mKeyboardInterrupt\u001b[0m                         Traceback (most recent call last)",
      "\u001b[0;32m/var/folders/ns/hltzv0257mg40hrl6ty1qvwm0000gn/T/ipykernel_85990/1077447809.py\u001b[0m in \u001b[0;36m<module>\u001b[0;34m\u001b[0m\n\u001b[1;32m     11\u001b[0m     \u001b[0mn_tracks\u001b[0m \u001b[0;34m=\u001b[0m \u001b[0mmy_id_labels_df\u001b[0m\u001b[0;34m.\u001b[0m\u001b[0mshape\u001b[0m\u001b[0;34m[\u001b[0m\u001b[0;36m0\u001b[0m\u001b[0;34m]\u001b[0m\u001b[0;34m\u001b[0m\u001b[0;34m\u001b[0m\u001b[0m\n\u001b[1;32m     12\u001b[0m     \u001b[0;32mfor\u001b[0m \u001b[0ms\u001b[0m \u001b[0;32min\u001b[0m \u001b[0mrange\u001b[0m\u001b[0;34m(\u001b[0m\u001b[0;36m0\u001b[0m\u001b[0;34m,\u001b[0m \u001b[0mn_tracks\u001b[0m\u001b[0;34m,\u001b[0m \u001b[0mchunksize\u001b[0m\u001b[0;34m)\u001b[0m\u001b[0;34m:\u001b[0m\u001b[0;34m\u001b[0m\u001b[0;34m\u001b[0m\u001b[0m\n\u001b[0;32m---> 13\u001b[0;31m         artist_etc_df = get_artist_etc_given_id(my_id_labels_df.id.to_list()[s : min(n_tracks, s+chunksize)],\n\u001b[0m\u001b[1;32m     14\u001b[0m                                                print_status_rate=200)\n\u001b[1;32m     15\u001b[0m         \u001b[0mmy_track_db\u001b[0m \u001b[0;34m=\u001b[0m \u001b[0mpd\u001b[0m\u001b[0;34m.\u001b[0m\u001b[0mconcat\u001b[0m\u001b[0;34m(\u001b[0m\u001b[0;34m[\u001b[0m\u001b[0mmy_id_labels_df\u001b[0m\u001b[0;34m[\u001b[0m\u001b[0ms\u001b[0m \u001b[0;34m:\u001b[0m \u001b[0mmin\u001b[0m\u001b[0;34m(\u001b[0m\u001b[0mn_tracks\u001b[0m\u001b[0;34m,\u001b[0m \u001b[0ms\u001b[0m\u001b[0;34m+\u001b[0m\u001b[0mchunksize\u001b[0m\u001b[0;34m)\u001b[0m\u001b[0;34m]\u001b[0m\u001b[0;34m,\u001b[0m \u001b[0martist_etc_df\u001b[0m\u001b[0;34m]\u001b[0m\u001b[0;34m,\u001b[0m \u001b[0maxis\u001b[0m\u001b[0;34m=\u001b[0m\u001b[0;36m1\u001b[0m\u001b[0;34m)\u001b[0m\u001b[0;34m\u001b[0m\u001b[0;34m\u001b[0m\u001b[0m\n",
      "\u001b[0;32m/var/folders/ns/hltzv0257mg40hrl6ty1qvwm0000gn/T/ipykernel_85990/2462739385.py\u001b[0m in \u001b[0;36mget_artist_etc_given_id\u001b[0;34m(track_ids, print_status_rate)\u001b[0m\n\u001b[1;32m     11\u001b[0m             \u001b[0mprint\u001b[0m\u001b[0;34m(\u001b[0m\u001b[0;34mf'processed {n} records'\u001b[0m\u001b[0;34m)\u001b[0m\u001b[0;34m\u001b[0m\u001b[0;34m\u001b[0m\u001b[0m\n\u001b[1;32m     12\u001b[0m \u001b[0;34m\u001b[0m\u001b[0m\n\u001b[0;32m---> 13\u001b[0;31m         \u001b[0mtrack_info\u001b[0m \u001b[0;34m=\u001b[0m \u001b[0msp\u001b[0m\u001b[0;34m.\u001b[0m\u001b[0mtrack\u001b[0m\u001b[0;34m(\u001b[0m\u001b[0mtrackid\u001b[0m\u001b[0;34m,\u001b[0m \u001b[0mmarket\u001b[0m\u001b[0;34m=\u001b[0m\u001b[0;34m'GB'\u001b[0m\u001b[0;34m)\u001b[0m\u001b[0;34m\u001b[0m\u001b[0;34m\u001b[0m\u001b[0m\n\u001b[0m\u001b[1;32m     14\u001b[0m         \u001b[0mtitles\u001b[0m\u001b[0;34m.\u001b[0m\u001b[0mappend\u001b[0m\u001b[0;34m(\u001b[0m\u001b[0mtrack_info\u001b[0m\u001b[0;34m[\u001b[0m\u001b[0;34m'name'\u001b[0m\u001b[0;34m]\u001b[0m\u001b[0;34m)\u001b[0m\u001b[0;34m\u001b[0m\u001b[0;34m\u001b[0m\u001b[0m\n\u001b[1;32m     15\u001b[0m         \u001b[0martists\u001b[0m\u001b[0;34m.\u001b[0m\u001b[0mappend\u001b[0m\u001b[0;34m(\u001b[0m\u001b[0;34m[\u001b[0m\u001b[0mx\u001b[0m\u001b[0;34m[\u001b[0m\u001b[0;34m'name'\u001b[0m\u001b[0;34m]\u001b[0m \u001b[0;32mfor\u001b[0m \u001b[0mx\u001b[0m \u001b[0;32min\u001b[0m \u001b[0mtrack_info\u001b[0m\u001b[0;34m[\u001b[0m\u001b[0;34m'artists'\u001b[0m\u001b[0;34m]\u001b[0m\u001b[0;34m]\u001b[0m\u001b[0;34m)\u001b[0m\u001b[0;34m\u001b[0m\u001b[0;34m\u001b[0m\u001b[0m\n",
      "\u001b[0;32m~/opt/anaconda3/envs/da-ironhack/lib/python3.9/site-packages/spotipy/client.py\u001b[0m in \u001b[0;36mtrack\u001b[0;34m(self, track_id, market)\u001b[0m\n\u001b[1;32m    343\u001b[0m \u001b[0;34m\u001b[0m\u001b[0m\n\u001b[1;32m    344\u001b[0m         \u001b[0mtrid\u001b[0m \u001b[0;34m=\u001b[0m \u001b[0mself\u001b[0m\u001b[0;34m.\u001b[0m\u001b[0m_get_id\u001b[0m\u001b[0;34m(\u001b[0m\u001b[0;34m\"track\"\u001b[0m\u001b[0;34m,\u001b[0m \u001b[0mtrack_id\u001b[0m\u001b[0;34m)\u001b[0m\u001b[0;34m\u001b[0m\u001b[0;34m\u001b[0m\u001b[0m\n\u001b[0;32m--> 345\u001b[0;31m         \u001b[0;32mreturn\u001b[0m \u001b[0mself\u001b[0m\u001b[0;34m.\u001b[0m\u001b[0m_get\u001b[0m\u001b[0;34m(\u001b[0m\u001b[0;34m\"tracks/\"\u001b[0m \u001b[0;34m+\u001b[0m \u001b[0mtrid\u001b[0m\u001b[0;34m,\u001b[0m \u001b[0mmarket\u001b[0m\u001b[0;34m=\u001b[0m\u001b[0mmarket\u001b[0m\u001b[0;34m)\u001b[0m\u001b[0;34m\u001b[0m\u001b[0;34m\u001b[0m\u001b[0m\n\u001b[0m\u001b[1;32m    346\u001b[0m \u001b[0;34m\u001b[0m\u001b[0m\n\u001b[1;32m    347\u001b[0m     \u001b[0;32mdef\u001b[0m \u001b[0mtracks\u001b[0m\u001b[0;34m(\u001b[0m\u001b[0mself\u001b[0m\u001b[0;34m,\u001b[0m \u001b[0mtracks\u001b[0m\u001b[0;34m,\u001b[0m \u001b[0mmarket\u001b[0m\u001b[0;34m=\u001b[0m\u001b[0;32mNone\u001b[0m\u001b[0;34m)\u001b[0m\u001b[0;34m:\u001b[0m\u001b[0;34m\u001b[0m\u001b[0;34m\u001b[0m\u001b[0m\n",
      "\u001b[0;32m~/opt/anaconda3/envs/da-ironhack/lib/python3.9/site-packages/spotipy/client.py\u001b[0m in \u001b[0;36m_get\u001b[0;34m(self, url, args, payload, **kwargs)\u001b[0m\n\u001b[1;32m    295\u001b[0m             \u001b[0mkwargs\u001b[0m\u001b[0;34m.\u001b[0m\u001b[0mupdate\u001b[0m\u001b[0;34m(\u001b[0m\u001b[0margs\u001b[0m\u001b[0;34m)\u001b[0m\u001b[0;34m\u001b[0m\u001b[0;34m\u001b[0m\u001b[0m\n\u001b[1;32m    296\u001b[0m \u001b[0;34m\u001b[0m\u001b[0m\n\u001b[0;32m--> 297\u001b[0;31m         \u001b[0;32mreturn\u001b[0m \u001b[0mself\u001b[0m\u001b[0;34m.\u001b[0m\u001b[0m_internal_call\u001b[0m\u001b[0;34m(\u001b[0m\u001b[0;34m\"GET\"\u001b[0m\u001b[0;34m,\u001b[0m \u001b[0murl\u001b[0m\u001b[0;34m,\u001b[0m \u001b[0mpayload\u001b[0m\u001b[0;34m,\u001b[0m \u001b[0mkwargs\u001b[0m\u001b[0;34m)\u001b[0m\u001b[0;34m\u001b[0m\u001b[0;34m\u001b[0m\u001b[0m\n\u001b[0m\u001b[1;32m    298\u001b[0m \u001b[0;34m\u001b[0m\u001b[0m\n\u001b[1;32m    299\u001b[0m     \u001b[0;32mdef\u001b[0m \u001b[0m_post\u001b[0m\u001b[0;34m(\u001b[0m\u001b[0mself\u001b[0m\u001b[0;34m,\u001b[0m \u001b[0murl\u001b[0m\u001b[0;34m,\u001b[0m \u001b[0margs\u001b[0m\u001b[0;34m=\u001b[0m\u001b[0;32mNone\u001b[0m\u001b[0;34m,\u001b[0m \u001b[0mpayload\u001b[0m\u001b[0;34m=\u001b[0m\u001b[0;32mNone\u001b[0m\u001b[0;34m,\u001b[0m \u001b[0;34m**\u001b[0m\u001b[0mkwargs\u001b[0m\u001b[0;34m)\u001b[0m\u001b[0;34m:\u001b[0m\u001b[0;34m\u001b[0m\u001b[0;34m\u001b[0m\u001b[0m\n",
      "\u001b[0;32m~/opt/anaconda3/envs/da-ironhack/lib/python3.9/site-packages/spotipy/client.py\u001b[0m in \u001b[0;36m_internal_call\u001b[0;34m(self, method, url, payload, params)\u001b[0m\n\u001b[1;32m    238\u001b[0m \u001b[0;34m\u001b[0m\u001b[0m\n\u001b[1;32m    239\u001b[0m         \u001b[0;32mtry\u001b[0m\u001b[0;34m:\u001b[0m\u001b[0;34m\u001b[0m\u001b[0;34m\u001b[0m\u001b[0m\n\u001b[0;32m--> 240\u001b[0;31m             response = self._session.request(\n\u001b[0m\u001b[1;32m    241\u001b[0m                 \u001b[0mmethod\u001b[0m\u001b[0;34m,\u001b[0m \u001b[0murl\u001b[0m\u001b[0;34m,\u001b[0m \u001b[0mheaders\u001b[0m\u001b[0;34m=\u001b[0m\u001b[0mheaders\u001b[0m\u001b[0;34m,\u001b[0m \u001b[0mproxies\u001b[0m\u001b[0;34m=\u001b[0m\u001b[0mself\u001b[0m\u001b[0;34m.\u001b[0m\u001b[0mproxies\u001b[0m\u001b[0;34m,\u001b[0m\u001b[0;34m\u001b[0m\u001b[0;34m\u001b[0m\u001b[0m\n\u001b[1;32m    242\u001b[0m                 \u001b[0mtimeout\u001b[0m\u001b[0;34m=\u001b[0m\u001b[0mself\u001b[0m\u001b[0;34m.\u001b[0m\u001b[0mrequests_timeout\u001b[0m\u001b[0;34m,\u001b[0m \u001b[0;34m**\u001b[0m\u001b[0margs\u001b[0m\u001b[0;34m\u001b[0m\u001b[0;34m\u001b[0m\u001b[0m\n",
      "\u001b[0;32m~/opt/anaconda3/envs/da-ironhack/lib/python3.9/site-packages/requests/sessions.py\u001b[0m in \u001b[0;36mrequest\u001b[0;34m(self, method, url, params, data, headers, cookies, files, auth, timeout, allow_redirects, proxies, hooks, stream, verify, cert, json)\u001b[0m\n\u001b[1;32m    527\u001b[0m         }\n\u001b[1;32m    528\u001b[0m         \u001b[0msend_kwargs\u001b[0m\u001b[0;34m.\u001b[0m\u001b[0mupdate\u001b[0m\u001b[0;34m(\u001b[0m\u001b[0msettings\u001b[0m\u001b[0;34m)\u001b[0m\u001b[0;34m\u001b[0m\u001b[0;34m\u001b[0m\u001b[0m\n\u001b[0;32m--> 529\u001b[0;31m         \u001b[0mresp\u001b[0m \u001b[0;34m=\u001b[0m \u001b[0mself\u001b[0m\u001b[0;34m.\u001b[0m\u001b[0msend\u001b[0m\u001b[0;34m(\u001b[0m\u001b[0mprep\u001b[0m\u001b[0;34m,\u001b[0m \u001b[0;34m**\u001b[0m\u001b[0msend_kwargs\u001b[0m\u001b[0;34m)\u001b[0m\u001b[0;34m\u001b[0m\u001b[0;34m\u001b[0m\u001b[0m\n\u001b[0m\u001b[1;32m    530\u001b[0m \u001b[0;34m\u001b[0m\u001b[0m\n\u001b[1;32m    531\u001b[0m         \u001b[0;32mreturn\u001b[0m \u001b[0mresp\u001b[0m\u001b[0;34m\u001b[0m\u001b[0;34m\u001b[0m\u001b[0m\n",
      "\u001b[0;32m~/opt/anaconda3/envs/da-ironhack/lib/python3.9/site-packages/requests/sessions.py\u001b[0m in \u001b[0;36msend\u001b[0;34m(self, request, **kwargs)\u001b[0m\n\u001b[1;32m    643\u001b[0m \u001b[0;34m\u001b[0m\u001b[0m\n\u001b[1;32m    644\u001b[0m         \u001b[0;31m# Send the request\u001b[0m\u001b[0;34m\u001b[0m\u001b[0;34m\u001b[0m\u001b[0m\n\u001b[0;32m--> 645\u001b[0;31m         \u001b[0mr\u001b[0m \u001b[0;34m=\u001b[0m \u001b[0madapter\u001b[0m\u001b[0;34m.\u001b[0m\u001b[0msend\u001b[0m\u001b[0;34m(\u001b[0m\u001b[0mrequest\u001b[0m\u001b[0;34m,\u001b[0m \u001b[0;34m**\u001b[0m\u001b[0mkwargs\u001b[0m\u001b[0;34m)\u001b[0m\u001b[0;34m\u001b[0m\u001b[0;34m\u001b[0m\u001b[0m\n\u001b[0m\u001b[1;32m    646\u001b[0m \u001b[0;34m\u001b[0m\u001b[0m\n\u001b[1;32m    647\u001b[0m         \u001b[0;31m# Total elapsed time of the request (approximately)\u001b[0m\u001b[0;34m\u001b[0m\u001b[0;34m\u001b[0m\u001b[0m\n",
      "\u001b[0;32m~/opt/anaconda3/envs/da-ironhack/lib/python3.9/site-packages/requests/adapters.py\u001b[0m in \u001b[0;36msend\u001b[0;34m(self, request, stream, timeout, verify, cert, proxies)\u001b[0m\n\u001b[1;32m    438\u001b[0m         \u001b[0;32mtry\u001b[0m\u001b[0;34m:\u001b[0m\u001b[0;34m\u001b[0m\u001b[0;34m\u001b[0m\u001b[0m\n\u001b[1;32m    439\u001b[0m             \u001b[0;32mif\u001b[0m \u001b[0;32mnot\u001b[0m \u001b[0mchunked\u001b[0m\u001b[0;34m:\u001b[0m\u001b[0;34m\u001b[0m\u001b[0;34m\u001b[0m\u001b[0m\n\u001b[0;32m--> 440\u001b[0;31m                 resp = conn.urlopen(\n\u001b[0m\u001b[1;32m    441\u001b[0m                     \u001b[0mmethod\u001b[0m\u001b[0;34m=\u001b[0m\u001b[0mrequest\u001b[0m\u001b[0;34m.\u001b[0m\u001b[0mmethod\u001b[0m\u001b[0;34m,\u001b[0m\u001b[0;34m\u001b[0m\u001b[0;34m\u001b[0m\u001b[0m\n\u001b[1;32m    442\u001b[0m                     \u001b[0murl\u001b[0m\u001b[0;34m=\u001b[0m\u001b[0murl\u001b[0m\u001b[0;34m,\u001b[0m\u001b[0;34m\u001b[0m\u001b[0;34m\u001b[0m\u001b[0m\n",
      "\u001b[0;32m~/opt/anaconda3/envs/da-ironhack/lib/python3.9/site-packages/urllib3/connectionpool.py\u001b[0m in \u001b[0;36murlopen\u001b[0;34m(self, method, url, body, headers, retries, redirect, assert_same_host, timeout, pool_timeout, release_conn, chunked, body_pos, **response_kw)\u001b[0m\n\u001b[1;32m    874\u001b[0m             \u001b[0mretries\u001b[0m\u001b[0;34m.\u001b[0m\u001b[0msleep\u001b[0m\u001b[0;34m(\u001b[0m\u001b[0mresponse\u001b[0m\u001b[0;34m)\u001b[0m\u001b[0;34m\u001b[0m\u001b[0;34m\u001b[0m\u001b[0m\n\u001b[1;32m    875\u001b[0m             \u001b[0mlog\u001b[0m\u001b[0;34m.\u001b[0m\u001b[0mdebug\u001b[0m\u001b[0;34m(\u001b[0m\u001b[0;34m\"Retry: %s\"\u001b[0m\u001b[0;34m,\u001b[0m \u001b[0murl\u001b[0m\u001b[0;34m)\u001b[0m\u001b[0;34m\u001b[0m\u001b[0;34m\u001b[0m\u001b[0m\n\u001b[0;32m--> 876\u001b[0;31m             return self.urlopen(\n\u001b[0m\u001b[1;32m    877\u001b[0m                 \u001b[0mmethod\u001b[0m\u001b[0;34m,\u001b[0m\u001b[0;34m\u001b[0m\u001b[0;34m\u001b[0m\u001b[0m\n\u001b[1;32m    878\u001b[0m                 \u001b[0murl\u001b[0m\u001b[0;34m,\u001b[0m\u001b[0;34m\u001b[0m\u001b[0;34m\u001b[0m\u001b[0m\n",
      "\u001b[0;32m~/opt/anaconda3/envs/da-ironhack/lib/python3.9/site-packages/urllib3/connectionpool.py\u001b[0m in \u001b[0;36murlopen\u001b[0;34m(self, method, url, body, headers, retries, redirect, assert_same_host, timeout, pool_timeout, release_conn, chunked, body_pos, **response_kw)\u001b[0m\n\u001b[1;32m    872\u001b[0m \u001b[0;34m\u001b[0m\u001b[0m\n\u001b[1;32m    873\u001b[0m             \u001b[0mresponse\u001b[0m\u001b[0;34m.\u001b[0m\u001b[0mdrain_conn\u001b[0m\u001b[0;34m(\u001b[0m\u001b[0;34m)\u001b[0m\u001b[0;34m\u001b[0m\u001b[0;34m\u001b[0m\u001b[0m\n\u001b[0;32m--> 874\u001b[0;31m             \u001b[0mretries\u001b[0m\u001b[0;34m.\u001b[0m\u001b[0msleep\u001b[0m\u001b[0;34m(\u001b[0m\u001b[0mresponse\u001b[0m\u001b[0;34m)\u001b[0m\u001b[0;34m\u001b[0m\u001b[0;34m\u001b[0m\u001b[0m\n\u001b[0m\u001b[1;32m    875\u001b[0m             \u001b[0mlog\u001b[0m\u001b[0;34m.\u001b[0m\u001b[0mdebug\u001b[0m\u001b[0;34m(\u001b[0m\u001b[0;34m\"Retry: %s\"\u001b[0m\u001b[0;34m,\u001b[0m \u001b[0murl\u001b[0m\u001b[0;34m)\u001b[0m\u001b[0;34m\u001b[0m\u001b[0;34m\u001b[0m\u001b[0m\n\u001b[1;32m    876\u001b[0m             return self.urlopen(\n",
      "\u001b[0;32m~/opt/anaconda3/envs/da-ironhack/lib/python3.9/site-packages/urllib3/util/retry.py\u001b[0m in \u001b[0;36msleep\u001b[0;34m(self, response)\u001b[0m\n\u001b[1;32m    426\u001b[0m \u001b[0;34m\u001b[0m\u001b[0m\n\u001b[1;32m    427\u001b[0m         \u001b[0;32mif\u001b[0m \u001b[0mself\u001b[0m\u001b[0;34m.\u001b[0m\u001b[0mrespect_retry_after_header\u001b[0m \u001b[0;32mand\u001b[0m \u001b[0mresponse\u001b[0m\u001b[0;34m:\u001b[0m\u001b[0;34m\u001b[0m\u001b[0;34m\u001b[0m\u001b[0m\n\u001b[0;32m--> 428\u001b[0;31m             \u001b[0mslept\u001b[0m \u001b[0;34m=\u001b[0m \u001b[0mself\u001b[0m\u001b[0;34m.\u001b[0m\u001b[0msleep_for_retry\u001b[0m\u001b[0;34m(\u001b[0m\u001b[0mresponse\u001b[0m\u001b[0;34m)\u001b[0m\u001b[0;34m\u001b[0m\u001b[0;34m\u001b[0m\u001b[0m\n\u001b[0m\u001b[1;32m    429\u001b[0m             \u001b[0;32mif\u001b[0m \u001b[0mslept\u001b[0m\u001b[0;34m:\u001b[0m\u001b[0;34m\u001b[0m\u001b[0;34m\u001b[0m\u001b[0m\n\u001b[1;32m    430\u001b[0m                 \u001b[0;32mreturn\u001b[0m\u001b[0;34m\u001b[0m\u001b[0;34m\u001b[0m\u001b[0m\n",
      "\u001b[0;32m~/opt/anaconda3/envs/da-ironhack/lib/python3.9/site-packages/urllib3/util/retry.py\u001b[0m in \u001b[0;36msleep_for_retry\u001b[0;34m(self, response)\u001b[0m\n\u001b[1;32m    405\u001b[0m         \u001b[0mretry_after\u001b[0m \u001b[0;34m=\u001b[0m \u001b[0mself\u001b[0m\u001b[0;34m.\u001b[0m\u001b[0mget_retry_after\u001b[0m\u001b[0;34m(\u001b[0m\u001b[0mresponse\u001b[0m\u001b[0;34m)\u001b[0m\u001b[0;34m\u001b[0m\u001b[0;34m\u001b[0m\u001b[0m\n\u001b[1;32m    406\u001b[0m         \u001b[0;32mif\u001b[0m \u001b[0mretry_after\u001b[0m\u001b[0;34m:\u001b[0m\u001b[0;34m\u001b[0m\u001b[0;34m\u001b[0m\u001b[0m\n\u001b[0;32m--> 407\u001b[0;31m             \u001b[0mtime\u001b[0m\u001b[0;34m.\u001b[0m\u001b[0msleep\u001b[0m\u001b[0;34m(\u001b[0m\u001b[0mretry_after\u001b[0m\u001b[0;34m)\u001b[0m\u001b[0;34m\u001b[0m\u001b[0;34m\u001b[0m\u001b[0m\n\u001b[0m\u001b[1;32m    408\u001b[0m             \u001b[0;32mreturn\u001b[0m \u001b[0;32mTrue\u001b[0m\u001b[0;34m\u001b[0m\u001b[0;34m\u001b[0m\u001b[0m\n\u001b[1;32m    409\u001b[0m \u001b[0;34m\u001b[0m\u001b[0m\n",
      "\u001b[0;31mKeyboardInterrupt\u001b[0m: "
     ]
    }
   ],
   "source": [
    "## =========== load track ids AND CLUSTER INFO from csvs and fill in the artist etc info =======\n",
    "\n",
    "infiles = {'A2': 'Data/nina-staging/batchA2_big_data_id_and_cluster_labels.csv',\n",
    "            'C': 'Data/nina-staging/batchC_big_data_id_and_cluster_labels.csv'}\n",
    "chunksize=500\n",
    "\n",
    "for k in infiles.keys():\n",
    "    print(f'Reading: {infiles[k]}')\n",
    "    my_id_labels_df = pd.read_csv(infiles[k], index_col=0)\n",
    "\n",
    "    n_tracks = my_id_labels_df.shape[0]\n",
    "    for s in range(0, n_tracks, chunksize):\n",
    "        artist_etc_df = get_artist_etc_given_id(my_id_labels_df.id.to_list()[s : min(n_tracks, s+chunksize)],\n",
    "                                               print_status_rate=200)\n",
    "        my_track_db = pd.concat([my_id_labels_df[s : min(n_tracks, s+chunksize)], artist_etc_df], axis=1)\n",
    "        \n",
    "        outfile = f'Data/db/big_data_batch{k}-{s}.csv'\n",
    "        my_track_db.to_csv(outfile, index=False)\n",
    "        print(f'Saved: {outfile}')\n",
    "    \n",
    "print('DONE')"
   ]
  },
  {
   "cell_type": "markdown",
   "id": "043dedbf",
   "metadata": {},
   "source": [
    "## load track ids from csvs with audio features"
   ]
  },
  {
   "cell_type": "code",
   "execution_count": 206,
   "id": "66027dce",
   "metadata": {},
   "outputs": [],
   "source": [
    "## load track ids from csvs with audio features\n",
    "indir = 'Data/audio_features/'\n",
    "infile_list = os.listdir(indir)\n",
    "\n",
    "dfs = []\n",
    "for fname in infile_list:\n",
    "    fname_tracks = pd.read_csv(os.path.join(indir, fname), index_col=None)\n",
    "    dfs.append(fname_tracks.id)\n",
    "    \n",
    "track_ids = pd.concat(dfs, axis=0)\n",
    "track_ids = track_ids.drop_duplicates().reset_index(drop=True)"
   ]
  },
  {
   "cell_type": "code",
   "execution_count": 215,
   "id": "9c3f53db",
   "metadata": {},
   "outputs": [],
   "source": [
    "## use the ids to get the title (name) and artist info for each track\n",
    "titles=[]\n",
    "artists=[]\n",
    "pp_artist=[]\n",
    "for trackid in track_ids:\n",
    "    track_info = sp.track(trackid, market='GB')\n",
    "    titles.append(track_info['name'])\n",
    "    artists.append([x['name'] for x in track_info['artists']])\n",
    "    pp_artist.append(display_artist(track_info))\n"
   ]
  },
  {
   "cell_type": "code",
   "execution_count": 216,
   "id": "55c27474",
   "metadata": {},
   "outputs": [
    {
     "data": {
      "text/html": [
       "<div>\n",
       "<style scoped>\n",
       "    .dataframe tbody tr th:only-of-type {\n",
       "        vertical-align: middle;\n",
       "    }\n",
       "\n",
       "    .dataframe tbody tr th {\n",
       "        vertical-align: top;\n",
       "    }\n",
       "\n",
       "    .dataframe thead th {\n",
       "        text-align: right;\n",
       "    }\n",
       "</style>\n",
       "<table border=\"1\" class=\"dataframe\">\n",
       "  <thead>\n",
       "    <tr style=\"text-align: right;\">\n",
       "      <th></th>\n",
       "      <th>id</th>\n",
       "      <th>title</th>\n",
       "      <th>artists</th>\n",
       "      <th>pp_artist</th>\n",
       "    </tr>\n",
       "  </thead>\n",
       "  <tbody>\n",
       "    <tr>\n",
       "      <th>0</th>\n",
       "      <td>5GAB1X0AJq2EZjxXP9zMFt</td>\n",
       "      <td>Archie, Marry Me</td>\n",
       "      <td>[Alvvays]</td>\n",
       "      <td>Alvvays</td>\n",
       "    </tr>\n",
       "    <tr>\n",
       "      <th>1</th>\n",
       "      <td>5xo8RrjJ9CVNrtRg2S3B1R</td>\n",
       "      <td>Motion Sickness</td>\n",
       "      <td>[Phoebe Bridgers]</td>\n",
       "      <td>Phoebe Bridgers</td>\n",
       "    </tr>\n",
       "    <tr>\n",
       "      <th>2</th>\n",
       "      <td>7KdF7Zac5eC9jutk9Qret4</td>\n",
       "      <td>The Wire</td>\n",
       "      <td>[HAIM]</td>\n",
       "      <td>HAIM</td>\n",
       "    </tr>\n",
       "  </tbody>\n",
       "</table>\n",
       "</div>"
      ],
      "text/plain": [
       "                       id             title            artists  \\\n",
       "0  5GAB1X0AJq2EZjxXP9zMFt  Archie, Marry Me          [Alvvays]   \n",
       "1  5xo8RrjJ9CVNrtRg2S3B1R   Motion Sickness  [Phoebe Bridgers]   \n",
       "2  7KdF7Zac5eC9jutk9Qret4          The Wire             [HAIM]   \n",
       "\n",
       "         pp_artist  \n",
       "0          Alvvays  \n",
       "1  Phoebe Bridgers  \n",
       "2             HAIM  "
      ]
     },
     "execution_count": 216,
     "metadata": {},
     "output_type": "execute_result"
    }
   ],
   "source": [
    "## --- put the ids, title, and artist all together\n",
    "our_track_db = pd.concat([track_ids, pd.DataFrame({'title': titles, \n",
    "                                                  'artists': artists, \n",
    "                                                  'pp_artist': pp_artist})], axis=1)\n",
    "our_track_db.head(3)"
   ]
  },
  {
   "cell_type": "markdown",
   "id": "e8eacfee",
   "metadata": {},
   "source": [
    "## Print track id, title, and artist to .csv\n"
   ]
  },
  {
   "cell_type": "code",
   "execution_count": 217,
   "id": "e0261575",
   "metadata": {},
   "outputs": [],
   "source": [
    "our_track_db.to_csv('Data/db/nina_day4_tracks.csv', index=False)"
   ]
  },
  {
   "cell_type": "markdown",
   "id": "e3337bfc",
   "metadata": {},
   "source": [
    "### Aside... to debug\n",
    "\n",
    "bah! this doesn't work right... not sure how to map this function to the series in one shot"
   ]
  },
  {
   "cell_type": "code",
   "execution_count": 190,
   "id": "3fe53d2c",
   "metadata": {},
   "outputs": [],
   "source": [
    "def get_track_name_and_combinedartists(trackid):\n",
    "    \"\"\" unused function\"\"\"\n",
    "    track_info = sp.track(trackid, market='GB')\n",
    "    return track_info['name'], display_artist(track_info)"
   ]
  },
  {
   "cell_type": "code",
   "execution_count": 195,
   "id": "e34df434",
   "metadata": {},
   "outputs": [],
   "source": [
    "#test_tracks_df['title'], test_tracks_df['artist'] = \n",
    "test_return = test_tracks_df.map(get_track_name_and_combinedartists)"
   ]
  },
  {
   "cell_type": "code",
   "execution_count": 197,
   "id": "079b736e",
   "metadata": {},
   "outputs": [
    {
     "data": {
      "text/plain": [
       "0                          (Archie, Marry Me, Alvvays)\n",
       "1                   (Motion Sickness, Phoebe Bridgers)\n",
       "2                                     (The Wire, HAIM)\n",
       "3                             (Brazil, Declan McKenna)\n",
       "4                                 (Hell N Back, Bakar)\n",
       "5                     (Positive Force, Delicate Steve)\n",
       "6    (Eat, Sleep, Wake (Nothing But You), Bombay Bi...\n",
       "7                (Don’t Delete The Kisses, Wolf Alice)\n",
       "8    (Funeral Singers, Sylvan Esso, Collections Of ...\n",
       "9                    (Summer Girl - Bonus Track, HAIM)\n",
       "Name: id, dtype: object"
      ]
     },
     "execution_count": 197,
     "metadata": {},
     "output_type": "execute_result"
    }
   ],
   "source": [
    "test_return"
   ]
  },
  {
   "cell_type": "markdown",
   "id": "f393d6f7",
   "metadata": {},
   "source": [
    "## Lookup hot list song info"
   ]
  },
  {
   "cell_type": "code",
   "execution_count": 9,
   "id": "2caaf896",
   "metadata": {},
   "outputs": [
    {
     "name": "stdout",
     "output_type": "stream",
     "text": [
      "Saved 100 tracks in file: Data/db/billboard_hot100_2021-02-14.csv\n"
     ]
    }
   ],
   "source": [
    "get_spotify_info_for_all_tracks_in_hot_artist_title_csv('Data/Hot/billboard_hot100_2021-02-14.csv')"
   ]
  },
  {
   "cell_type": "code",
   "execution_count": 10,
   "id": "bba66ffb",
   "metadata": {},
   "outputs": [
    {
     "name": "stdout",
     "output_type": "stream",
     "text": [
      "Saved 100 tracks in file: Data/db/uk_hot100_2021-02-14.csv\n"
     ]
    }
   ],
   "source": [
    "get_spotify_info_for_all_tracks_in_hot_artist_title_csv('Data/Hot/uk_hot100_2021-02-14.csv')"
   ]
  },
  {
   "cell_type": "code",
   "execution_count": 6,
   "id": "d8bb8fa1",
   "metadata": {},
   "outputs": [],
   "source": [
    "def get_spotify_info_for_all_tracks_in_hot_artist_title_csv(infilepath):\n",
    "    \n",
    "    # extract the name of the input file, without the csv suffix\n",
    "    songlistname = '.'.join(os.path.basename(infilepath).split('.')[:-1])\n",
    "    \n",
    "    outdir = os.path.join('Data', 'db')\n",
    "    if not os.path.exists(outdir):\n",
    "        os.mkdir(outdir)\n",
    "    outfilename = os.path.join(outdir, f'{songlistname}.csv')\n",
    "    \n",
    "    my_songs_to_find = pd.read_csv(infilepath, index_col=None)\n",
    "        \n",
    "    ids=[]\n",
    "    titles=[]\n",
    "    artists=[]\n",
    "    pp_artist=[]\n",
    "    \n",
    "    for i in range(my_songs_to_find.shape[0]):\n",
    "        ## these are hot songs, assume top hit is correct\n",
    "        results = sp.search(q=my_songs_to_find.title[i], limit=1, market=\"GB\")\n",
    "        track_info = results['tracks']['items'][0]\n",
    "        \n",
    "        ids.append(track_info['id'])\n",
    "        titles.append(track_info['name'])\n",
    "        artists.append([x['name'] for x in track_info['artists']])\n",
    "        pp_artist.append(display_artist(track_info))\n",
    "    \n",
    "    ## --- put the ids, title, and artist all together\n",
    "    hot_tracks_db = pd.DataFrame({'id': ids, 'title': titles, \n",
    "                                  'artists': artists, 'pp_artist': pp_artist})\n",
    "    \n",
    "    hot_tracks_db.to_csv(outfilename, index=False)               \n",
    "    print(f'Saved {hot_tracks_db.shape[0]} tracks in file: {outfilename}')\n",
    "    return"
   ]
  },
  {
   "cell_type": "markdown",
   "id": "3b11cbee",
   "metadata": {},
   "source": [
    "### Aside: searching spotify by user\n",
    "According to the docs, a spotify query type can be one or more of ‘artist’, ‘album’, ‘track’, ‘playlist’, ‘show’, and ‘episode’.\n",
    "\n",
    "...so it seems you can't search by user\n",
    "\n",
    "https://spotipy.readthedocs.io/en/2.19.0/#spotipy.client.Spotify.search"
   ]
  },
  {
   "cell_type": "markdown",
   "id": "9c884bed",
   "metadata": {},
   "source": [
    "## ABANDONED code -- dies during the run due to http error -- needs better batching"
   ]
  },
  {
   "cell_type": "code",
   "execution_count": null,
   "id": "9ef96ce6",
   "metadata": {},
   "outputs": [],
   "source": [
    "## use the ids to get the title (name) and artist info for each track\n",
    "\n",
    "titles=[]\n",
    "artists=[]\n",
    "pp_artist=[]\n",
    "counter = 0\n",
    "file_counter = 1\n",
    "max_count = 5000\n",
    "n=0\n",
    "\n",
    "for i in range(5000, id_and_labels_df.shape[0]):\n",
    "    trackid = id_and_labels_df.id[i]\n",
    "    n+=1\n",
    "    if counter == max_count:\n",
    "        # time to print results\n",
    "        file_counter += 1\n",
    "        tracks_to_print = pd.concat([id_and_labels_df[(file_counter-1)*max_count:file_counter*max_count], \n",
    "                                     pd.DataFrame({'title': titles, \n",
    "                                                   'artists': artists, \n",
    "                                                   'pp_artist': pp_artist})], axis=1)\n",
    "        \n",
    "        outfilename = f'Data/db/big_data{file_counter}.csv'\n",
    "        tracks_to_print.to_csv(outfilename, index=False)\n",
    "        print(f\"Created file ({counter} tracks): {outfilename}\")\n",
    "        \n",
    "        \n",
    "        titles=[]\n",
    "        artists=[]\n",
    "        pp_artist=[]\n",
    "        counter = 0\n",
    "\n",
    "    if n % 400 == 0:\n",
    "        print(f'processed {n} records!')\n",
    "        \n",
    "    track_info = sp.track(trackid, market='GB')\n",
    "    titles.append(track_info['name'])\n",
    "    artists.append([x['name'] for x in track_info['artists']])\n",
    "    pp_artist.append(display_artist(track_info))\n",
    "    counter += 1\n",
    "   \n",
    "## end of loop -- print the rest\n",
    "file_counter += 1\n",
    "tracks_to_print = pd.concat([id_and_labels_df[(file_counter-1)*max_count:file_counter*max_count], \n",
    "                             pd.DataFrame({'title': titles, \n",
    "                                           'artists': artists, \n",
    "                                           'pp_artist': pp_artist})], axis=1)\n",
    "\n",
    "outfilename = f'Data/db/big_data{file_counter}.csv'\n",
    "tracks_to_print.to_csv(outfilename, index=False)\n",
    "print(f\"Created file ({counter} tracks): {outfilename}\")"
   ]
  }
 ],
 "metadata": {
  "kernelspec": {
   "display_name": "Python 3 (ipykernel)",
   "language": "python",
   "name": "python3"
  },
  "language_info": {
   "codemirror_mode": {
    "name": "ipython",
    "version": 3
   },
   "file_extension": ".py",
   "mimetype": "text/x-python",
   "name": "python",
   "nbconvert_exporter": "python",
   "pygments_lexer": "ipython3",
   "version": "3.9.7"
  }
 },
 "nbformat": 4,
 "nbformat_minor": 5
}
