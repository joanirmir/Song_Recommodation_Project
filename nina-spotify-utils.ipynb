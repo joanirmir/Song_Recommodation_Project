{
 "cells": [
  {
   "cell_type": "code",
   "execution_count": 1,
   "id": "80259c1f",
   "metadata": {},
   "outputs": [],
   "source": [
    "import config\n",
    "\n",
    "import os\n",
    "import numpy as np\n",
    "import pandas as pd\n",
    "import spotipy\n",
    "import json\n",
    "from spotipy.oauth2 import SpotifyClientCredentials\n",
    "\n",
    "from time import sleep\n",
    "from random import randint"
   ]
  },
  {
   "cell_type": "code",
   "execution_count": 2,
   "id": "3253eedc",
   "metadata": {},
   "outputs": [],
   "source": [
    "#Initialize SpotiPy with user credentias\n",
    "sp = spotipy.Spotify(auth_manager=SpotifyClientCredentials(client_id= config.client_id,\n",
    "                                                           client_secret= config.client_secret))"
   ]
  },
  {
   "cell_type": "code",
   "execution_count": 8,
   "id": "1435e2d5",
   "metadata": {},
   "outputs": [],
   "source": [
    "def display_artist(track_info):\n",
    "## create a single string with all artist names\n",
    "    return \" / \".join([x['name'] for x in track_info['artists']])"
   ]
  },
  {
   "cell_type": "markdown",
   "id": "05938d5c",
   "metadata": {},
   "source": [
    "## Get artist and track title"
   ]
  },
  {
   "cell_type": "code",
   "execution_count": 206,
   "id": "66027dce",
   "metadata": {},
   "outputs": [],
   "source": [
    "## load track ids from csvs with audio features\n",
    "indir = 'Data/audio_features/'\n",
    "infile_list = os.listdir(indir)\n",
    "\n",
    "dfs = []\n",
    "for fname in infile_list:\n",
    "    fname_tracks = pd.read_csv(os.path.join(indir, fname), index_col=None)\n",
    "    dfs.append(fname_tracks.id)\n",
    "    \n",
    "track_ids = pd.concat(dfs, axis=0)\n",
    "track_ids = track_ids.drop_duplicates().reset_index(drop=True)"
   ]
  },
  {
   "cell_type": "code",
   "execution_count": 215,
   "id": "9c3f53db",
   "metadata": {},
   "outputs": [],
   "source": [
    "## use the ids to get the title (name) and artist info for each track\n",
    "titles=[]\n",
    "artists=[]\n",
    "pp_artist=[]\n",
    "for trackid in track_ids:\n",
    "    track_info = sp.track(trackid, market='GB')\n",
    "    titles.append(track_info['name'])\n",
    "    artists.append([x['name'] for x in track_info['artists']])\n",
    "    pp_artist.append(display_artist(track_info))\n"
   ]
  },
  {
   "cell_type": "code",
   "execution_count": 216,
   "id": "55c27474",
   "metadata": {},
   "outputs": [
    {
     "data": {
      "text/html": [
       "<div>\n",
       "<style scoped>\n",
       "    .dataframe tbody tr th:only-of-type {\n",
       "        vertical-align: middle;\n",
       "    }\n",
       "\n",
       "    .dataframe tbody tr th {\n",
       "        vertical-align: top;\n",
       "    }\n",
       "\n",
       "    .dataframe thead th {\n",
       "        text-align: right;\n",
       "    }\n",
       "</style>\n",
       "<table border=\"1\" class=\"dataframe\">\n",
       "  <thead>\n",
       "    <tr style=\"text-align: right;\">\n",
       "      <th></th>\n",
       "      <th>id</th>\n",
       "      <th>title</th>\n",
       "      <th>artists</th>\n",
       "      <th>pp_artist</th>\n",
       "    </tr>\n",
       "  </thead>\n",
       "  <tbody>\n",
       "    <tr>\n",
       "      <th>0</th>\n",
       "      <td>5GAB1X0AJq2EZjxXP9zMFt</td>\n",
       "      <td>Archie, Marry Me</td>\n",
       "      <td>[Alvvays]</td>\n",
       "      <td>Alvvays</td>\n",
       "    </tr>\n",
       "    <tr>\n",
       "      <th>1</th>\n",
       "      <td>5xo8RrjJ9CVNrtRg2S3B1R</td>\n",
       "      <td>Motion Sickness</td>\n",
       "      <td>[Phoebe Bridgers]</td>\n",
       "      <td>Phoebe Bridgers</td>\n",
       "    </tr>\n",
       "    <tr>\n",
       "      <th>2</th>\n",
       "      <td>7KdF7Zac5eC9jutk9Qret4</td>\n",
       "      <td>The Wire</td>\n",
       "      <td>[HAIM]</td>\n",
       "      <td>HAIM</td>\n",
       "    </tr>\n",
       "  </tbody>\n",
       "</table>\n",
       "</div>"
      ],
      "text/plain": [
       "                       id             title            artists  \\\n",
       "0  5GAB1X0AJq2EZjxXP9zMFt  Archie, Marry Me          [Alvvays]   \n",
       "1  5xo8RrjJ9CVNrtRg2S3B1R   Motion Sickness  [Phoebe Bridgers]   \n",
       "2  7KdF7Zac5eC9jutk9Qret4          The Wire             [HAIM]   \n",
       "\n",
       "         pp_artist  \n",
       "0          Alvvays  \n",
       "1  Phoebe Bridgers  \n",
       "2             HAIM  "
      ]
     },
     "execution_count": 216,
     "metadata": {},
     "output_type": "execute_result"
    }
   ],
   "source": [
    "## --- put the ids, title, and artist all together\n",
    "our_track_db = pd.concat([track_ids, pd.DataFrame({'title': titles, \n",
    "                                                  'artists': artists, \n",
    "                                                  'pp_artist': pp_artist})], axis=1)\n",
    "our_track_db.head(3)"
   ]
  },
  {
   "cell_type": "markdown",
   "id": "e8eacfee",
   "metadata": {},
   "source": [
    "## Print track id, title, and artist to .csv\n"
   ]
  },
  {
   "cell_type": "code",
   "execution_count": 217,
   "id": "e0261575",
   "metadata": {},
   "outputs": [],
   "source": [
    "our_track_db.to_csv('Data/db/nina_day4_tracks.csv', index=False)"
   ]
  },
  {
   "cell_type": "markdown",
   "id": "e3337bfc",
   "metadata": {},
   "source": [
    "### Aside... to debug\n",
    "\n",
    "bah! this doesn't work right... not sure how to map this function to the series in one shot"
   ]
  },
  {
   "cell_type": "code",
   "execution_count": 190,
   "id": "3fe53d2c",
   "metadata": {},
   "outputs": [],
   "source": [
    "def get_track_name_and_combinedartists(trackid):\n",
    "    \"\"\" unused function\"\"\"\n",
    "    track_info = sp.track(trackid, market='GB')\n",
    "    return track_info['name'], display_artist(track_info)"
   ]
  },
  {
   "cell_type": "code",
   "execution_count": 195,
   "id": "e34df434",
   "metadata": {},
   "outputs": [],
   "source": [
    "#test_tracks_df['title'], test_tracks_df['artist'] = \n",
    "test_return = test_tracks_df.map(get_track_name_and_combinedartists)"
   ]
  },
  {
   "cell_type": "code",
   "execution_count": 197,
   "id": "079b736e",
   "metadata": {},
   "outputs": [
    {
     "data": {
      "text/plain": [
       "0                          (Archie, Marry Me, Alvvays)\n",
       "1                   (Motion Sickness, Phoebe Bridgers)\n",
       "2                                     (The Wire, HAIM)\n",
       "3                             (Brazil, Declan McKenna)\n",
       "4                                 (Hell N Back, Bakar)\n",
       "5                     (Positive Force, Delicate Steve)\n",
       "6    (Eat, Sleep, Wake (Nothing But You), Bombay Bi...\n",
       "7                (Don’t Delete The Kisses, Wolf Alice)\n",
       "8    (Funeral Singers, Sylvan Esso, Collections Of ...\n",
       "9                    (Summer Girl - Bonus Track, HAIM)\n",
       "Name: id, dtype: object"
      ]
     },
     "execution_count": 197,
     "metadata": {},
     "output_type": "execute_result"
    }
   ],
   "source": [
    "test_return"
   ]
  },
  {
   "cell_type": "markdown",
   "id": "68294cf2",
   "metadata": {},
   "source": [
    "## Lookup hot list song info"
   ]
  },
  {
   "cell_type": "code",
   "execution_count": 9,
   "id": "6c6edd3f",
   "metadata": {},
   "outputs": [
    {
     "name": "stdout",
     "output_type": "stream",
     "text": [
      "Saved 100 tracks in file: Data/db/billboard_hot100_2021-02-14.csv\n"
     ]
    }
   ],
   "source": [
    "get_spotify_info_for_all_tracks_in_hot_artist_title_csv('Data/Hot/billboard_hot100_2021-02-14.csv')"
   ]
  },
  {
   "cell_type": "code",
   "execution_count": 10,
   "id": "ecff6c14",
   "metadata": {},
   "outputs": [
    {
     "name": "stdout",
     "output_type": "stream",
     "text": [
      "Saved 100 tracks in file: Data/db/uk_hot100_2021-02-14.csv\n"
     ]
    }
   ],
   "source": [
    "get_spotify_info_for_all_tracks_in_hot_artist_title_csv('Data/Hot/uk_hot100_2021-02-14.csv')"
   ]
  },
  {
   "cell_type": "code",
   "execution_count": 6,
   "id": "51a8017b",
   "metadata": {},
   "outputs": [],
   "source": [
    "def get_spotify_info_for_all_tracks_in_hot_artist_title_csv(infilepath):\n",
    "    \n",
    "    # extract the name of the input file, without the csv suffix\n",
    "    songlistname = '.'.join(os.path.basename(infilepath).split('.')[:-1])\n",
    "    \n",
    "    outdir = os.path.join('Data', 'db')\n",
    "    if not os.path.exists(outdir):\n",
    "        os.mkdir(outdir)\n",
    "    outfilename = os.path.join(outdir, f'{songlistname}.csv')\n",
    "    \n",
    "    my_songs_to_find = pd.read_csv(infilepath, index_col=None)\n",
    "        \n",
    "    ids=[]\n",
    "    titles=[]\n",
    "    artists=[]\n",
    "    pp_artist=[]\n",
    "    \n",
    "    for i in range(my_songs_to_find.shape[0]):\n",
    "        ## these are hot songs, assume top hit is correct\n",
    "        results = sp.search(q=my_songs_to_find.title[i], limit=1, market=\"GB\")\n",
    "        track_info = results['tracks']['items'][0]\n",
    "        \n",
    "        ids.append(track_info['id'])\n",
    "        titles.append(track_info['name'])\n",
    "        artists.append([x['name'] for x in track_info['artists']])\n",
    "        pp_artist.append(display_artist(track_info))\n",
    "    \n",
    "    ## --- put the ids, title, and artist all together\n",
    "    hot_tracks_db = pd.DataFrame({'id': ids, 'title': titles, \n",
    "                                  'artists': artists, 'pp_artist': pp_artist})\n",
    "    \n",
    "    hot_tracks_db.to_csv(outfilename, index=False)               \n",
    "    print(f'Saved {hot_tracks_db.shape[0]} tracks in file: {outfilename}')\n",
    "    return"
   ]
  },
  {
   "cell_type": "markdown",
   "id": "1b73b4cf",
   "metadata": {},
   "source": [
    "According to the docs, a spotify query type can be one or more of ‘artist’, ‘album’, ‘track’, ‘playlist’, ‘show’, and ‘episode’.\n",
    "\n",
    "...so it seems you can't search by user\n",
    "\n",
    "https://spotipy.readthedocs.io/en/2.19.0/#spotipy.client.Spotify.search"
   ]
  },
  {
   "cell_type": "code",
   "execution_count": 11,
   "id": "7637a1c1",
   "metadata": {},
   "outputs": [
    {
     "ename": "NameError",
     "evalue": "name 'df' is not defined",
     "output_type": "error",
     "traceback": [
      "\u001b[0;31m---------------------------------------------------------------------------\u001b[0m",
      "\u001b[0;31mNameError\u001b[0m                                 Traceback (most recent call last)",
      "\u001b[0;32m/var/folders/ns/hltzv0257mg40hrl6ty1qvwm0000gn/T/ipykernel_70045/1396537375.py\u001b[0m in \u001b[0;36m<module>\u001b[0;34m\u001b[0m\n\u001b[0;32m----> 1\u001b[0;31m \u001b[0mdf\u001b[0m\u001b[0;34m\u001b[0m\u001b[0;34m\u001b[0m\u001b[0m\n\u001b[0m",
      "\u001b[0;31mNameError\u001b[0m: name 'df' is not defined"
     ]
    }
   ],
   "source": []
  }
 ],
 "metadata": {
  "kernelspec": {
   "display_name": "Python 3 (ipykernel)",
   "language": "python",
   "name": "python3"
  },
  "language_info": {
   "codemirror_mode": {
    "name": "ipython",
    "version": 3
   },
   "file_extension": ".py",
   "mimetype": "text/x-python",
   "name": "python",
   "nbconvert_exporter": "python",
   "pygments_lexer": "ipython3",
   "version": "3.9.7"
  }
 },
 "nbformat": 4,
 "nbformat_minor": 5
}
