{
 "cells": [
  {
   "cell_type": "code",
   "execution_count": 43,
   "id": "0aef652d",
   "metadata": {},
   "outputs": [],
   "source": [
    "import config\n",
    "\n",
    "import os\n",
    "import numpy as np\n",
    "import pandas as pd\n",
    "import spotipy\n",
    "import json\n",
    "from spotipy.oauth2 import SpotifyClientCredentials\n"
   ]
  },
  {
   "cell_type": "code",
   "execution_count": 17,
   "id": "8dd505a8",
   "metadata": {},
   "outputs": [],
   "source": [
    "def get_playlist_tracks(username, playlist_id):\n",
    "    results = sp.user_playlist_tracks(username,playlist_id,market=\"GB\")\n",
    "    tracks = results['items']\n",
    "    while results['next']:\n",
    "        results = sp.next(results)\n",
    "        tracks.extend(results['items'])\n",
    "    return tracks"
   ]
  },
  {
   "cell_type": "code",
   "execution_count": 18,
   "id": "a753b8e2",
   "metadata": {},
   "outputs": [],
   "source": [
    "def get_artists_from_track(track):\n",
    "    return [artist[\"name\"] for artist in track[\"artists\"]]\n",
    "\n",
    "def get_artists_from_playlist(playlist_id):\n",
    "    tracks_from_playlist = get_playlist_tracks(\"spotify\", playlist_id)\n",
    "    return list(set(artist for subset in [get_artists_from_track(track[\"track\"]) for track in tracks_from_playlist] for artist in subset))"
   ]
  },
  {
   "cell_type": "code",
   "execution_count": 2,
   "id": "1320dc33",
   "metadata": {},
   "outputs": [],
   "source": [
    "#Initialize SpotiPy with user credentias\n",
    "sp = spotipy.Spotify(auth_manager=SpotifyClientCredentials(client_id= config.client_id,\n",
    "                                                           client_secret= config.client_secret))"
   ]
  },
  {
   "cell_type": "code",
   "execution_count": 29,
   "id": "cd4c1810",
   "metadata": {},
   "outputs": [],
   "source": [
    "# https://open.spotify.com/playlist/37i9dQZF1DX2TRYkJECvfC\n",
    "\n",
    "track_list = get_playlist_tracks(\"spotify\", \"37i9dQZF1DX2TRYkJECvfC\")\n"
   ]
  },
  {
   "cell_type": "code",
   "execution_count": 42,
   "id": "f660cd28",
   "metadata": {},
   "outputs": [
    {
     "data": {
      "text/plain": [
       "(200, 18)"
      ]
     },
     "execution_count": 42,
     "metadata": {},
     "output_type": "execute_result"
    }
   ],
   "source": [
    "song_audio_features.shape"
   ]
  },
  {
   "cell_type": "code",
   "execution_count": 40,
   "id": "13f29980",
   "metadata": {},
   "outputs": [],
   "source": [
    "## build dataframe of info\n",
    "list_of_songs=[]\n",
    "for index in range(len(track_list)):\n",
    "    list_of_songs.append(sp.audio_features(track_list[index]['track']['id'])[0])\n",
    "song_audio_features = pd.DataFrame(list_of_songs) "
   ]
  },
  {
   "cell_type": "code",
   "execution_count": 80,
   "id": "4701d3d8",
   "metadata": {},
   "outputs": [],
   "source": [
    "def save_features_csv_for_all_tracks_in_playlist(playlist_id):\n",
    "    \n",
    "    outdir = os.path.join('Data', 'audio_features')\n",
    "    if not os.path.exists(outdir):\n",
    "        os.mkdir(outdir)\n",
    "    outfilename = os.path.join(outdir, f'{playlist_id}.csv')\n",
    "    \n",
    "    track_list = get_playlist_tracks(\"spotify\", playlist_id)\n",
    "    \n",
    "    list_of_songs=[]\n",
    "    for i in range(len(track_list)):\n",
    "        list_of_songs.append(sp.audio_features(track_list[i]['track']['id'])[0])\n",
    "\n",
    "    song_audio_features = pd.DataFrame(list_of_songs)\n",
    "    song_audio_features.to_csv(outfilename, index=False)\n",
    "    \n",
    "    print(f'Saved {len(track_list)} tracks in file: {outfilename}')\n",
    "    return\n",
    "    "
   ]
  },
  {
   "cell_type": "code",
   "execution_count": 45,
   "id": "022e1746",
   "metadata": {},
   "outputs": [
    {
     "name": "stdout",
     "output_type": "stream",
     "text": [
      "Saved 200 tracks in file: Data/audio_features/37i9dQZF1DX2TRYkJECvfC.csv\n"
     ]
    }
   ],
   "source": [
    "## house: deep house chill\n",
    "save_features_csv_for_all_tracks_in_playlist('37i9dQZF1DX2TRYkJECvfC')"
   ]
  },
  {
   "cell_type": "code",
   "execution_count": 46,
   "id": "e6034dc4",
   "metadata": {},
   "outputs": [
    {
     "name": "stdout",
     "output_type": "stream",
     "text": [
      "Saved 100 tracks in file: Data/audio_features/37i9dQZF1DXarRysLJmuju.csv\n"
     ]
    }
   ],
   "source": [
    "## pop: pop all day \n",
    "save_features_csv_for_all_tracks_in_playlist('37i9dQZF1DXarRysLJmuju')"
   ]
  },
  {
   "cell_type": "code",
   "execution_count": 47,
   "id": "15c49d93",
   "metadata": {},
   "outputs": [
    {
     "name": "stdout",
     "output_type": "stream",
     "text": [
      "Saved 126 tracks in file: Data/audio_features/37i9dQZF1DX5Vy6DFOcx00.csv\n"
     ]
    }
   ],
   "source": [
    "## pop: big on the internet \n",
    "save_features_csv_for_all_tracks_in_playlist('37i9dQZF1DX5Vy6DFOcx00')"
   ]
  },
  {
   "cell_type": "code",
   "execution_count": 48,
   "id": "20afa1e7",
   "metadata": {},
   "outputs": [
    {
     "name": "stdout",
     "output_type": "stream",
     "text": [
      "Saved 175 tracks in file: Data/audio_features/37i9dQZF1DWXRqgorJj26U.csv\n"
     ]
    }
   ],
   "source": [
    "## rock: rock classics https://open.spotify.com/playlist/37i9dQZF1DWXRqgorJj26U\n",
    "save_features_csv_for_all_tracks_in_playlist('37i9dQZF1DWXRqgorJj26U')"
   ]
  },
  {
   "cell_type": "code",
   "execution_count": 49,
   "id": "051c236a",
   "metadata": {},
   "outputs": [
    {
     "name": "stdout",
     "output_type": "stream",
     "text": [
      "Saved 150 tracks in file: Data/audio_features/37i9dQZF1DX6xOPeSOGone.csv\n"
     ]
    }
   ],
   "source": [
    "## rock: soft rock https://open.spotify.com/playlist/37i9dQZF1DX6xOPeSOGone \n",
    "save_features_csv_for_all_tracks_in_playlist('37i9dQZF1DX6xOPeSOGone')"
   ]
  },
  {
   "cell_type": "code",
   "execution_count": 50,
   "id": "63edbd56",
   "metadata": {},
   "outputs": [
    {
     "name": "stdout",
     "output_type": "stream",
     "text": [
      "Saved 80 tracks in file: Data/audio_features/37i9dQZF1DX873GaRGUmPl.csv\n"
     ]
    }
   ],
   "source": [
    "## alternative by decade: 10s https://open.spotify.com/playlist/37i9dQZF1DX873GaRGUmPl\n",
    "save_features_csv_for_all_tracks_in_playlist('37i9dQZF1DX873GaRGUmPl')"
   ]
  },
  {
   "cell_type": "code",
   "execution_count": 51,
   "id": "4359d6ee",
   "metadata": {},
   "outputs": [
    {
     "name": "stdout",
     "output_type": "stream",
     "text": [
      "Saved 80 tracks in file: Data/audio_features/37i9dQZF1DX0YKekzl0blG.csv\n"
     ]
    }
   ],
   "source": [
    "## alternative by decade: 00s https://open.spotify.com/playlist/37i9dQZF1DX0YKekzl0blG\n",
    "save_features_csv_for_all_tracks_in_playlist('37i9dQZF1DX0YKekzl0blG')"
   ]
  },
  {
   "cell_type": "code",
   "execution_count": 52,
   "id": "45ec194c",
   "metadata": {},
   "outputs": [
    {
     "name": "stdout",
     "output_type": "stream",
     "text": [
      "Saved 80 tracks in file: Data/audio_features/37i9dQZF1DXaLI8a395lse.csv\n"
     ]
    }
   ],
   "source": [
    "## alternative by decade: 90s https://open.spotify.com/playlist/37i9dQZF1DXaLI8a395lse\n",
    "save_features_csv_for_all_tracks_in_playlist('37i9dQZF1DXaLI8a395lse')"
   ]
  },
  {
   "cell_type": "code",
   "execution_count": 53,
   "id": "9027d6a9",
   "metadata": {},
   "outputs": [
    {
     "name": "stdout",
     "output_type": "stream",
     "text": [
      "Saved 80 tracks in file: Data/audio_features/37i9dQZF1DWTSKFpOdYF1r.csv\n"
     ]
    }
   ],
   "source": [
    "## alternative by decade: 80s https://open.spotify.com/playlist/37i9dQZF1DWTSKFpOdYF1r\n",
    "save_features_csv_for_all_tracks_in_playlist('37i9dQZF1DWTSKFpOdYF1r')"
   ]
  },
  {
   "cell_type": "code",
   "execution_count": 54,
   "id": "c8134772",
   "metadata": {},
   "outputs": [
    {
     "name": "stdout",
     "output_type": "stream",
     "text": [
      "Saved 100 tracks in file: Data/audio_features/37i9dQZF1DX9XIFQuFvzM4.csv\n"
     ]
    }
   ],
   "source": [
    "## soul: feelin good https://open.spotify.com/playlist/37i9dQZF1DX9XIFQuFvzM4\n",
    "save_features_csv_for_all_tracks_in_playlist('37i9dQZF1DX9XIFQuFvzM4')"
   ]
  },
  {
   "cell_type": "code",
   "execution_count": 55,
   "id": "cafe1983",
   "metadata": {},
   "outputs": [
    {
     "name": "stdout",
     "output_type": "stream",
     "text": [
      "Saved 80 tracks in file: Data/audio_features/37i9dQZF1DWWvhKV4FBciw.csv\n"
     ]
    }
   ],
   "source": [
    "## soul: funk and soul classics https://open.spotify.com/playlist/37i9dQZF1DWWvhKV4FBciw\n",
    "save_features_csv_for_all_tracks_in_playlist('37i9dQZF1DWWvhKV4FBciw')"
   ]
  },
  {
   "cell_type": "code",
   "execution_count": 56,
   "id": "5ab6fdfc",
   "metadata": {},
   "outputs": [
    {
     "name": "stdout",
     "output_type": "stream",
     "text": [
      "Saved 91 tracks in file: Data/audio_features/37i9dQZF1DWULEW2RfoSCi.csv\n"
     ]
    }
   ],
   "source": [
    "## soul: 70s soul classics https://open.spotify.com/playlist/37i9dQZF1DWULEW2RfoSCi\n",
    "save_features_csv_for_all_tracks_in_playlist('37i9dQZF1DWULEW2RfoSCi')"
   ]
  },
  {
   "cell_type": "code",
   "execution_count": 57,
   "id": "f689e6fa",
   "metadata": {},
   "outputs": [
    {
     "name": "stdout",
     "output_type": "stream",
     "text": [
      "Saved 50 tracks in file: Data/audio_features/37i9dQZF1DX1MUPbVKMgJE.csv\n"
     ]
    }
   ],
   "source": [
    "## funk: disco forever https://open.spotify.com/playlist/37i9dQZF1DX1MUPbVKMgJE\n",
    "save_features_csv_for_all_tracks_in_playlist('37i9dQZF1DX1MUPbVKMgJE')"
   ]
  },
  {
   "cell_type": "code",
   "execution_count": 58,
   "id": "22d9a46c",
   "metadata": {},
   "outputs": [
    {
     "name": "stdout",
     "output_type": "stream",
     "text": [
      "Saved 76 tracks in file: Data/audio_features/37i9dQZF1DWY6tYEFs22tT.csv\n"
     ]
    }
   ],
   "source": [
    "## hiphop: hip-hop central https://open.spotify.com/playlist/37i9dQZF1DWY6tYEFs22tT\n",
    "save_features_csv_for_all_tracks_in_playlist('37i9dQZF1DWY6tYEFs22tT')"
   ]
  },
  {
   "cell_type": "code",
   "execution_count": 59,
   "id": "b0c73281",
   "metadata": {},
   "outputs": [
    {
     "name": "stdout",
     "output_type": "stream",
     "text": [
      "Saved 50 tracks in file: Data/audio_features/37i9dQZF1DX0XUsuxWHRQd.csv\n"
     ]
    }
   ],
   "source": [
    "## hiphop: rap caviar https://open.spotify.com/playlist/37i9dQZF1DX0XUsuxWHRQd\n",
    "save_features_csv_for_all_tracks_in_playlist('37i9dQZF1DX0XUsuxWHRQd')"
   ]
  },
  {
   "cell_type": "code",
   "execution_count": 88,
   "id": "f8442d34",
   "metadata": {},
   "outputs": [
    {
     "name": "stdout",
     "output_type": "stream",
     "text": [
      "Saved 16 tracks in file: Data/audio_features/4ldLuRieh8jnCKOjSoqUQH.csv\n"
     ]
    }
   ],
   "source": [
    "## Our morning sunshine guessing game 4ldLuRieh8jnCKOjSoqUQH\n",
    "save_features_csv_for_all_tracks_in_playlist('4ldLuRieh8jnCKOjSoqUQH')"
   ]
  },
  {
   "cell_type": "code",
   "execution_count": 89,
   "id": "b684ec02",
   "metadata": {},
   "outputs": [
    {
     "name": "stdout",
     "output_type": "stream",
     "text": [
      "Saved 90 tracks in file: Data/audio_features/37i9dQZF1DXa8NOEUWPn9W.csv\n"
     ]
    }
   ],
   "source": [
    "## House: housewerk 37i9dQZF1DXa8NOEUWPn9W\n",
    "save_features_csv_for_all_tracks_in_playlist('37i9dQZF1DXa8NOEUWPn9W')"
   ]
  },
  {
   "cell_type": "code",
   "execution_count": 90,
   "id": "d2b640e4",
   "metadata": {},
   "outputs": [
    {
     "name": "stdout",
     "output_type": "stream",
     "text": [
      "Saved 100 tracks in file: Data/audio_features/37i9dQZF1DWSlskcBvOTt0.csv\n"
     ]
    }
   ],
   "source": [
    "## house 37i9dQZF1DWSlskcBvOTt0\n",
    "save_features_csv_for_all_tracks_in_playlist('37i9dQZF1DWSlskcBvOTt0')"
   ]
  },
  {
   "cell_type": "code",
   "execution_count": 91,
   "id": "4c2f160b",
   "metadata": {},
   "outputs": [
    {
     "name": "stdout",
     "output_type": "stream",
     "text": [
      "Saved 70 tracks in file: Data/audio_features/37i9dQZF1DWVCHIm2MEeIy.csv\n"
     ]
    }
   ],
   "source": [
    "## house https://open.spotify.com/playlist/37i9dQZF1DWVCHIm2MEeIy\n",
    "save_features_csv_for_all_tracks_in_playlist('37i9dQZF1DWVCHIm2MEeIy')"
   ]
  },
  {
   "cell_type": "code",
   "execution_count": 92,
   "id": "51c38d1e",
   "metadata": {},
   "outputs": [
    {
     "name": "stdout",
     "output_type": "stream",
     "text": [
      "Saved 50 tracks in file: Data/audio_features/37i9dQZF1DX202yvKb0g9m.csv\n"
     ]
    }
   ],
   "source": [
    "## 303 classics https://open.spotify.com/playlist/37i9dQZF1DX202yvKb0g9m\n",
    "save_features_csv_for_all_tracks_in_playlist('37i9dQZF1DX202yvKb0g9m')"
   ]
  },
  {
   "cell_type": "code",
   "execution_count": 93,
   "id": "b7a002de",
   "metadata": {},
   "outputs": [
    {
     "name": "stdout",
     "output_type": "stream",
     "text": [
      "Saved 48 tracks in file: Data/audio_features/37i9dQZF1DXbwcS5W73XRr.csv\n"
     ]
    }
   ],
   "source": [
    "## acid house https://open.spotify.com/playlist/37i9dQZF1DXbwcS5W73XRr\n",
    "save_features_csv_for_all_tracks_in_playlist('37i9dQZF1DXbwcS5W73XRr')"
   ]
  },
  {
   "cell_type": "code",
   "execution_count": 94,
   "id": "cd993125",
   "metadata": {},
   "outputs": [
    {
     "name": "stdout",
     "output_type": "stream",
     "text": [
      "Saved 69 tracks in file: Data/audio_features/37i9dQZF1DX00RdhV73Dbe.csv\n"
     ]
    }
   ],
   "source": [
    "## DJ boring's favorite tracks https://open.spotify.com/playlist/37i9dQZF1DX00RdhV73Dbe\n",
    "save_features_csv_for_all_tracks_in_playlist('37i9dQZF1DX00RdhV73Dbe')"
   ]
  },
  {
   "cell_type": "code",
   "execution_count": 96,
   "id": "22a50d61",
   "metadata": {},
   "outputs": [
    {
     "name": "stdout",
     "output_type": "stream",
     "text": [
      "Saved 75 tracks in file: Data/audio_features/37i9dQZF1DX8AliSIsGeKd.csv\n"
     ]
    }
   ],
   "source": [
    "## https://open.spotify.com/playlist/37i9dQZF1DX8AliSIsGeKd\n",
    "save_features_csv_for_all_tracks_in_playlist('37i9dQZF1DX8AliSIsGeKd')"
   ]
  },
  {
   "cell_type": "code",
   "execution_count": 97,
   "id": "9947c0f9",
   "metadata": {},
   "outputs": [
    {
     "name": "stdout",
     "output_type": "stream",
     "text": [
      "Saved 60 tracks in file: Data/audio_features/37i9dQZF1DX0r3x8OtiwEM.csv\n"
     ]
    }
   ],
   "source": [
    "## 37i9dQZF1DX0r3x8OtiwEM\n",
    "save_features_csv_for_all_tracks_in_playlist('37i9dQZF1DX0r3x8OtiwEM')"
   ]
  },
  {
   "cell_type": "code",
   "execution_count": 98,
   "id": "9e3baf96",
   "metadata": {},
   "outputs": [
    {
     "name": "stdout",
     "output_type": "stream",
     "text": [
      "Saved 60 tracks in file: Data/audio_features/37i9dQZF1DX0r3x8OtiwEM.csv\n"
     ]
    }
   ],
   "source": [
    "## creamy https://open.spotify.com/playlist/37i9dQZF1DXdgz8ZB7c2CP\n",
    "save_features_csv_for_all_tracks_in_playlist('37i9dQZF1DX0r3x8OtiwEM')"
   ]
  },
  {
   "cell_type": "code",
   "execution_count": 95,
   "id": "7571d2fc",
   "metadata": {},
   "outputs": [
    {
     "ename": "AttributeError",
     "evalue": "'NoneType' object has no attribute 'keys'",
     "output_type": "error",
     "traceback": [
      "\u001b[0;31m---------------------------------------------------------------------------\u001b[0m",
      "\u001b[0;31mAttributeError\u001b[0m                            Traceback (most recent call last)",
      "\u001b[0;32m/var/folders/ns/hltzv0257mg40hrl6ty1qvwm0000gn/T/ipykernel_60859/3026541.py\u001b[0m in \u001b[0;36m<module>\u001b[0;34m\u001b[0m\n\u001b[1;32m      1\u001b[0m \u001b[0;31m## techno state https://open.spotify.com/playlist/37i9dQZF1DX8ZMwsPgxIOs\u001b[0m\u001b[0;34m\u001b[0m\u001b[0;34m\u001b[0m\u001b[0m\n\u001b[0;32m----> 2\u001b[0;31m \u001b[0msave_features_csv_for_all_tracks_in_playlist\u001b[0m\u001b[0;34m(\u001b[0m\u001b[0;34m'37i9dQZF1DX8ZMwsPgxIOs'\u001b[0m\u001b[0;34m)\u001b[0m\u001b[0;34m\u001b[0m\u001b[0;34m\u001b[0m\u001b[0m\n\u001b[0m",
      "\u001b[0;32m/var/folders/ns/hltzv0257mg40hrl6ty1qvwm0000gn/T/ipykernel_60859/2350241900.py\u001b[0m in \u001b[0;36msave_features_csv_for_all_tracks_in_playlist\u001b[0;34m(playlist_id)\u001b[0m\n\u001b[1;32m     12\u001b[0m         \u001b[0mlist_of_songs\u001b[0m\u001b[0;34m.\u001b[0m\u001b[0mappend\u001b[0m\u001b[0;34m(\u001b[0m\u001b[0msp\u001b[0m\u001b[0;34m.\u001b[0m\u001b[0maudio_features\u001b[0m\u001b[0;34m(\u001b[0m\u001b[0mtrack_list\u001b[0m\u001b[0;34m[\u001b[0m\u001b[0mi\u001b[0m\u001b[0;34m]\u001b[0m\u001b[0;34m[\u001b[0m\u001b[0;34m'track'\u001b[0m\u001b[0;34m]\u001b[0m\u001b[0;34m[\u001b[0m\u001b[0;34m'id'\u001b[0m\u001b[0;34m]\u001b[0m\u001b[0;34m)\u001b[0m\u001b[0;34m[\u001b[0m\u001b[0;36m0\u001b[0m\u001b[0;34m]\u001b[0m\u001b[0;34m)\u001b[0m\u001b[0;34m\u001b[0m\u001b[0;34m\u001b[0m\u001b[0m\n\u001b[1;32m     13\u001b[0m \u001b[0;34m\u001b[0m\u001b[0m\n\u001b[0;32m---> 14\u001b[0;31m     \u001b[0msong_audio_features\u001b[0m \u001b[0;34m=\u001b[0m \u001b[0mpd\u001b[0m\u001b[0;34m.\u001b[0m\u001b[0mDataFrame\u001b[0m\u001b[0;34m(\u001b[0m\u001b[0mlist_of_songs\u001b[0m\u001b[0;34m)\u001b[0m\u001b[0;34m\u001b[0m\u001b[0;34m\u001b[0m\u001b[0m\n\u001b[0m\u001b[1;32m     15\u001b[0m     \u001b[0msong_audio_features\u001b[0m\u001b[0;34m.\u001b[0m\u001b[0mto_csv\u001b[0m\u001b[0;34m(\u001b[0m\u001b[0moutfilename\u001b[0m\u001b[0;34m,\u001b[0m \u001b[0mindex\u001b[0m\u001b[0;34m=\u001b[0m\u001b[0;32mFalse\u001b[0m\u001b[0;34m)\u001b[0m\u001b[0;34m\u001b[0m\u001b[0;34m\u001b[0m\u001b[0m\n\u001b[1;32m     16\u001b[0m \u001b[0;34m\u001b[0m\u001b[0m\n",
      "\u001b[0;32m~/opt/anaconda3/envs/da-ironhack/lib/python3.9/site-packages/pandas/core/frame.py\u001b[0m in \u001b[0;36m__init__\u001b[0;34m(self, data, index, columns, dtype, copy)\u001b[0m\n\u001b[1;32m    692\u001b[0m                         \u001b[0;31m# ndarray], Index, Series], Sequence[Any]]\"\u001b[0m\u001b[0;34m\u001b[0m\u001b[0;34m\u001b[0m\u001b[0m\n\u001b[1;32m    693\u001b[0m                         \u001b[0mcolumns\u001b[0m \u001b[0;34m=\u001b[0m \u001b[0mensure_index\u001b[0m\u001b[0;34m(\u001b[0m\u001b[0mcolumns\u001b[0m\u001b[0;34m)\u001b[0m  \u001b[0;31m# type: ignore[arg-type]\u001b[0m\u001b[0;34m\u001b[0m\u001b[0;34m\u001b[0m\u001b[0m\n\u001b[0;32m--> 694\u001b[0;31m                     arrays, columns, index = nested_data_to_arrays(\n\u001b[0m\u001b[1;32m    695\u001b[0m                         \u001b[0;31m# error: Argument 3 to \"nested_data_to_arrays\" has incompatible\u001b[0m\u001b[0;34m\u001b[0m\u001b[0;34m\u001b[0m\u001b[0m\n\u001b[1;32m    696\u001b[0m                         \u001b[0;31m# type \"Optional[Collection[Any]]\"; expected \"Optional[Index]\"\u001b[0m\u001b[0;34m\u001b[0m\u001b[0;34m\u001b[0m\u001b[0m\n",
      "\u001b[0;32m~/opt/anaconda3/envs/da-ironhack/lib/python3.9/site-packages/pandas/core/internals/construction.py\u001b[0m in \u001b[0;36mnested_data_to_arrays\u001b[0;34m(data, columns, index, dtype)\u001b[0m\n\u001b[1;32m    481\u001b[0m         \u001b[0mcolumns\u001b[0m \u001b[0;34m=\u001b[0m \u001b[0mensure_index\u001b[0m\u001b[0;34m(\u001b[0m\u001b[0mdata\u001b[0m\u001b[0;34m[\u001b[0m\u001b[0;36m0\u001b[0m\u001b[0;34m]\u001b[0m\u001b[0;34m.\u001b[0m\u001b[0m_fields\u001b[0m\u001b[0;34m)\u001b[0m\u001b[0;34m\u001b[0m\u001b[0;34m\u001b[0m\u001b[0m\n\u001b[1;32m    482\u001b[0m \u001b[0;34m\u001b[0m\u001b[0m\n\u001b[0;32m--> 483\u001b[0;31m     \u001b[0marrays\u001b[0m\u001b[0;34m,\u001b[0m \u001b[0mcolumns\u001b[0m \u001b[0;34m=\u001b[0m \u001b[0mto_arrays\u001b[0m\u001b[0;34m(\u001b[0m\u001b[0mdata\u001b[0m\u001b[0;34m,\u001b[0m \u001b[0mcolumns\u001b[0m\u001b[0;34m,\u001b[0m \u001b[0mdtype\u001b[0m\u001b[0;34m=\u001b[0m\u001b[0mdtype\u001b[0m\u001b[0;34m)\u001b[0m\u001b[0;34m\u001b[0m\u001b[0;34m\u001b[0m\u001b[0m\n\u001b[0m\u001b[1;32m    484\u001b[0m     \u001b[0mcolumns\u001b[0m \u001b[0;34m=\u001b[0m \u001b[0mensure_index\u001b[0m\u001b[0;34m(\u001b[0m\u001b[0mcolumns\u001b[0m\u001b[0;34m)\u001b[0m\u001b[0;34m\u001b[0m\u001b[0;34m\u001b[0m\u001b[0m\n\u001b[1;32m    485\u001b[0m \u001b[0;34m\u001b[0m\u001b[0m\n",
      "\u001b[0;32m~/opt/anaconda3/envs/da-ironhack/lib/python3.9/site-packages/pandas/core/internals/construction.py\u001b[0m in \u001b[0;36mto_arrays\u001b[0;34m(data, columns, dtype)\u001b[0m\n\u001b[1;32m    797\u001b[0m         \u001b[0marr\u001b[0m \u001b[0;34m=\u001b[0m \u001b[0m_list_to_arrays\u001b[0m\u001b[0;34m(\u001b[0m\u001b[0mdata\u001b[0m\u001b[0;34m)\u001b[0m\u001b[0;34m\u001b[0m\u001b[0;34m\u001b[0m\u001b[0m\n\u001b[1;32m    798\u001b[0m     \u001b[0;32melif\u001b[0m \u001b[0misinstance\u001b[0m\u001b[0;34m(\u001b[0m\u001b[0mdata\u001b[0m\u001b[0;34m[\u001b[0m\u001b[0;36m0\u001b[0m\u001b[0;34m]\u001b[0m\u001b[0;34m,\u001b[0m \u001b[0mabc\u001b[0m\u001b[0;34m.\u001b[0m\u001b[0mMapping\u001b[0m\u001b[0;34m)\u001b[0m\u001b[0;34m:\u001b[0m\u001b[0;34m\u001b[0m\u001b[0;34m\u001b[0m\u001b[0m\n\u001b[0;32m--> 799\u001b[0;31m         \u001b[0marr\u001b[0m\u001b[0;34m,\u001b[0m \u001b[0mcolumns\u001b[0m \u001b[0;34m=\u001b[0m \u001b[0m_list_of_dict_to_arrays\u001b[0m\u001b[0;34m(\u001b[0m\u001b[0mdata\u001b[0m\u001b[0;34m,\u001b[0m \u001b[0mcolumns\u001b[0m\u001b[0;34m)\u001b[0m\u001b[0;34m\u001b[0m\u001b[0;34m\u001b[0m\u001b[0m\n\u001b[0m\u001b[1;32m    800\u001b[0m     \u001b[0;32melif\u001b[0m \u001b[0misinstance\u001b[0m\u001b[0;34m(\u001b[0m\u001b[0mdata\u001b[0m\u001b[0;34m[\u001b[0m\u001b[0;36m0\u001b[0m\u001b[0;34m]\u001b[0m\u001b[0;34m,\u001b[0m \u001b[0mABCSeries\u001b[0m\u001b[0;34m)\u001b[0m\u001b[0;34m:\u001b[0m\u001b[0;34m\u001b[0m\u001b[0;34m\u001b[0m\u001b[0m\n\u001b[1;32m    801\u001b[0m         \u001b[0marr\u001b[0m\u001b[0;34m,\u001b[0m \u001b[0mcolumns\u001b[0m \u001b[0;34m=\u001b[0m \u001b[0m_list_of_series_to_arrays\u001b[0m\u001b[0;34m(\u001b[0m\u001b[0mdata\u001b[0m\u001b[0;34m,\u001b[0m \u001b[0mcolumns\u001b[0m\u001b[0;34m)\u001b[0m\u001b[0;34m\u001b[0m\u001b[0;34m\u001b[0m\u001b[0m\n",
      "\u001b[0;32m~/opt/anaconda3/envs/da-ironhack/lib/python3.9/site-packages/pandas/core/internals/construction.py\u001b[0m in \u001b[0;36m_list_of_dict_to_arrays\u001b[0;34m(data, columns)\u001b[0m\n\u001b[1;32m    882\u001b[0m         \u001b[0mgen\u001b[0m \u001b[0;34m=\u001b[0m \u001b[0;34m(\u001b[0m\u001b[0mlist\u001b[0m\u001b[0;34m(\u001b[0m\u001b[0mx\u001b[0m\u001b[0;34m.\u001b[0m\u001b[0mkeys\u001b[0m\u001b[0;34m(\u001b[0m\u001b[0;34m)\u001b[0m\u001b[0;34m)\u001b[0m \u001b[0;32mfor\u001b[0m \u001b[0mx\u001b[0m \u001b[0;32min\u001b[0m \u001b[0mdata\u001b[0m\u001b[0;34m)\u001b[0m\u001b[0;34m\u001b[0m\u001b[0;34m\u001b[0m\u001b[0m\n\u001b[1;32m    883\u001b[0m         \u001b[0msort\u001b[0m \u001b[0;34m=\u001b[0m \u001b[0;32mnot\u001b[0m \u001b[0many\u001b[0m\u001b[0;34m(\u001b[0m\u001b[0misinstance\u001b[0m\u001b[0;34m(\u001b[0m\u001b[0md\u001b[0m\u001b[0;34m,\u001b[0m \u001b[0mdict\u001b[0m\u001b[0;34m)\u001b[0m \u001b[0;32mfor\u001b[0m \u001b[0md\u001b[0m \u001b[0;32min\u001b[0m \u001b[0mdata\u001b[0m\u001b[0;34m)\u001b[0m\u001b[0;34m\u001b[0m\u001b[0;34m\u001b[0m\u001b[0m\n\u001b[0;32m--> 884\u001b[0;31m         \u001b[0mpre_cols\u001b[0m \u001b[0;34m=\u001b[0m \u001b[0mlib\u001b[0m\u001b[0;34m.\u001b[0m\u001b[0mfast_unique_multiple_list_gen\u001b[0m\u001b[0;34m(\u001b[0m\u001b[0mgen\u001b[0m\u001b[0;34m,\u001b[0m \u001b[0msort\u001b[0m\u001b[0;34m=\u001b[0m\u001b[0msort\u001b[0m\u001b[0;34m)\u001b[0m\u001b[0;34m\u001b[0m\u001b[0;34m\u001b[0m\u001b[0m\n\u001b[0m\u001b[1;32m    885\u001b[0m         \u001b[0mcolumns\u001b[0m \u001b[0;34m=\u001b[0m \u001b[0mensure_index\u001b[0m\u001b[0;34m(\u001b[0m\u001b[0mpre_cols\u001b[0m\u001b[0;34m)\u001b[0m\u001b[0;34m\u001b[0m\u001b[0;34m\u001b[0m\u001b[0m\n\u001b[1;32m    886\u001b[0m \u001b[0;34m\u001b[0m\u001b[0m\n",
      "\u001b[0;32m~/opt/anaconda3/envs/da-ironhack/lib/python3.9/site-packages/pandas/_libs/lib.pyx\u001b[0m in \u001b[0;36mpandas._libs.lib.fast_unique_multiple_list_gen\u001b[0;34m()\u001b[0m\n",
      "\u001b[0;32m~/opt/anaconda3/envs/da-ironhack/lib/python3.9/site-packages/pandas/core/internals/construction.py\u001b[0m in \u001b[0;36m<genexpr>\u001b[0;34m(.0)\u001b[0m\n\u001b[1;32m    880\u001b[0m     \"\"\"\n\u001b[1;32m    881\u001b[0m     \u001b[0;32mif\u001b[0m \u001b[0mcolumns\u001b[0m \u001b[0;32mis\u001b[0m \u001b[0;32mNone\u001b[0m\u001b[0;34m:\u001b[0m\u001b[0;34m\u001b[0m\u001b[0;34m\u001b[0m\u001b[0m\n\u001b[0;32m--> 882\u001b[0;31m         \u001b[0mgen\u001b[0m \u001b[0;34m=\u001b[0m \u001b[0;34m(\u001b[0m\u001b[0mlist\u001b[0m\u001b[0;34m(\u001b[0m\u001b[0mx\u001b[0m\u001b[0;34m.\u001b[0m\u001b[0mkeys\u001b[0m\u001b[0;34m(\u001b[0m\u001b[0;34m)\u001b[0m\u001b[0;34m)\u001b[0m \u001b[0;32mfor\u001b[0m \u001b[0mx\u001b[0m \u001b[0;32min\u001b[0m \u001b[0mdata\u001b[0m\u001b[0;34m)\u001b[0m\u001b[0;34m\u001b[0m\u001b[0;34m\u001b[0m\u001b[0m\n\u001b[0m\u001b[1;32m    883\u001b[0m         \u001b[0msort\u001b[0m \u001b[0;34m=\u001b[0m \u001b[0;32mnot\u001b[0m \u001b[0many\u001b[0m\u001b[0;34m(\u001b[0m\u001b[0misinstance\u001b[0m\u001b[0;34m(\u001b[0m\u001b[0md\u001b[0m\u001b[0;34m,\u001b[0m \u001b[0mdict\u001b[0m\u001b[0;34m)\u001b[0m \u001b[0;32mfor\u001b[0m \u001b[0md\u001b[0m \u001b[0;32min\u001b[0m \u001b[0mdata\u001b[0m\u001b[0;34m)\u001b[0m\u001b[0;34m\u001b[0m\u001b[0;34m\u001b[0m\u001b[0m\n\u001b[1;32m    884\u001b[0m         \u001b[0mpre_cols\u001b[0m \u001b[0;34m=\u001b[0m \u001b[0mlib\u001b[0m\u001b[0;34m.\u001b[0m\u001b[0mfast_unique_multiple_list_gen\u001b[0m\u001b[0;34m(\u001b[0m\u001b[0mgen\u001b[0m\u001b[0;34m,\u001b[0m \u001b[0msort\u001b[0m\u001b[0;34m=\u001b[0m\u001b[0msort\u001b[0m\u001b[0;34m)\u001b[0m\u001b[0;34m\u001b[0m\u001b[0;34m\u001b[0m\u001b[0m\n",
      "\u001b[0;31mAttributeError\u001b[0m: 'NoneType' object has no attribute 'keys'"
     ]
    }
   ],
   "source": [
    "## techno state https://open.spotify.com/playlist/37i9dQZF1DX8ZMwsPgxIOs\n",
    "save_features_csv_for_all_tracks_in_playlist('37i9dQZF1DX8ZMwsPgxIOs')"
   ]
  },
  {
   "cell_type": "markdown",
   "id": "6b4fd4d2",
   "metadata": {},
   "source": [
    "## Loading song titles from our webscraping"
   ]
  },
  {
   "cell_type": "code",
   "execution_count": 4,
   "id": "b8fb8a5e",
   "metadata": {},
   "outputs": [],
   "source": [
    "fname = 'Data/timeout_best-party-songs.csv'\n",
    "\n",
    "my_songs = pd.read_csv(fname, index_col=None)"
   ]
  },
  {
   "cell_type": "code",
   "execution_count": 60,
   "id": "69ec33a8",
   "metadata": {},
   "outputs": [
    {
     "data": {
      "text/html": [
       "<div>\n",
       "<style scoped>\n",
       "    .dataframe tbody tr th:only-of-type {\n",
       "        vertical-align: middle;\n",
       "    }\n",
       "\n",
       "    .dataframe tbody tr th {\n",
       "        vertical-align: top;\n",
       "    }\n",
       "\n",
       "    .dataframe thead th {\n",
       "        text-align: right;\n",
       "    }\n",
       "</style>\n",
       "<table border=\"1\" class=\"dataframe\">\n",
       "  <thead>\n",
       "    <tr style=\"text-align: right;\">\n",
       "      <th></th>\n",
       "      <th>artist</th>\n",
       "      <th>title</th>\n",
       "    </tr>\n",
       "  </thead>\n",
       "  <tbody>\n",
       "    <tr>\n",
       "      <th>0</th>\n",
       "      <td>Madonna</td>\n",
       "      <td>Like a Prayer</td>\n",
       "    </tr>\n",
       "    <tr>\n",
       "      <th>1</th>\n",
       "      <td>Prince</td>\n",
       "      <td>1999</td>\n",
       "    </tr>\n",
       "  </tbody>\n",
       "</table>\n",
       "</div>"
      ],
      "text/plain": [
       "    artist          title\n",
       "0  Madonna  Like a Prayer\n",
       "1   Prince           1999"
      ]
     },
     "execution_count": 60,
     "metadata": {},
     "output_type": "execute_result"
    }
   ],
   "source": [
    "my_songs.head(2)"
   ]
  },
  {
   "cell_type": "code",
   "execution_count": 71,
   "id": "e447b263",
   "metadata": {},
   "outputs": [],
   "source": [
    "results = sp.search(q=my_songs.title[0],limit=1,market=\"GB\")"
   ]
  },
  {
   "cell_type": "code",
   "execution_count": 78,
   "id": "3863a3d9",
   "metadata": {},
   "outputs": [
    {
     "data": {
      "text/plain": [
       "dict_keys(['album', 'artists', 'disc_number', 'duration_ms', 'explicit', 'external_ids', 'external_urls', 'href', 'id', 'is_local', 'is_playable', 'name', 'popularity', 'preview_url', 'track_number', 'type', 'uri'])"
      ]
     },
     "execution_count": 78,
     "metadata": {},
     "output_type": "execute_result"
    }
   ],
   "source": [
    "results['tracks']['items'][0].keys()"
   ]
  },
  {
   "cell_type": "code",
   "execution_count": 79,
   "id": "7f588b4a",
   "metadata": {},
   "outputs": [
    {
     "data": {
      "text/plain": [
       "'1z3ugFmUKoCzGsI6jdY4Ci'"
      ]
     },
     "execution_count": 79,
     "metadata": {},
     "output_type": "execute_result"
    }
   ],
   "source": [
    "results['tracks']['items'][0]['id']"
   ]
  },
  {
   "cell_type": "code",
   "execution_count": 85,
   "id": "59091d47",
   "metadata": {},
   "outputs": [
    {
     "name": "stdout",
     "output_type": "stream",
     "text": [
      "Saved 49 tracks in file: Data/audio_features/timeout_50-best-breakup-songs.csv\n"
     ]
    }
   ],
   "source": [
    "save_features_csv_for_all_tracks_in_artist_title_csv('Data/timeout_50-best-breakup-songs.csv')"
   ]
  },
  {
   "cell_type": "code",
   "execution_count": 86,
   "id": "137fcffe",
   "metadata": {},
   "outputs": [
    {
     "name": "stdout",
     "output_type": "stream",
     "text": [
      "Saved 48 tracks in file: Data/audio_features/timeout_50-best-sad-songs.csv\n",
      "Saved 49 tracks in file: Data/audio_features/timeout_best-90s-songs.csv\n",
      "Saved 48 tracks in file: Data/audio_features/timeout_best-gay-songs.csv\n",
      "Saved 24 tracks in file: Data/audio_features/timeout_best-happy-songs.csv\n",
      "Saved 97 tracks in file: Data/audio_features/timeout_best-party-songs.csv\n",
      "Saved 40 tracks in file: Data/audio_features/timeout_best-pop-songs-of-all-time.csv\n",
      "Saved 50 tracks in file: Data/audio_features/timeout_the-50-best-80s-songs.csv\n",
      "Saved 47 tracks in file: Data/audio_features/timeout_the-50-best-karaoke-songs-ever.csv\n"
     ]
    }
   ],
   "source": [
    "save_features_csv_for_all_tracks_in_artist_title_csv('Data/timeout_50-best-sad-songs.csv')\n",
    "save_features_csv_for_all_tracks_in_artist_title_csv('Data/timeout_best-90s-songs.csv')\n",
    "save_features_csv_for_all_tracks_in_artist_title_csv('Data/timeout_best-gay-songs.csv')\n",
    "save_features_csv_for_all_tracks_in_artist_title_csv('Data/timeout_best-happy-songs.csv')\n",
    "save_features_csv_for_all_tracks_in_artist_title_csv('Data/timeout_best-party-songs.csv')\n",
    "save_features_csv_for_all_tracks_in_artist_title_csv('Data/timeout_best-pop-songs-of-all-time.csv')\n",
    "save_features_csv_for_all_tracks_in_artist_title_csv('Data/timeout_the-50-best-80s-songs.csv')\n",
    "save_features_csv_for_all_tracks_in_artist_title_csv('Data/timeout_the-50-best-karaoke-songs-ever.csv')\n"
   ]
  },
  {
   "cell_type": "code",
   "execution_count": 84,
   "id": "425ab78f",
   "metadata": {},
   "outputs": [],
   "source": [
    "def save_features_csv_for_all_tracks_in_artist_title_csv(infilepath):\n",
    "    \n",
    "    # extract the name of the input file, without the csv suffix\n",
    "    songlistname = '.'.join(os.path.basename(infilepath).split('.')[:-1])\n",
    "    \n",
    "    outdir = os.path.join('Data', 'audio_features')\n",
    "    if not os.path.exists(outdir):\n",
    "        os.mkdir(outdir)\n",
    "    outfilename = os.path.join(outdir, f'{songlistname}.csv')\n",
    "    \n",
    "    my_songs_to_find = pd.read_csv(infilepath, index_col=None)\n",
    "        \n",
    "    list_of_songs=[]\n",
    "    for i in range(my_songs_to_find.shape[0]):\n",
    "        results = sp.search(q=my_songs_to_find.title[i],limit=1,market=\"GB\")\n",
    "        try:\n",
    "            list_of_songs.append(sp.audio_features(results['tracks']['items'][0]['id'])[0])\n",
    "        except:\n",
    "            print(f'Skipping song due to error: {my_songs_to_find.title[i]}')\n",
    "            continue\n",
    "\n",
    "    song_audio_features = pd.DataFrame(list_of_songs)\n",
    "    song_audio_features.to_csv(outfilename, index=False)\n",
    "    \n",
    "    print(f'Saved {my_songs_to_find.shape[0]} tracks in file: {outfilename}')\n",
    "    return"
   ]
  }
 ],
 "metadata": {
  "kernelspec": {
   "display_name": "Python 3 (ipykernel)",
   "language": "python",
   "name": "python3"
  },
  "language_info": {
   "codemirror_mode": {
    "name": "ipython",
    "version": 3
   },
   "file_extension": ".py",
   "mimetype": "text/x-python",
   "name": "python",
   "nbconvert_exporter": "python",
   "pygments_lexer": "ipython3",
   "version": "3.9.7"
  }
 },
 "nbformat": 4,
 "nbformat_minor": 5
}
