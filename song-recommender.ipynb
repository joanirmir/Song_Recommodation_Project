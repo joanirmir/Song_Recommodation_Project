{
 "cells": [
  {
   "cell_type": "code",
   "execution_count": 1,
   "id": "b486b608",
   "metadata": {},
   "outputs": [],
   "source": [
    "from IPython.display import IFrame\n",
    "\n",
    "import numpy as np\n",
    "import pandas as pd\n",
    "import pickle\n",
    "\n",
    "import config\n",
    "import spotipy\n",
    "import json\n",
    "from spotipy.oauth2 import SpotifyClientCredentials\n",
    "\n",
    "from IPython.core.interactiveshell import InteractiveShell\n",
    "InteractiveShell.ast_node_interactivity = \"all\""
   ]
  },
  {
   "cell_type": "code",
   "execution_count": 2,
   "id": "2834ca35",
   "metadata": {},
   "outputs": [],
   "source": [
    "#Initialize SpotiPy with user credentias\n",
    "sp = spotipy.Spotify(auth_manager=SpotifyClientCredentials(client_id= config.client_id,\n",
    "                                                           client_secret= config.client_secret))"
   ]
  },
  {
   "cell_type": "code",
   "execution_count": 3,
   "id": "20ad64d4",
   "metadata": {},
   "outputs": [],
   "source": [
    "def load(filename = \"filename.pickle\"): \n",
    "    try: \n",
    "        with open(filename, \"rb\") as f: \n",
    "            return pickle.load(f) \n",
    "        \n",
    "    except FileNotFoundError: \n",
    "        print(\"File not found!\")"
   ]
  },
  {
   "cell_type": "code",
   "execution_count": 4,
   "id": "eba9a7ef",
   "metadata": {},
   "outputs": [],
   "source": [
    "def display_artist(track_info):\n",
    "## create a single string with all artist names\n",
    "    return \" / \".join([x['name'] for x in track_info['artists']])"
   ]
  },
  {
   "cell_type": "code",
   "execution_count": 5,
   "id": "f2d7a450",
   "metadata": {},
   "outputs": [],
   "source": [
    "def create_artist_input_prompt(artist_names):\n",
    "    user_prompt = \"\"\n",
    "    valid_input = []\n",
    "    \n",
    "    for i in range(len(artist_names)):\n",
    "        my_num = i\n",
    "        user_prompt += f\"Enter {my_num} for '{artist_names[i]}'\\n\"\n",
    "        valid_input.append(str(my_num))\n",
    "    ## space is always none of the above\n",
    "    user_prompt += \"Enter [SPACE] for 'None of the above'\\n\"\n",
    "    valid_input.append(\" \")\n",
    "    \n",
    "    return valid_input, user_prompt"
   ]
  },
  {
   "cell_type": "code",
   "execution_count": 6,
   "id": "8a92b464",
   "metadata": {},
   "outputs": [],
   "source": [
    "def recommend_hot_song(hot_songs_df, not_this_title):\n",
    "    myrec = hot_songs_df.sample()\n",
    "    \n",
    "    if (myrec.title == not_this_title).all():\n",
    "        print(\"DEBUG: try again\")\n",
    "        myrec = hot_songs_df.sample()\n",
    "    return myrec"
   ]
  },
  {
   "cell_type": "code",
   "execution_count": 8,
   "id": "d31ee36b",
   "metadata": {},
   "outputs": [],
   "source": [
    "## Load hot songs df\n",
    "infile_list = ['Data/db/hot/billboard_hot100_2021-02-14.csv', \n",
    "               'Data/db/hot/uk_hot100_2021-02-14.csv', \n",
    "               'Data/db/hot/hot_songs_miri.csv']\n",
    "\n",
    "dfs = []\n",
    "for fname in infile_list:\n",
    "    dfs.append(pd.read_csv(fname, index_col=None))\n",
    "    \n",
    "hot_songs_df = pd.concat(dfs, axis=0)\n",
    "hot_songs_df = hot_songs_df.drop_duplicates().reset_index(drop=True)"
   ]
  }
 ],
 "metadata": {
  "kernelspec": {
   "display_name": "Python 3 (ipykernel)",
   "language": "python",
   "name": "python3"
  },
  "language_info": {
   "codemirror_mode": {
    "name": "ipython",
    "version": 3
   },
   "file_extension": ".py",
   "mimetype": "text/x-python",
   "name": "python",
   "nbconvert_exporter": "python",
   "pygments_lexer": "ipython3",
   "version": "3.9.7"
  }
 },
 "nbformat": 4,
 "nbformat_minor": 5
}
