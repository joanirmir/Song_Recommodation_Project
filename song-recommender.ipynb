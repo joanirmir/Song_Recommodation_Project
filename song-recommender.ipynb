{
 "cells": [
  {
   "cell_type": "code",
   "execution_count": 10,
   "id": "06c8c466",
   "metadata": {},
   "outputs": [],
   "source": [
    "from IPython.display import IFrame\n",
    "\n",
    "import os\n",
    "import numpy as np\n",
    "import pandas as pd\n",
    "import pickle\n",
    "\n",
    "import config\n",
    "import spotipy\n",
    "import json\n",
    "from spotipy.oauth2 import SpotifyClientCredentials\n",
    "\n",
    "from IPython.core.interactiveshell import InteractiveShell\n",
    "InteractiveShell.ast_node_interactivity = \"all\""
   ]
  },
  {
   "cell_type": "code",
   "execution_count": 2,
   "id": "f19ea8f7",
   "metadata": {},
   "outputs": [],
   "source": [
    "#Initialize SpotiPy with user credentias\n",
    "sp = spotipy.Spotify(auth_manager=SpotifyClientCredentials(client_id= config.client_id,\n",
    "                                                           client_secret= config.client_secret))"
   ]
  },
  {
   "cell_type": "code",
   "execution_count": 3,
   "id": "ba3842f5",
   "metadata": {},
   "outputs": [],
   "source": [
    "def load(filename = \"filename.pickle\"): \n",
    "    try: \n",
    "        with open(filename, \"rb\") as f: \n",
    "            return pickle.load(f) \n",
    "        \n",
    "    except FileNotFoundError: \n",
    "        print(\"File not found!\")"
   ]
  },
  {
   "cell_type": "code",
   "execution_count": 4,
   "id": "0f0d0ff2",
   "metadata": {},
   "outputs": [],
   "source": [
    "def display_artist(track_info):\n",
    "## create a single string with all artist names\n",
    "    return \" / \".join([x['name'] for x in track_info['artists']])"
   ]
  },
  {
   "cell_type": "code",
   "execution_count": 5,
   "id": "b6855aca",
   "metadata": {},
   "outputs": [],
   "source": [
    "def create_artist_input_prompt(artist_names):\n",
    "    user_prompt = \"\"\n",
    "    valid_input = []\n",
    "    \n",
    "    for i in range(len(artist_names)):\n",
    "        my_num = i\n",
    "        user_prompt += f\"Enter {my_num} for '{artist_names[i]}'\\n\"\n",
    "        valid_input.append(str(my_num))\n",
    "    ## space is always none of the above\n",
    "    user_prompt += \"Enter [SPACE] for 'None of the above'\\n\"\n",
    "    valid_input.append(\" \")\n",
    "    \n",
    "    return valid_input, user_prompt"
   ]
  },
  {
   "cell_type": "code",
   "execution_count": 6,
   "id": "f1e4fb82",
   "metadata": {},
   "outputs": [],
   "source": [
    "def recommend_hot_song(hot_songs_df, not_this_title):\n",
    "    myrec = hot_songs_df.sample()\n",
    "    \n",
    "    if (myrec.title == not_this_title).all():\n",
    "        print(\"DEBUG: try again\")\n",
    "        myrec = hot_songs_df.sample()\n",
    "    return myrec"
   ]
  },
  {
   "cell_type": "code",
   "execution_count": 8,
   "id": "15e01573",
   "metadata": {},
   "outputs": [],
   "source": [
    "## Load hot songs df\n",
    "infile_list = ['Data/db/hot/billboard_hot100_2021-02-14.csv', \n",
    "               'Data/db/hot/uk_hot100_2021-02-14.csv', \n",
    "               'Data/db/hot/hot_songs_miri.csv']\n",
    "\n",
    "dfs = []\n",
    "for fname in infile_list:\n",
    "    dfs.append(pd.read_csv(fname, index_col=None))\n",
    "    \n",
    "hot_songs_df = pd.concat(dfs, axis=0)\n",
    "hot_songs_df = hot_songs_df.drop_duplicates().reset_index(drop=True)"
   ]
  },
  {
   "cell_type": "code",
   "execution_count": 39,
   "id": "1c7b2afd",
   "metadata": {},
   "outputs": [],
   "source": [
    "## load general songs df\n",
    "indir = 'Data/db'\n",
    "infile_list = os.listdir(indir)\n",
    "\n",
    "dfs = []\n",
    "for fname in infile_list:\n",
    "    if fname.endswith('.csv'):\n",
    "        dfs.append(pd.read_csv(os.path.join(indir, fname), index_col=None))\n",
    "    \n",
    "gen_songs_df = pd.concat(dfs, axis=0)\n",
    "if gen_songs_df[gen_songs_df.isnull().any(axis=1)].shape[0] > 0:\n",
    "    print(f\"Dropping records {gen_songs_df[gen_songs_df.isnull().any(axis=1)].shape[0]} with null values\")\n",
    "    gen_songs_df = gen_songs_df[~gen_songs_df.isnull().any(axis=1)]\n",
    "## drop dups\n",
    "gen_songs_df = gen_songs_df.drop_duplicates().reset_index(drop=True)"
   ]
  },
  {
   "cell_type": "code",
   "execution_count": 45,
   "id": "5cf61569",
   "metadata": {},
   "outputs": [],
   "source": [
    "## define constants\n",
    "MODEL_FEATURES = ['danceability', 'energy', 'key', 'loudness', 'mode', 'speechiness', 'acousticness', \n",
    "        'instrumentalness', 'liveness', 'valence', 'tempo', 'duration_ms', 'time_signature']\n",
    "\n",
    "LABELS_COLNAME = 'k9_cluster'"
   ]
  },
  {
   "cell_type": "code",
   "execution_count": 46,
   "id": "0e51aafd",
   "metadata": {},
   "outputs": [],
   "source": [
    "## create cluster membership filters\n",
    "clusters = np.unique(gen_songs_df[LABELS_COLNAME])\n",
    "cluster_members = {}\n",
    "for cluster in clusters:\n",
    "    cluster_members[cluster] = np.where(gen_songs_df[LABELS_COLNAME] == cluster)"
   ]
  },
  {
   "cell_type": "code",
   "execution_count": 30,
   "id": "a3abfd12",
   "metadata": {},
   "outputs": [],
   "source": [
    "## get models\n",
    "fitted_scaler = load(\"Model/big-scaler.pickle\")\n",
    "fitted_kmeans = load(\"Model/big-kmeans_9.pickle\")"
   ]
  },
  {
   "cell_type": "code",
   "execution_count": 47,
   "id": "ebffe864",
   "metadata": {},
   "outputs": [
    {
     "name": "stdout",
     "output_type": "stream",
     "text": [
      "enter song name: help\n",
      "Based on the track (54Sc7mZQ1RM03STpk4SfaA):\n",
      "\tHelpless\n",
      "\tby Phillipa Soo / Original Broadway Cast of Hamilton\n",
      "\n"
     ]
    },
    {
     "data": {
      "text/html": [
       "\n",
       "        <iframe\n",
       "            width=\"320\"\n",
       "            height=\"80\"\n",
       "            src=\"https://open.spotify.com/embed/track/54Sc7mZQ1RM03STpk4SfaA?frameborder=0&allowtransparency=true&allow=encrypted-media\"\n",
       "            frameborder=\"0\"\n",
       "            allowfullscreen\n",
       "            \n",
       "        ></iframe>\n",
       "        "
      ],
      "text/plain": [
       "<IPython.lib.display.IFrame at 0x7fbed9965370>"
      ]
     },
     "execution_count": 47,
     "metadata": {},
     "output_type": "execute_result"
    },
    {
     "name": "stdout",
     "output_type": "stream",
     "text": [
      "I recommend SIMILAR song (cluster 5):\n",
      "\tMegalomaniac\n",
      "\tby Incubus\n"
     ]
    },
    {
     "data": {
      "text/html": [
       "\n",
       "        <iframe\n",
       "            width=\"320\"\n",
       "            height=\"80\"\n",
       "            src=\"https://open.spotify.com/embed/track/1rSo624QuuCteNxAzsU3SV?frameborder=0&allowtransparency=true&allow=encrypted-media\"\n",
       "            frameborder=\"0\"\n",
       "            allowfullscreen\n",
       "            \n",
       "        ></iframe>\n",
       "        "
      ],
      "text/plain": [
       "<IPython.lib.display.IFrame at 0x7fbed996c9d0>"
      ]
     },
     "execution_count": 47,
     "metadata": {},
     "output_type": "execute_result"
    }
   ],
   "source": [
    "## ---- ready for user query ----\n",
    "userinput_songname = input(\"enter song name: \")\n",
    "\n",
    "results = sp.search(q=userinput_songname, type='track', limit=1, market=\"GB\")\n",
    "\n",
    "if results is None:\n",
    "    print('Sorry, that track name is not recognised')\n",
    "else:\n",
    "    # collect track details\n",
    "    track_info = results['tracks']['items'][0]\n",
    "    \n",
    "    print(f\"Based on the track ({track_info['id']}):\\n\\t{track_info['name']}\\n\\tby {display_artist(track_info)}\\n\")\n",
    "    \n",
    "    IFrame(src=\"https://open.spotify.com/embed/track/\"+track_info['id'],\n",
    "       width=\"320\",\n",
    "       height=\"80\",\n",
    "       frameborder=\"0\",\n",
    "       allowtransparency=\"true\",\n",
    "       allow=\"encrypted-media\",\n",
    "      )\n",
    "    \n",
    "    if track_info['id'] in hot_songs_df.id.to_list():\n",
    "        randhot = recommend_hot_song(hot_songs_df, selected_song.title)\n",
    "        print(f\"I recommend HOT song: {randhot.title.values[0]} by {randhot.pp_artist.values[0]}\")\n",
    "        IFrame(src=\"https://open.spotify.com/embed/track/\"+randhot.id.values[0],\n",
    "                   width=\"320\",\n",
    "                   height=\"80\",\n",
    "                   frameborder=\"0\",\n",
    "                   allowtransparency=\"true\",\n",
    "                   allow=\"encrypted-media\",\n",
    "                  )\n",
    "    else:\n",
    "        # recommend something similar\n",
    "        ## is this track already in our database?\n",
    "        if track_info['id'] in gen_songs_df.id:\n",
    "            print('I know this one!')\n",
    "            track_label = gen_songs_df[gen_songs_df.id == track_info.id][CLUSTERING]\n",
    "        else:\n",
    "            ## get the label for these audio features\n",
    "            full_track_audio_features = sp.audio_features(track_info['id'])[0]\n",
    "            if full_track_audio_features is None:\n",
    "                print(\"Error! I don't know what that song sounds like :(\")\n",
    "            else:\n",
    "                track_audio_features = pd.DataFrame({ky: full_track_audio_features[ky] for ky in MODEL_FEATURES},\n",
    "                                                    index=[0])\n",
    "\n",
    "                track_audio_features_scaled = fitted_scaler.transform(track_audio_features)\n",
    "                track_audio_features_scaled_df = pd.DataFrame(track_audio_features_scaled, \n",
    "                                                              columns = track_audio_features.columns)\n",
    "                track_label = fitted_kmeans.predict(track_audio_features_scaled_df)[0]\n",
    "\n",
    "        randsimilar = gen_songs_df.loc[cluster_members[track_label]].sample()\n",
    "        print(f\"I recommend SIMILAR song (cluster {track_label}):\")\n",
    "        print(f\"\\t{randsimilar.title.values[0]}\\n\\tby {randsimilar.pp_artist.values[0]}\")\n",
    "        IFrame(src=\"https://open.spotify.com/embed/track/\"+randsimilar.id.values[0],\n",
    "                   width=\"320\",\n",
    "                   height=\"80\",\n",
    "                   frameborder=\"0\",\n",
    "                   allowtransparency=\"true\",\n",
    "                   allow=\"encrypted-media\",\n",
    "                  )"
   ]
  },
  {
   "cell_type": "code",
   "execution_count": null,
   "id": "bdd55202",
   "metadata": {},
   "outputs": [],
   "source": []
  }
 ],
 "metadata": {
  "kernelspec": {
   "display_name": "Python 3 (ipykernel)",
   "language": "python",
   "name": "python3"
  },
  "language_info": {
   "codemirror_mode": {
    "name": "ipython",
    "version": 3
   },
   "file_extension": ".py",
   "mimetype": "text/x-python",
   "name": "python",
   "nbconvert_exporter": "python",
   "pygments_lexer": "ipython3",
   "version": "3.9.7"
  }
 },
 "nbformat": 4,
 "nbformat_minor": 5
}
