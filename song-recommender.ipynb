{
 "cells": [
  {
   "cell_type": "code",
   "execution_count": 10,
   "id": "11effdc4",
   "metadata": {},
   "outputs": [],
   "source": [
    "from IPython.display import IFrame\n",
    "\n",
    "import os\n",
    "import numpy as np\n",
    "import pandas as pd\n",
    "import pickle\n",
    "\n",
    "import config\n",
    "import spotipy\n",
    "import json\n",
    "from spotipy.oauth2 import SpotifyClientCredentials\n",
    "\n",
    "from IPython.core.interactiveshell import InteractiveShell\n",
    "InteractiveShell.ast_node_interactivity = \"all\""
   ]
  },
  {
   "cell_type": "code",
   "execution_count": 2,
   "id": "d25b2322",
   "metadata": {},
   "outputs": [],
   "source": [
    "#Initialize SpotiPy with user credentias\n",
    "sp = spotipy.Spotify(auth_manager=SpotifyClientCredentials(client_id= config.client_id,\n",
    "                                                           client_secret= config.client_secret))"
   ]
  },
  {
   "cell_type": "code",
   "execution_count": 3,
   "id": "9f05625d",
   "metadata": {},
   "outputs": [],
   "source": [
    "def load(filename = \"filename.pickle\"): \n",
    "    try: \n",
    "        with open(filename, \"rb\") as f: \n",
    "            return pickle.load(f) \n",
    "        \n",
    "    except FileNotFoundError: \n",
    "        print(\"File not found!\")"
   ]
  },
  {
   "cell_type": "code",
   "execution_count": 4,
   "id": "3f7e6d40",
   "metadata": {},
   "outputs": [],
   "source": [
    "def display_artist(track_info):\n",
    "## create a single string with all artist names\n",
    "    return \" / \".join([x['name'] for x in track_info['artists']])"
   ]
  },
  {
   "cell_type": "code",
   "execution_count": 5,
   "id": "80f33037",
   "metadata": {},
   "outputs": [],
   "source": [
    "def create_artist_input_prompt(artist_names):\n",
    "    user_prompt = \"\"\n",
    "    valid_input = []\n",
    "    \n",
    "    for i in range(len(artist_names)):\n",
    "        my_num = i\n",
    "        user_prompt += f\"Enter {my_num} for '{artist_names[i]}'\\n\"\n",
    "        valid_input.append(str(my_num))\n",
    "    ## space is always none of the above\n",
    "    user_prompt += \"Enter [SPACE] for 'None of the above'\\n\"\n",
    "    valid_input.append(\" \")\n",
    "    \n",
    "    return valid_input, user_prompt"
   ]
  },
  {
   "cell_type": "code",
   "execution_count": 6,
   "id": "2fc7ea84",
   "metadata": {},
   "outputs": [],
   "source": [
    "def recommend_hot_song(hot_songs_df, not_this_title):\n",
    "    myrec = hot_songs_df.sample()\n",
    "    \n",
    "    if (myrec.title == not_this_title).all():\n",
    "        print(\"DEBUG: try again\")\n",
    "        myrec = hot_songs_df.sample()\n",
    "    return myrec"
   ]
  },
  {
   "cell_type": "code",
   "execution_count": 8,
   "id": "4c3551cb",
   "metadata": {},
   "outputs": [],
   "source": [
    "## Load hot songs df\n",
    "infile_list = ['Data/db/hot/billboard_hot100_2021-02-14.csv', \n",
    "               'Data/db/hot/uk_hot100_2021-02-14.csv', \n",
    "               'Data/db/hot/hot_songs_miri.csv']\n",
    "\n",
    "dfs = []\n",
    "for fname in infile_list:\n",
    "    dfs.append(pd.read_csv(fname, index_col=None))\n",
    "    \n",
    "hot_songs_df = pd.concat(dfs, axis=0)\n",
    "hot_songs_df = hot_songs_df.drop_duplicates().reset_index(drop=True)"
   ]
  },
  {
   "cell_type": "code",
   "execution_count": 11,
   "id": "fe6ac2b1",
   "metadata": {},
   "outputs": [],
   "source": [
    "## load general songs df --- NEED TO FIX NULL VALUES IN INPUT FILES FOR THIS TO WORK \n",
    "# indir = 'Data/db'\n",
    "# infile_list = os.listdir(indir)\n",
    "\n",
    "# dfs = []\n",
    "# for fname in infile_list:\n",
    "#     if fname.endswith('.csv'):\n",
    "#         dfs.append(pd.read_csv(os.path.join(indir, fname), index_col=None))\n",
    "    \n",
    "# gen_songs_df = pd.concat(dfs, axis=0)\n",
    "# gen_songs_df = gen_songs_df.drop_duplicates().reset_index(drop=True)"
   ]
  },
  {
   "cell_type": "code",
   "execution_count": 26,
   "id": "06cca3cc",
   "metadata": {},
   "outputs": [],
   "source": [
    "## load general songs df -- keep using my old data for now\n",
    "gen_songs_df = pd.read_csv('Data/db/day4/nina_day4_labeled_tracks.csv')\n",
    "if gen_songs_df[gen_songs_df.isnull().any(axis=1)].shape[0] != 0:\n",
    "    print(\"Error! General songs DB has records with null values\")\n",
    "gen_songs_df = gen_songs_df.drop_duplicates().reset_index(drop=True)"
   ]
  },
  {
   "cell_type": "code",
   "execution_count": 27,
   "id": "5da8a2c2",
   "metadata": {},
   "outputs": [
    {
     "data": {
      "text/plain": [
       "(2377, 5)"
      ]
     },
     "execution_count": 27,
     "metadata": {},
     "output_type": "execute_result"
    }
   ],
   "source": [
    "gen_songs_df.shape"
   ]
  },
  {
   "cell_type": "code",
   "execution_count": 28,
   "id": "febdcb86",
   "metadata": {},
   "outputs": [],
   "source": [
    "## define constants\n",
    "MODEL_FEATURES = ['danceability', 'energy', 'key', 'loudness', 'mode', 'speechiness', 'acousticness', \n",
    "        'instrumentalness', 'liveness', 'valence', 'tempo', 'duration_ms', 'time_signature']\n",
    "\n",
    "LABELS_COLNAME = 'k7_cluster_label'"
   ]
  },
  {
   "cell_type": "code",
   "execution_count": 29,
   "id": "a36413ba",
   "metadata": {},
   "outputs": [],
   "source": [
    "## create cluster membership filters\n",
    "clusters = np.unique(gen_songs_df[LABELS_COLNAME])\n",
    "cluster_members = {}\n",
    "for cluster in clusters:\n",
    "    cluster_members[cluster] = np.where(gen_songs_df[LABELS_COLNAME] == cluster)"
   ]
  },
  {
   "cell_type": "code",
   "execution_count": 30,
   "id": "8e9ff043",
   "metadata": {},
   "outputs": [],
   "source": [
    "## get models\n",
    "fitted_scaler = load(\"Model/nina-scaler.pickle\")\n",
    "fitted_kmeans = load(\"Model/nina-kmeans_7.pickle\")"
   ]
  },
  {
   "cell_type": "code",
   "execution_count": null,
   "id": "c50eaaa4",
   "metadata": {},
   "outputs": [],
   "source": [
    "## ---- ready for user query ----\n",
    "userinput_songname = input(\"enter song name: \")\n",
    "\n",
    "results = sp.search(q=userinput_songname, type='track', limit=1, market=\"GB\")\n",
    "\n",
    "if results is None:\n",
    "    print('Sorry, that track name is not recognised')\n",
    "else:\n",
    "    # collect track details\n",
    "    track_info = results['tracks']['items'][0]\n",
    "    \n",
    "    print(f\"Based on the track ({track_info['id']}):\\n\\t{track_info['name']}\\n\\tby {display_artist(track_info)}\\n\")\n",
    "    \n",
    "    IFrame(src=\"https://open.spotify.com/embed/track/\"+track_info['id'],\n",
    "       width=\"320\",\n",
    "       height=\"80\",\n",
    "       frameborder=\"0\",\n",
    "       allowtransparency=\"true\",\n",
    "       allow=\"encrypted-media\",\n",
    "      )\n",
    "    \n",
    "    if track_info['id'] in hot_songs_df.id.to_list():\n",
    "        randhot = recommend_hot_song(hot_songs_df, selected_song.title)\n",
    "        print(f\"I recommend HOT song: {randhot.title.values[0]} by {randhot.pp_artist.values[0]}\")\n",
    "        IFrame(src=\"https://open.spotify.com/embed/track/\"+randhot.id.values[0],\n",
    "                   width=\"320\",\n",
    "                   height=\"80\",\n",
    "                   frameborder=\"0\",\n",
    "                   allowtransparency=\"true\",\n",
    "                   allow=\"encrypted-media\",\n",
    "                  )\n",
    "    else:\n",
    "        # recommend something similar\n",
    "        ## is this track already in our database?\n",
    "        if track_info['id'] in gen_songs_df.id:\n",
    "            print('I know this one!')\n",
    "            track_label = gen_songs_df[gen_songs_df.id == track_info.id][CLUSTERING]\n",
    "        else:\n",
    "            ## get the label for these audio features\n",
    "            full_track_audio_features = sp.audio_features(track_info['id'])[0]\n",
    "            if full_track_audio_features is None:\n",
    "                print(\"Error! I don't know what that song sounds like :(\")\n",
    "            else:\n",
    "                track_audio_features = pd.DataFrame({ky: full_track_audio_features[ky] for ky in MODEL_FEATURES},\n",
    "                                                    index=[0])\n",
    "\n",
    "                track_audio_features_scaled = fitted_scaler.transform(track_audio_features)\n",
    "                track_audio_features_scaled_df = pd.DataFrame(track_audio_features_scaled, \n",
    "                                                              columns = track_audio_features.columns)\n",
    "                track_label = fitted_kmeans.predict(track_audio_features_scaled_df)[0]\n",
    "\n",
    "        randsimilar = gen_songs_df.loc[cluster_members[track_label]].sample()\n",
    "        print(f\"I recommend SIMILAR song (cluster {track_label}):\")\n",
    "        print(f\"\\t{randsimilar.title.values[0]}\\n\\tby {randsimilar.pp_artist.values[0]}\")\n",
    "        IFrame(src=\"https://open.spotify.com/embed/track/\"+randsimilar.id.values[0],\n",
    "                   width=\"320\",\n",
    "                   height=\"80\",\n",
    "                   frameborder=\"0\",\n",
    "                   allowtransparency=\"true\",\n",
    "                   allow=\"encrypted-media\",\n",
    "                  )"
   ]
  },
  {
   "cell_type": "code",
   "execution_count": null,
   "id": "e9f39845",
   "metadata": {},
   "outputs": [],
   "source": []
  }
 ],
 "metadata": {
  "kernelspec": {
   "display_name": "Python 3 (ipykernel)",
   "language": "python",
   "name": "python3"
  },
  "language_info": {
   "codemirror_mode": {
    "name": "ipython",
    "version": 3
   },
   "file_extension": ".py",
   "mimetype": "text/x-python",
   "name": "python",
   "nbconvert_exporter": "python",
   "pygments_lexer": "ipython3",
   "version": "3.9.7"
  }
 },
 "nbformat": 4,
 "nbformat_minor": 5
}
